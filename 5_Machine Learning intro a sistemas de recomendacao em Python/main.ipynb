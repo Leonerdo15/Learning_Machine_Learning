{
 "cells": [
  {
   "cell_type": "code",
   "execution_count": 3,
   "metadata": {
    "collapsed": true
   },
   "outputs": [
    {
     "data": {
      "text/plain": "                                     titulo  \\\nfilmeId                                       \n1                          Toy Story (1995)   \n2                            Jumanji (1995)   \n3                   Grumpier Old Men (1995)   \n4                  Waiting to Exhale (1995)   \n5        Father of the Bride Part II (1995)   \n\n                                             generos  \nfilmeId                                               \n1        Adventure|Animation|Children|Comedy|Fantasy  \n2                         Adventure|Children|Fantasy  \n3                                     Comedy|Romance  \n4                               Comedy|Drama|Romance  \n5                                             Comedy  ",
      "text/html": "<div>\n<style scoped>\n    .dataframe tbody tr th:only-of-type {\n        vertical-align: middle;\n    }\n\n    .dataframe tbody tr th {\n        vertical-align: top;\n    }\n\n    .dataframe thead th {\n        text-align: right;\n    }\n</style>\n<table border=\"1\" class=\"dataframe\">\n  <thead>\n    <tr style=\"text-align: right;\">\n      <th></th>\n      <th>titulo</th>\n      <th>generos</th>\n    </tr>\n    <tr>\n      <th>filmeId</th>\n      <th></th>\n      <th></th>\n    </tr>\n  </thead>\n  <tbody>\n    <tr>\n      <th>1</th>\n      <td>Toy Story (1995)</td>\n      <td>Adventure|Animation|Children|Comedy|Fantasy</td>\n    </tr>\n    <tr>\n      <th>2</th>\n      <td>Jumanji (1995)</td>\n      <td>Adventure|Children|Fantasy</td>\n    </tr>\n    <tr>\n      <th>3</th>\n      <td>Grumpier Old Men (1995)</td>\n      <td>Comedy|Romance</td>\n    </tr>\n    <tr>\n      <th>4</th>\n      <td>Waiting to Exhale (1995)</td>\n      <td>Comedy|Drama|Romance</td>\n    </tr>\n    <tr>\n      <th>5</th>\n      <td>Father of the Bride Part II (1995)</td>\n      <td>Comedy</td>\n    </tr>\n  </tbody>\n</table>\n</div>"
     },
     "execution_count": 2,
     "metadata": {},
     "output_type": "execute_result"
    },
    {
     "data": {
      "text/plain": "                                     titulo  \\\nfilmeId                                       \n1                          Toy Story (1995)   \n2                            Jumanji (1995)   \n3                   Grumpier Old Men (1995)   \n4                  Waiting to Exhale (1995)   \n5        Father of the Bride Part II (1995)   \n\n                                             generos  \nfilmeId                                               \n1        Adventure|Animation|Children|Comedy|Fantasy  \n2                         Adventure|Children|Fantasy  \n3                                     Comedy|Romance  \n4                               Comedy|Drama|Romance  \n5                                             Comedy  ",
      "text/html": "<div>\n<style scoped>\n    .dataframe tbody tr th:only-of-type {\n        vertical-align: middle;\n    }\n\n    .dataframe tbody tr th {\n        vertical-align: top;\n    }\n\n    .dataframe thead th {\n        text-align: right;\n    }\n</style>\n<table border=\"1\" class=\"dataframe\">\n  <thead>\n    <tr style=\"text-align: right;\">\n      <th></th>\n      <th>titulo</th>\n      <th>generos</th>\n    </tr>\n    <tr>\n      <th>filmeId</th>\n      <th></th>\n      <th></th>\n    </tr>\n  </thead>\n  <tbody>\n    <tr>\n      <th>1</th>\n      <td>Toy Story (1995)</td>\n      <td>Adventure|Animation|Children|Comedy|Fantasy</td>\n    </tr>\n    <tr>\n      <th>2</th>\n      <td>Jumanji (1995)</td>\n      <td>Adventure|Children|Fantasy</td>\n    </tr>\n    <tr>\n      <th>3</th>\n      <td>Grumpier Old Men (1995)</td>\n      <td>Comedy|Romance</td>\n    </tr>\n    <tr>\n      <th>4</th>\n      <td>Waiting to Exhale (1995)</td>\n      <td>Comedy|Drama|Romance</td>\n    </tr>\n    <tr>\n      <th>5</th>\n      <td>Father of the Bride Part II (1995)</td>\n      <td>Comedy</td>\n    </tr>\n  </tbody>\n</table>\n</div>"
     },
     "execution_count": 3,
     "metadata": {},
     "output_type": "execute_result"
    }
   ],
   "source": [
    "import pandas as pd\n",
    "\n",
    "filmes = pd.read_csv(\"ml-latest-small/movies.csv\")\n",
    "filmes.columns = [\"filmeId\",\"titulo\",\"generos\"]\n",
    "filmes = filmes.set_index(\"filmeId\")\n",
    "filmes.head()"
   ]
  },
  {
   "cell_type": "code",
   "execution_count": 4,
   "outputs": [
    {
     "data": {
      "text/plain": "     usuarioId  filmeId  nota     momento\n0            1        1   4.0   964982703\n1            1        3   4.0   964981247\n2            1        6   4.0   964982224\n3            1       47   5.0   964983815\n4            1       50   5.0   964982931\n..         ...      ...   ...         ...\n295          3     7899   4.5  1306464036\n296          3     7991   5.0  1306463684\n297          3    26409   4.5  1306463993\n298          3    70946   5.0  1306463815\n299          3    72378   0.5  1306464164\n\n[300 rows x 4 columns]",
      "text/html": "<div>\n<style scoped>\n    .dataframe tbody tr th:only-of-type {\n        vertical-align: middle;\n    }\n\n    .dataframe tbody tr th {\n        vertical-align: top;\n    }\n\n    .dataframe thead th {\n        text-align: right;\n    }\n</style>\n<table border=\"1\" class=\"dataframe\">\n  <thead>\n    <tr style=\"text-align: right;\">\n      <th></th>\n      <th>usuarioId</th>\n      <th>filmeId</th>\n      <th>nota</th>\n      <th>momento</th>\n    </tr>\n  </thead>\n  <tbody>\n    <tr>\n      <th>0</th>\n      <td>1</td>\n      <td>1</td>\n      <td>4.0</td>\n      <td>964982703</td>\n    </tr>\n    <tr>\n      <th>1</th>\n      <td>1</td>\n      <td>3</td>\n      <td>4.0</td>\n      <td>964981247</td>\n    </tr>\n    <tr>\n      <th>2</th>\n      <td>1</td>\n      <td>6</td>\n      <td>4.0</td>\n      <td>964982224</td>\n    </tr>\n    <tr>\n      <th>3</th>\n      <td>1</td>\n      <td>47</td>\n      <td>5.0</td>\n      <td>964983815</td>\n    </tr>\n    <tr>\n      <th>4</th>\n      <td>1</td>\n      <td>50</td>\n      <td>5.0</td>\n      <td>964982931</td>\n    </tr>\n    <tr>\n      <th>...</th>\n      <td>...</td>\n      <td>...</td>\n      <td>...</td>\n      <td>...</td>\n    </tr>\n    <tr>\n      <th>295</th>\n      <td>3</td>\n      <td>7899</td>\n      <td>4.5</td>\n      <td>1306464036</td>\n    </tr>\n    <tr>\n      <th>296</th>\n      <td>3</td>\n      <td>7991</td>\n      <td>5.0</td>\n      <td>1306463684</td>\n    </tr>\n    <tr>\n      <th>297</th>\n      <td>3</td>\n      <td>26409</td>\n      <td>4.5</td>\n      <td>1306463993</td>\n    </tr>\n    <tr>\n      <th>298</th>\n      <td>3</td>\n      <td>70946</td>\n      <td>5.0</td>\n      <td>1306463815</td>\n    </tr>\n    <tr>\n      <th>299</th>\n      <td>3</td>\n      <td>72378</td>\n      <td>0.5</td>\n      <td>1306464164</td>\n    </tr>\n  </tbody>\n</table>\n<p>300 rows × 4 columns</p>\n</div>"
     },
     "execution_count": 4,
     "metadata": {},
     "output_type": "execute_result"
    }
   ],
   "source": [
    "notas = pd.read_csv(\"ml-latest-small/ratings.csv\")\n",
    "notas.columns = [\"usuarioId\",\"filmeId\",\"nota\",\"momento\"]\n",
    "notas.head(300)"
   ],
   "metadata": {
    "collapsed": false
   }
  },
  {
   "cell_type": "code",
   "execution_count": 13,
   "outputs": [
    {
     "data": {
      "text/plain": "           usuarioId        filmeId           nota       momento\ncount  100836.000000  100836.000000  100836.000000  1.008360e+05\nmean      326.127564   19435.295718       3.501557  1.205946e+09\nstd       182.618491   35530.987199       1.042529  2.162610e+08\nmin         1.000000       1.000000       0.500000  8.281246e+08\n25%       177.000000    1199.000000       3.000000  1.019124e+09\n50%       325.000000    2991.000000       3.500000  1.186087e+09\n75%       477.000000    8122.000000       4.000000  1.435994e+09\nmax       610.000000  193609.000000       5.000000  1.537799e+09",
      "text/html": "<div>\n<style scoped>\n    .dataframe tbody tr th:only-of-type {\n        vertical-align: middle;\n    }\n\n    .dataframe tbody tr th {\n        vertical-align: top;\n    }\n\n    .dataframe thead th {\n        text-align: right;\n    }\n</style>\n<table border=\"1\" class=\"dataframe\">\n  <thead>\n    <tr style=\"text-align: right;\">\n      <th></th>\n      <th>usuarioId</th>\n      <th>filmeId</th>\n      <th>nota</th>\n      <th>momento</th>\n    </tr>\n  </thead>\n  <tbody>\n    <tr>\n      <th>count</th>\n      <td>100836.000000</td>\n      <td>100836.000000</td>\n      <td>100836.000000</td>\n      <td>1.008360e+05</td>\n    </tr>\n    <tr>\n      <th>mean</th>\n      <td>326.127564</td>\n      <td>19435.295718</td>\n      <td>3.501557</td>\n      <td>1.205946e+09</td>\n    </tr>\n    <tr>\n      <th>std</th>\n      <td>182.618491</td>\n      <td>35530.987199</td>\n      <td>1.042529</td>\n      <td>2.162610e+08</td>\n    </tr>\n    <tr>\n      <th>min</th>\n      <td>1.000000</td>\n      <td>1.000000</td>\n      <td>0.500000</td>\n      <td>8.281246e+08</td>\n    </tr>\n    <tr>\n      <th>25%</th>\n      <td>177.000000</td>\n      <td>1199.000000</td>\n      <td>3.000000</td>\n      <td>1.019124e+09</td>\n    </tr>\n    <tr>\n      <th>50%</th>\n      <td>325.000000</td>\n      <td>2991.000000</td>\n      <td>3.500000</td>\n      <td>1.186087e+09</td>\n    </tr>\n    <tr>\n      <th>75%</th>\n      <td>477.000000</td>\n      <td>8122.000000</td>\n      <td>4.000000</td>\n      <td>1.435994e+09</td>\n    </tr>\n    <tr>\n      <th>max</th>\n      <td>610.000000</td>\n      <td>193609.000000</td>\n      <td>5.000000</td>\n      <td>1.537799e+09</td>\n    </tr>\n  </tbody>\n</table>\n</div>"
     },
     "execution_count": 13,
     "metadata": {},
     "output_type": "execute_result"
    }
   ],
   "source": [
    "notas.describe()"
   ],
   "metadata": {
    "collapsed": false
   }
  },
  {
   "cell_type": "code",
   "execution_count": 14,
   "outputs": [
    {
     "data": {
      "text/plain": "356     329\n318     317\n296     307\n593     279\n2571    278\nName: filmeId, dtype: int64"
     },
     "execution_count": 14,
     "metadata": {},
     "output_type": "execute_result"
    }
   ],
   "source": [
    "total_de_votos = notas[\"filmeId\"].value_counts()\n",
    "total_de_votos.head()"
   ],
   "metadata": {
    "collapsed": false
   }
  },
  {
   "cell_type": "code",
   "execution_count": 15,
   "outputs": [
    {
     "data": {
      "text/plain": "titulo          Forrest Gump (1994)\ngeneros    Comedy|Drama|Romance|War\nName: 356, dtype: object"
     },
     "execution_count": 15,
     "metadata": {},
     "output_type": "execute_result"
    }
   ],
   "source": [
    "filmes.loc[356]"
   ],
   "metadata": {
    "collapsed": false
   }
  },
  {
   "cell_type": "code",
   "execution_count": 16,
   "outputs": [],
   "source": [
    "filmes[\"total_de_votos\"] = total_de_votos"
   ],
   "metadata": {
    "collapsed": false
   }
  },
  {
   "cell_type": "code",
   "execution_count": 17,
   "outputs": [
    {
     "data": {
      "text/plain": "                                            titulo  \\\nfilmeId                                              \n1                                 Toy Story (1995)   \n2                                   Jumanji (1995)   \n3                          Grumpier Old Men (1995)   \n4                         Waiting to Exhale (1995)   \n5               Father of the Bride Part II (1995)   \n...                                            ...   \n193581   Black Butler: Book of the Atlantic (2017)   \n193583                No Game No Life: Zero (2017)   \n193585                                Flint (2017)   \n193587         Bungo Stray Dogs: Dead Apple (2018)   \n193609         Andrew Dice Clay: Dice Rules (1991)   \n\n                                             generos  total_de_votos  \nfilmeId                                                               \n1        Adventure|Animation|Children|Comedy|Fantasy           215.0  \n2                         Adventure|Children|Fantasy           110.0  \n3                                     Comedy|Romance            52.0  \n4                               Comedy|Drama|Romance             7.0  \n5                                             Comedy            49.0  \n...                                              ...             ...  \n193581               Action|Animation|Comedy|Fantasy             1.0  \n193583                      Animation|Comedy|Fantasy             1.0  \n193585                                         Drama             1.0  \n193587                              Action|Animation             1.0  \n193609                                        Comedy             1.0  \n\n[9742 rows x 3 columns]",
      "text/html": "<div>\n<style scoped>\n    .dataframe tbody tr th:only-of-type {\n        vertical-align: middle;\n    }\n\n    .dataframe tbody tr th {\n        vertical-align: top;\n    }\n\n    .dataframe thead th {\n        text-align: right;\n    }\n</style>\n<table border=\"1\" class=\"dataframe\">\n  <thead>\n    <tr style=\"text-align: right;\">\n      <th></th>\n      <th>titulo</th>\n      <th>generos</th>\n      <th>total_de_votos</th>\n    </tr>\n    <tr>\n      <th>filmeId</th>\n      <th></th>\n      <th></th>\n      <th></th>\n    </tr>\n  </thead>\n  <tbody>\n    <tr>\n      <th>1</th>\n      <td>Toy Story (1995)</td>\n      <td>Adventure|Animation|Children|Comedy|Fantasy</td>\n      <td>215.0</td>\n    </tr>\n    <tr>\n      <th>2</th>\n      <td>Jumanji (1995)</td>\n      <td>Adventure|Children|Fantasy</td>\n      <td>110.0</td>\n    </tr>\n    <tr>\n      <th>3</th>\n      <td>Grumpier Old Men (1995)</td>\n      <td>Comedy|Romance</td>\n      <td>52.0</td>\n    </tr>\n    <tr>\n      <th>4</th>\n      <td>Waiting to Exhale (1995)</td>\n      <td>Comedy|Drama|Romance</td>\n      <td>7.0</td>\n    </tr>\n    <tr>\n      <th>5</th>\n      <td>Father of the Bride Part II (1995)</td>\n      <td>Comedy</td>\n      <td>49.0</td>\n    </tr>\n    <tr>\n      <th>...</th>\n      <td>...</td>\n      <td>...</td>\n      <td>...</td>\n    </tr>\n    <tr>\n      <th>193581</th>\n      <td>Black Butler: Book of the Atlantic (2017)</td>\n      <td>Action|Animation|Comedy|Fantasy</td>\n      <td>1.0</td>\n    </tr>\n    <tr>\n      <th>193583</th>\n      <td>No Game No Life: Zero (2017)</td>\n      <td>Animation|Comedy|Fantasy</td>\n      <td>1.0</td>\n    </tr>\n    <tr>\n      <th>193585</th>\n      <td>Flint (2017)</td>\n      <td>Drama</td>\n      <td>1.0</td>\n    </tr>\n    <tr>\n      <th>193587</th>\n      <td>Bungo Stray Dogs: Dead Apple (2018)</td>\n      <td>Action|Animation</td>\n      <td>1.0</td>\n    </tr>\n    <tr>\n      <th>193609</th>\n      <td>Andrew Dice Clay: Dice Rules (1991)</td>\n      <td>Comedy</td>\n      <td>1.0</td>\n    </tr>\n  </tbody>\n</table>\n<p>9742 rows × 3 columns</p>\n</div>"
     },
     "execution_count": 17,
     "metadata": {},
     "output_type": "execute_result"
    }
   ],
   "source": [
    "filmes"
   ],
   "metadata": {
    "collapsed": false
   }
  },
  {
   "cell_type": "code",
   "execution_count": 18,
   "outputs": [
    {
     "data": {
      "text/plain": "                                     titulo  \\\nfilmeId                                       \n1                          Toy Story (1995)   \n2                            Jumanji (1995)   \n3                   Grumpier Old Men (1995)   \n4                  Waiting to Exhale (1995)   \n5        Father of the Bride Part II (1995)   \n\n                                             generos  total_de_votos  \nfilmeId                                                               \n1        Adventure|Animation|Children|Comedy|Fantasy           215.0  \n2                         Adventure|Children|Fantasy           110.0  \n3                                     Comedy|Romance            52.0  \n4                               Comedy|Drama|Romance             7.0  \n5                                             Comedy            49.0  ",
      "text/html": "<div>\n<style scoped>\n    .dataframe tbody tr th:only-of-type {\n        vertical-align: middle;\n    }\n\n    .dataframe tbody tr th {\n        vertical-align: top;\n    }\n\n    .dataframe thead th {\n        text-align: right;\n    }\n</style>\n<table border=\"1\" class=\"dataframe\">\n  <thead>\n    <tr style=\"text-align: right;\">\n      <th></th>\n      <th>titulo</th>\n      <th>generos</th>\n      <th>total_de_votos</th>\n    </tr>\n    <tr>\n      <th>filmeId</th>\n      <th></th>\n      <th></th>\n      <th></th>\n    </tr>\n  </thead>\n  <tbody>\n    <tr>\n      <th>1</th>\n      <td>Toy Story (1995)</td>\n      <td>Adventure|Animation|Children|Comedy|Fantasy</td>\n      <td>215.0</td>\n    </tr>\n    <tr>\n      <th>2</th>\n      <td>Jumanji (1995)</td>\n      <td>Adventure|Children|Fantasy</td>\n      <td>110.0</td>\n    </tr>\n    <tr>\n      <th>3</th>\n      <td>Grumpier Old Men (1995)</td>\n      <td>Comedy|Romance</td>\n      <td>52.0</td>\n    </tr>\n    <tr>\n      <th>4</th>\n      <td>Waiting to Exhale (1995)</td>\n      <td>Comedy|Drama|Romance</td>\n      <td>7.0</td>\n    </tr>\n    <tr>\n      <th>5</th>\n      <td>Father of the Bride Part II (1995)</td>\n      <td>Comedy</td>\n      <td>49.0</td>\n    </tr>\n  </tbody>\n</table>\n</div>"
     },
     "execution_count": 18,
     "metadata": {},
     "output_type": "execute_result"
    }
   ],
   "source": [
    "filmes.sort_values(\"total_de_votos\", ascending=False)\n",
    "filmes.head()"
   ],
   "metadata": {
    "collapsed": false
   }
  },
  {
   "cell_type": "code",
   "execution_count": 19,
   "outputs": [
    {
     "data": {
      "text/plain": "                                            titulo                   generos  \\\nfilmeId                                                                        \n88448        Paper Birds (Pájaros de papel) (2010)              Comedy|Drama   \n100556                  Act of Killing, The (2012)               Documentary   \n143031                             Jump In! (2007)      Comedy|Drama|Romance   \n143511                                Human (2015)               Documentary   \n143559                         L.A. Slasher (2015)      Comedy|Crime|Fantasy   \n6201                              Lady Jane (1986)             Drama|Romance   \n102217              Bill Hicks: Revelations (1993)                    Comedy   \n102084                Justice League: Doom (2012)   Action|Animation|Fantasy   \n6192     Open Hearts (Elsker dig for evigt) (2002)                   Romance   \n145994                      Formula of Love (1984)                    Comedy   \n\n         total_de_votos  notas_medias  \nfilmeId                                \n88448               1.0           5.0  \n100556              1.0           5.0  \n143031              1.0           5.0  \n143511              1.0           5.0  \n143559              1.0           5.0  \n6201                1.0           5.0  \n102217              1.0           5.0  \n102084              1.0           5.0  \n6192                1.0           5.0  \n145994              1.0           5.0  ",
      "text/html": "<div>\n<style scoped>\n    .dataframe tbody tr th:only-of-type {\n        vertical-align: middle;\n    }\n\n    .dataframe tbody tr th {\n        vertical-align: top;\n    }\n\n    .dataframe thead th {\n        text-align: right;\n    }\n</style>\n<table border=\"1\" class=\"dataframe\">\n  <thead>\n    <tr style=\"text-align: right;\">\n      <th></th>\n      <th>titulo</th>\n      <th>generos</th>\n      <th>total_de_votos</th>\n      <th>notas_medias</th>\n    </tr>\n    <tr>\n      <th>filmeId</th>\n      <th></th>\n      <th></th>\n      <th></th>\n      <th></th>\n    </tr>\n  </thead>\n  <tbody>\n    <tr>\n      <th>88448</th>\n      <td>Paper Birds (Pájaros de papel) (2010)</td>\n      <td>Comedy|Drama</td>\n      <td>1.0</td>\n      <td>5.0</td>\n    </tr>\n    <tr>\n      <th>100556</th>\n      <td>Act of Killing, The (2012)</td>\n      <td>Documentary</td>\n      <td>1.0</td>\n      <td>5.0</td>\n    </tr>\n    <tr>\n      <th>143031</th>\n      <td>Jump In! (2007)</td>\n      <td>Comedy|Drama|Romance</td>\n      <td>1.0</td>\n      <td>5.0</td>\n    </tr>\n    <tr>\n      <th>143511</th>\n      <td>Human (2015)</td>\n      <td>Documentary</td>\n      <td>1.0</td>\n      <td>5.0</td>\n    </tr>\n    <tr>\n      <th>143559</th>\n      <td>L.A. Slasher (2015)</td>\n      <td>Comedy|Crime|Fantasy</td>\n      <td>1.0</td>\n      <td>5.0</td>\n    </tr>\n    <tr>\n      <th>6201</th>\n      <td>Lady Jane (1986)</td>\n      <td>Drama|Romance</td>\n      <td>1.0</td>\n      <td>5.0</td>\n    </tr>\n    <tr>\n      <th>102217</th>\n      <td>Bill Hicks: Revelations (1993)</td>\n      <td>Comedy</td>\n      <td>1.0</td>\n      <td>5.0</td>\n    </tr>\n    <tr>\n      <th>102084</th>\n      <td>Justice League: Doom (2012)</td>\n      <td>Action|Animation|Fantasy</td>\n      <td>1.0</td>\n      <td>5.0</td>\n    </tr>\n    <tr>\n      <th>6192</th>\n      <td>Open Hearts (Elsker dig for evigt) (2002)</td>\n      <td>Romance</td>\n      <td>1.0</td>\n      <td>5.0</td>\n    </tr>\n    <tr>\n      <th>145994</th>\n      <td>Formula of Love (1984)</td>\n      <td>Comedy</td>\n      <td>1.0</td>\n      <td>5.0</td>\n    </tr>\n  </tbody>\n</table>\n</div>"
     },
     "execution_count": 19,
     "metadata": {},
     "output_type": "execute_result"
    }
   ],
   "source": [
    "notas_medias = notas.groupby(\"filmeId\").mean().nota\n",
    "filmes[\"notas_medias\"] = notas_medias\n",
    "filmes.sort_values(\"notas_medias\", ascending=False).head(10)"
   ],
   "metadata": {
    "collapsed": false
   }
  },
  {
   "cell_type": "code",
   "execution_count": 20,
   "outputs": [
    {
     "data": {
      "text/plain": "                                                    titulo  \\\nfilmeId                                                      \n318                       Shawshank Redemption, The (1994)   \n858                                  Godfather, The (1972)   \n2959                                     Fight Club (1999)   \n1276                                 Cool Hand Luke (1967)   \n750      Dr. Strangelove or: How I Learned to Stop Worr...   \n904                                     Rear Window (1954)   \n1221                        Godfather: Part II, The (1974)   \n48516                                 Departed, The (2006)   \n1213                                     Goodfellas (1990)   \n912                                      Casablanca (1942)   \n\n                             generos  total_de_votos  notas_medias  \nfilmeId                                                             \n318                      Crime|Drama           317.0      4.429022  \n858                      Crime|Drama           192.0      4.289062  \n2959     Action|Crime|Drama|Thriller           218.0      4.272936  \n1276                           Drama            57.0      4.271930  \n750                       Comedy|War            97.0      4.268041  \n904                 Mystery|Thriller            84.0      4.261905  \n1221                     Crime|Drama           129.0      4.259690  \n48516           Crime|Drama|Thriller           107.0      4.252336  \n1213                     Crime|Drama           126.0      4.250000  \n912                    Drama|Romance           100.0      4.240000  ",
      "text/html": "<div>\n<style scoped>\n    .dataframe tbody tr th:only-of-type {\n        vertical-align: middle;\n    }\n\n    .dataframe tbody tr th {\n        vertical-align: top;\n    }\n\n    .dataframe thead th {\n        text-align: right;\n    }\n</style>\n<table border=\"1\" class=\"dataframe\">\n  <thead>\n    <tr style=\"text-align: right;\">\n      <th></th>\n      <th>titulo</th>\n      <th>generos</th>\n      <th>total_de_votos</th>\n      <th>notas_medias</th>\n    </tr>\n    <tr>\n      <th>filmeId</th>\n      <th></th>\n      <th></th>\n      <th></th>\n      <th></th>\n    </tr>\n  </thead>\n  <tbody>\n    <tr>\n      <th>318</th>\n      <td>Shawshank Redemption, The (1994)</td>\n      <td>Crime|Drama</td>\n      <td>317.0</td>\n      <td>4.429022</td>\n    </tr>\n    <tr>\n      <th>858</th>\n      <td>Godfather, The (1972)</td>\n      <td>Crime|Drama</td>\n      <td>192.0</td>\n      <td>4.289062</td>\n    </tr>\n    <tr>\n      <th>2959</th>\n      <td>Fight Club (1999)</td>\n      <td>Action|Crime|Drama|Thriller</td>\n      <td>218.0</td>\n      <td>4.272936</td>\n    </tr>\n    <tr>\n      <th>1276</th>\n      <td>Cool Hand Luke (1967)</td>\n      <td>Drama</td>\n      <td>57.0</td>\n      <td>4.271930</td>\n    </tr>\n    <tr>\n      <th>750</th>\n      <td>Dr. Strangelove or: How I Learned to Stop Worr...</td>\n      <td>Comedy|War</td>\n      <td>97.0</td>\n      <td>4.268041</td>\n    </tr>\n    <tr>\n      <th>904</th>\n      <td>Rear Window (1954)</td>\n      <td>Mystery|Thriller</td>\n      <td>84.0</td>\n      <td>4.261905</td>\n    </tr>\n    <tr>\n      <th>1221</th>\n      <td>Godfather: Part II, The (1974)</td>\n      <td>Crime|Drama</td>\n      <td>129.0</td>\n      <td>4.259690</td>\n    </tr>\n    <tr>\n      <th>48516</th>\n      <td>Departed, The (2006)</td>\n      <td>Crime|Drama|Thriller</td>\n      <td>107.0</td>\n      <td>4.252336</td>\n    </tr>\n    <tr>\n      <th>1213</th>\n      <td>Goodfellas (1990)</td>\n      <td>Crime|Drama</td>\n      <td>126.0</td>\n      <td>4.250000</td>\n    </tr>\n    <tr>\n      <th>912</th>\n      <td>Casablanca (1942)</td>\n      <td>Drama|Romance</td>\n      <td>100.0</td>\n      <td>4.240000</td>\n    </tr>\n  </tbody>\n</table>\n</div>"
     },
     "execution_count": 20,
     "metadata": {},
     "output_type": "execute_result"
    }
   ],
   "source": [
    "filmes.query(\"total_de_votos >= 50\").sort_values(\"notas_medias\", ascending=False).head(10)"
   ],
   "metadata": {
    "collapsed": false
   }
  },
  {
   "cell_type": "code",
   "execution_count": 21,
   "outputs": [
    {
     "data": {
      "text/plain": "                                                    titulo  \\\nfilmeId                                                      \n318                       Shawshank Redemption, The (1994)   \n858                                  Godfather, The (1972)   \n2959                                     Fight Club (1999)   \n1276                                 Cool Hand Luke (1967)   \n750      Dr. Strangelove or: How I Learned to Stop Worr...   \n904                                     Rear Window (1954)   \n1221                        Godfather: Part II, The (1974)   \n48516                                 Departed, The (2006)   \n1213                                     Goodfellas (1990)   \n912                                      Casablanca (1942)   \n\n                             generos  total_de_votos  notas_medias  \nfilmeId                                                             \n318                      Crime|Drama           317.0      4.429022  \n858                      Crime|Drama           192.0      4.289062  \n2959     Action|Crime|Drama|Thriller           218.0      4.272936  \n1276                           Drama            57.0      4.271930  \n750                       Comedy|War            97.0      4.268041  \n904                 Mystery|Thriller            84.0      4.261905  \n1221                     Crime|Drama           129.0      4.259690  \n48516           Crime|Drama|Thriller           107.0      4.252336  \n1213                     Crime|Drama           126.0      4.250000  \n912                    Drama|Romance           100.0      4.240000  ",
      "text/html": "<div>\n<style scoped>\n    .dataframe tbody tr th:only-of-type {\n        vertical-align: middle;\n    }\n\n    .dataframe tbody tr th {\n        vertical-align: top;\n    }\n\n    .dataframe thead th {\n        text-align: right;\n    }\n</style>\n<table border=\"1\" class=\"dataframe\">\n  <thead>\n    <tr style=\"text-align: right;\">\n      <th></th>\n      <th>titulo</th>\n      <th>generos</th>\n      <th>total_de_votos</th>\n      <th>notas_medias</th>\n    </tr>\n    <tr>\n      <th>filmeId</th>\n      <th></th>\n      <th></th>\n      <th></th>\n      <th></th>\n    </tr>\n  </thead>\n  <tbody>\n    <tr>\n      <th>318</th>\n      <td>Shawshank Redemption, The (1994)</td>\n      <td>Crime|Drama</td>\n      <td>317.0</td>\n      <td>4.429022</td>\n    </tr>\n    <tr>\n      <th>858</th>\n      <td>Godfather, The (1972)</td>\n      <td>Crime|Drama</td>\n      <td>192.0</td>\n      <td>4.289062</td>\n    </tr>\n    <tr>\n      <th>2959</th>\n      <td>Fight Club (1999)</td>\n      <td>Action|Crime|Drama|Thriller</td>\n      <td>218.0</td>\n      <td>4.272936</td>\n    </tr>\n    <tr>\n      <th>1276</th>\n      <td>Cool Hand Luke (1967)</td>\n      <td>Drama</td>\n      <td>57.0</td>\n      <td>4.271930</td>\n    </tr>\n    <tr>\n      <th>750</th>\n      <td>Dr. Strangelove or: How I Learned to Stop Worr...</td>\n      <td>Comedy|War</td>\n      <td>97.0</td>\n      <td>4.268041</td>\n    </tr>\n    <tr>\n      <th>904</th>\n      <td>Rear Window (1954)</td>\n      <td>Mystery|Thriller</td>\n      <td>84.0</td>\n      <td>4.261905</td>\n    </tr>\n    <tr>\n      <th>1221</th>\n      <td>Godfather: Part II, The (1974)</td>\n      <td>Crime|Drama</td>\n      <td>129.0</td>\n      <td>4.259690</td>\n    </tr>\n    <tr>\n      <th>48516</th>\n      <td>Departed, The (2006)</td>\n      <td>Crime|Drama|Thriller</td>\n      <td>107.0</td>\n      <td>4.252336</td>\n    </tr>\n    <tr>\n      <th>1213</th>\n      <td>Goodfellas (1990)</td>\n      <td>Crime|Drama</td>\n      <td>126.0</td>\n      <td>4.250000</td>\n    </tr>\n    <tr>\n      <th>912</th>\n      <td>Casablanca (1942)</td>\n      <td>Drama|Romance</td>\n      <td>100.0</td>\n      <td>4.240000</td>\n    </tr>\n  </tbody>\n</table>\n</div>"
     },
     "execution_count": 21,
     "metadata": {},
     "output_type": "execute_result"
    }
   ],
   "source": [
    "filmes_com_mais_de_50_votos = filmes.query(\"total_de_votos >= 50\").sort_values(\"notas_medias\", ascending=False)\n",
    "filmes_com_mais_de_50_votos.head(10)"
   ],
   "metadata": {
    "collapsed": false
   }
  },
  {
   "cell_type": "code",
   "execution_count": 22,
   "outputs": [
    {
     "data": {
      "text/plain": "                                        titulo  \\\nfilmeId                                          \n1                             Toy Story (1995)   \n21                           Get Shorty (1995)   \n19       Ace Ventura: When Nature Calls (1995)   \n10                            GoldenEye (1995)   \n11              American President, The (1995)   \n7                               Sabrina (1995)   \n2                               Jumanji (1995)   \n\n                                             generos  total_de_votos  \\\nfilmeId                                                                \n1        Adventure|Animation|Children|Comedy|Fantasy           215.0   \n21                             Comedy|Crime|Thriller            89.0   \n19                                            Comedy            88.0   \n10                         Action|Adventure|Thriller           132.0   \n11                              Comedy|Drama|Romance            70.0   \n7                                     Comedy|Romance            54.0   \n2                         Adventure|Children|Fantasy           110.0   \n\n         notas_medias  \nfilmeId                \n1            3.920930  \n21           3.494382  \n19           2.727273  \n10           3.496212  \n11           3.671429  \n7            3.185185  \n2            3.431818  ",
      "text/html": "<div>\n<style scoped>\n    .dataframe tbody tr th:only-of-type {\n        vertical-align: middle;\n    }\n\n    .dataframe tbody tr th {\n        vertical-align: top;\n    }\n\n    .dataframe thead th {\n        text-align: right;\n    }\n</style>\n<table border=\"1\" class=\"dataframe\">\n  <thead>\n    <tr style=\"text-align: right;\">\n      <th></th>\n      <th>titulo</th>\n      <th>generos</th>\n      <th>total_de_votos</th>\n      <th>notas_medias</th>\n    </tr>\n    <tr>\n      <th>filmeId</th>\n      <th></th>\n      <th></th>\n      <th></th>\n      <th></th>\n    </tr>\n  </thead>\n  <tbody>\n    <tr>\n      <th>1</th>\n      <td>Toy Story (1995)</td>\n      <td>Adventure|Animation|Children|Comedy|Fantasy</td>\n      <td>215.0</td>\n      <td>3.920930</td>\n    </tr>\n    <tr>\n      <th>21</th>\n      <td>Get Shorty (1995)</td>\n      <td>Comedy|Crime|Thriller</td>\n      <td>89.0</td>\n      <td>3.494382</td>\n    </tr>\n    <tr>\n      <th>19</th>\n      <td>Ace Ventura: When Nature Calls (1995)</td>\n      <td>Comedy</td>\n      <td>88.0</td>\n      <td>2.727273</td>\n    </tr>\n    <tr>\n      <th>10</th>\n      <td>GoldenEye (1995)</td>\n      <td>Action|Adventure|Thriller</td>\n      <td>132.0</td>\n      <td>3.496212</td>\n    </tr>\n    <tr>\n      <th>11</th>\n      <td>American President, The (1995)</td>\n      <td>Comedy|Drama|Romance</td>\n      <td>70.0</td>\n      <td>3.671429</td>\n    </tr>\n    <tr>\n      <th>7</th>\n      <td>Sabrina (1995)</td>\n      <td>Comedy|Romance</td>\n      <td>54.0</td>\n      <td>3.185185</td>\n    </tr>\n    <tr>\n      <th>2</th>\n      <td>Jumanji (1995)</td>\n      <td>Adventure|Children|Fantasy</td>\n      <td>110.0</td>\n      <td>3.431818</td>\n    </tr>\n  </tbody>\n</table>\n</div>"
     },
     "execution_count": 22,
     "metadata": {},
     "output_type": "execute_result"
    }
   ],
   "source": [
    "eu_assisti = [1, 21, 19, 10, 11, 7 ,2]\n",
    "filmes.loc[eu_assisti]"
   ],
   "metadata": {
    "collapsed": false
   }
  },
  {
   "cell_type": "code",
   "execution_count": 23,
   "outputs": [
    {
     "data": {
      "text/plain": "                                                    titulo  \\\nfilmeId                                                      \n4896     Harry Potter and the Sorcerer's Stone (a.k.a. ...   \n41566    Chronicles of Narnia: The Lion, the Witch and ...   \n\n                            generos  total_de_votos  notas_medias  \nfilmeId                                                            \n4896     Adventure|Children|Fantasy           107.0      3.761682  \n41566    Adventure|Children|Fantasy            62.0      3.443548  ",
      "text/html": "<div>\n<style scoped>\n    .dataframe tbody tr th:only-of-type {\n        vertical-align: middle;\n    }\n\n    .dataframe tbody tr th {\n        vertical-align: top;\n    }\n\n    .dataframe thead th {\n        text-align: right;\n    }\n</style>\n<table border=\"1\" class=\"dataframe\">\n  <thead>\n    <tr style=\"text-align: right;\">\n      <th></th>\n      <th>titulo</th>\n      <th>generos</th>\n      <th>total_de_votos</th>\n      <th>notas_medias</th>\n    </tr>\n    <tr>\n      <th>filmeId</th>\n      <th></th>\n      <th></th>\n      <th></th>\n      <th></th>\n    </tr>\n  </thead>\n  <tbody>\n    <tr>\n      <th>4896</th>\n      <td>Harry Potter and the Sorcerer's Stone (a.k.a. ...</td>\n      <td>Adventure|Children|Fantasy</td>\n      <td>107.0</td>\n      <td>3.761682</td>\n    </tr>\n    <tr>\n      <th>41566</th>\n      <td>Chronicles of Narnia: The Lion, the Witch and ...</td>\n      <td>Adventure|Children|Fantasy</td>\n      <td>62.0</td>\n      <td>3.443548</td>\n    </tr>\n  </tbody>\n</table>\n</div>"
     },
     "execution_count": 23,
     "metadata": {},
     "output_type": "execute_result"
    }
   ],
   "source": [
    "aventura_infantil_e_fantasia = filmes_com_mais_de_50_votos.query(\"generos == 'Adventure|Children|Fantasy'\")\n",
    "aventura_infantil_e_fantasia.drop(eu_assisti, errors='ignore').sort_values(\"notas_medias\",  ascending=False)"
   ],
   "metadata": {
    "collapsed": false
   }
  },
  {
   "cell_type": "markdown",
   "source": [
    "# Procurar usuarios similares"
   ],
   "metadata": {
    "collapsed": false
   }
  },
  {
   "cell_type": "code",
   "execution_count": 24,
   "outputs": [
    {
     "data": {
      "text/plain": "[<matplotlib.lines.Line2D at 0x29ea5981cd0>]"
     },
     "execution_count": 24,
     "metadata": {},
     "output_type": "execute_result"
    },
    {
     "data": {
      "text/plain": "<Figure size 432x288 with 1 Axes>",
      "image/png": "[encoded data removed]"
     },
     "metadata": {
      "needs_background": "light"
     },
     "output_type": "display_data"
    }
   ],
   "source": [
    "joao = [4, 4.5]\n",
    "maria = [5, 5]\n",
    "\n",
    "import matplotlib.pyplot as plt\n",
    "\n",
    "plt.plot(4, 4.5, \"go\")\n",
    "plt.plot(5, 5, \"bo\")\n",
    "\n",
    "plt.legend([\"Joao\", \"Maria\"])\n",
    "plt.title(\"Calculando a distancia entre dois pontos\")\n",
    "\n",
    "plt.plot([4, 5], [4.5, 4.5], color=\"r\", linestyle=\"-\")\n",
    "plt.plot([4, 5], [4.5, 5], color=\"r\" ,linestyle=\"-\")\n",
    "plt.plot([5, 5], [5, 4.5], color=\"r\" ,linestyle=\"-\")"
   ],
   "metadata": {
    "collapsed": false
   }
  },
  {
   "cell_type": "code",
   "execution_count": 25,
   "outputs": [
    {
     "data": {
      "text/plain": "array([-1. , -0.5])"
     },
     "execution_count": 25,
     "metadata": {},
     "output_type": "execute_result"
    }
   ],
   "source": [
    "import numpy as np\n",
    "\n",
    "joao = np.array(joao)\n",
    "maria = np.array(maria)\n",
    "\n",
    "joao - maria"
   ],
   "metadata": {
    "collapsed": false
   }
  },
  {
   "cell_type": "code",
   "execution_count": 26,
   "outputs": [],
   "source": [
    "from math import sqrt\n",
    "def pitaguras(a, b):\n",
    "    (delta_x, delta_y) = a - b\n",
    "    return sqrt(delta_x ** 2 + delta_y ** 2)"
   ],
   "metadata": {
    "collapsed": false
   }
  },
  {
   "cell_type": "code",
   "execution_count": 27,
   "outputs": [
    {
     "data": {
      "text/plain": "1.118033988749895"
     },
     "execution_count": 27,
     "metadata": {},
     "output_type": "execute_result"
    }
   ],
   "source": [
    "pitaguras(joao, maria)"
   ],
   "metadata": {
    "collapsed": false
   }
  },
  {
   "cell_type": "code",
   "execution_count": 28,
   "outputs": [
    {
     "data": {
      "text/plain": "1.118033988749895"
     },
     "execution_count": 28,
     "metadata": {},
     "output_type": "execute_result"
    }
   ],
   "source": [
    "np.linalg.norm(joao - maria)"
   ],
   "metadata": {
    "collapsed": false
   }
  },
  {
   "cell_type": "code",
   "execution_count": 29,
   "outputs": [],
   "source": [
    "def pitaguras(a, b):\n",
    "    return np.linalg.norm(a - b)"
   ],
   "metadata": {
    "collapsed": false
   }
  },
  {
   "cell_type": "code",
   "execution_count": 30,
   "outputs": [
    {
     "data": {
      "text/plain": "1.118033988749895"
     },
     "execution_count": 30,
     "metadata": {},
     "output_type": "execute_result"
    }
   ],
   "source": [
    "pitaguras(joao, maria)"
   ],
   "metadata": {
    "collapsed": false
   }
  },
  {
   "cell_type": "code",
   "execution_count": 31,
   "outputs": [],
   "source": [
    "def distancia_vetores(a, b):\n",
    "    return np.linalg.norm(a - b)"
   ],
   "metadata": {
    "collapsed": false
   }
  },
  {
   "cell_type": "code",
   "execution_count": 32,
   "outputs": [],
   "source": [
    "def notas_do_usuario(usuario):\n",
    "    salvar_notas_do_usuario = notas.query(f\"usuarioId == {usuario}\")\n",
    "    salvar_notas_do_usuario = salvar_notas_do_usuario[[\"filmeId\", \"nota\"]].set_index(\"filmeId\")\n",
    "    return salvar_notas_do_usuario"
   ],
   "metadata": {
    "collapsed": false
   }
  },
  {
   "cell_type": "code",
   "execution_count": 33,
   "outputs": [
    {
     "data": {
      "text/plain": "         nota\nfilmeId      \n1         4.0\n3         4.0\n6         4.0\n47        5.0\n50        5.0\n...       ...\n3744      4.0\n3793      5.0\n3809      4.0\n4006      4.0\n5060      5.0\n\n[232 rows x 1 columns]",
      "text/html": "<div>\n<style scoped>\n    .dataframe tbody tr th:only-of-type {\n        vertical-align: middle;\n    }\n\n    .dataframe tbody tr th {\n        vertical-align: top;\n    }\n\n    .dataframe thead th {\n        text-align: right;\n    }\n</style>\n<table border=\"1\" class=\"dataframe\">\n  <thead>\n    <tr style=\"text-align: right;\">\n      <th></th>\n      <th>nota</th>\n    </tr>\n    <tr>\n      <th>filmeId</th>\n      <th></th>\n    </tr>\n  </thead>\n  <tbody>\n    <tr>\n      <th>1</th>\n      <td>4.0</td>\n    </tr>\n    <tr>\n      <th>3</th>\n      <td>4.0</td>\n    </tr>\n    <tr>\n      <th>6</th>\n      <td>4.0</td>\n    </tr>\n    <tr>\n      <th>47</th>\n      <td>5.0</td>\n    </tr>\n    <tr>\n      <th>50</th>\n      <td>5.0</td>\n    </tr>\n    <tr>\n      <th>...</th>\n      <td>...</td>\n    </tr>\n    <tr>\n      <th>3744</th>\n      <td>4.0</td>\n    </tr>\n    <tr>\n      <th>3793</th>\n      <td>5.0</td>\n    </tr>\n    <tr>\n      <th>3809</th>\n      <td>4.0</td>\n    </tr>\n    <tr>\n      <th>4006</th>\n      <td>4.0</td>\n    </tr>\n    <tr>\n      <th>5060</th>\n      <td>5.0</td>\n    </tr>\n  </tbody>\n</table>\n<p>232 rows × 1 columns</p>\n</div>"
     },
     "execution_count": 33,
     "metadata": {},
     "output_type": "execute_result"
    }
   ],
   "source": [
    "notas_do_usuario(1)"
   ],
   "metadata": {
    "collapsed": false
   }
  },
  {
   "cell_type": "code",
   "execution_count": 34,
   "outputs": [],
   "source": [
    "usuario1 = notas_do_usuario(1)\n",
    "usuario4 = notas_do_usuario(4)"
   ],
   "metadata": {
    "collapsed": false
   }
  },
  {
   "cell_type": "code",
   "execution_count": 35,
   "outputs": [
    {
     "data": {
      "text/plain": "         nota_esquerda  nota_direita\nfilmeId                             \n47                 5.0           2.0\n235                4.0           2.0\n260                5.0           5.0\n296                3.0           1.0\n441                4.0           1.0\n457                5.0           5.0\n553                5.0           2.0\n593                4.0           5.0\n608                5.0           5.0\n648                3.0           3.0\n919                5.0           5.0\n1025               5.0           4.0\n1060               4.0           2.0\n1073               5.0           4.0\n1080               5.0           5.0\n1136               5.0           5.0\n1196               5.0           5.0\n1197               5.0           5.0\n1198               5.0           3.0\n1213               5.0           4.0\n1219               2.0           4.0\n1265               4.0           4.0\n1282               5.0           5.0\n1291               5.0           4.0\n1500               4.0           4.0\n1517               5.0           4.0\n1580               3.0           3.0\n1617               5.0           2.0\n1732               5.0           4.0\n1967               4.0           5.0\n2078               5.0           5.0\n2174               4.0           5.0\n2395               5.0           3.0\n2406               4.0           4.0\n2571               5.0           1.0\n2628               4.0           1.0\n2692               5.0           5.0\n2858               5.0           5.0\n2959               5.0           2.0\n2997               4.0           4.0\n3033               5.0           4.0\n3176               1.0           4.0\n3386               5.0           4.0\n3489               4.0           1.0\n3809               4.0           3.0",
      "text/html": "<div>\n<style scoped>\n    .dataframe tbody tr th:only-of-type {\n        vertical-align: middle;\n    }\n\n    .dataframe tbody tr th {\n        vertical-align: top;\n    }\n\n    .dataframe thead th {\n        text-align: right;\n    }\n</style>\n<table border=\"1\" class=\"dataframe\">\n  <thead>\n    <tr style=\"text-align: right;\">\n      <th></th>\n      <th>nota_esquerda</th>\n      <th>nota_direita</th>\n    </tr>\n    <tr>\n      <th>filmeId</th>\n      <th></th>\n      <th></th>\n    </tr>\n  </thead>\n  <tbody>\n    <tr>\n      <th>47</th>\n      <td>5.0</td>\n      <td>2.0</td>\n    </tr>\n    <tr>\n      <th>235</th>\n      <td>4.0</td>\n      <td>2.0</td>\n    </tr>\n    <tr>\n      <th>260</th>\n      <td>5.0</td>\n      <td>5.0</td>\n    </tr>\n    <tr>\n      <th>296</th>\n      <td>3.0</td>\n      <td>1.0</td>\n    </tr>\n    <tr>\n      <th>441</th>\n      <td>4.0</td>\n      <td>1.0</td>\n    </tr>\n    <tr>\n      <th>457</th>\n      <td>5.0</td>\n      <td>5.0</td>\n    </tr>\n    <tr>\n      <th>553</th>\n      <td>5.0</td>\n      <td>2.0</td>\n    </tr>\n    <tr>\n      <th>593</th>\n      <td>4.0</td>\n      <td>5.0</td>\n    </tr>\n    <tr>\n      <th>608</th>\n      <td>5.0</td>\n      <td>5.0</td>\n    </tr>\n    <tr>\n      <th>648</th>\n      <td>3.0</td>\n      <td>3.0</td>\n    </tr>\n    <tr>\n      <th>919</th>\n      <td>5.0</td>\n      <td>5.0</td>\n    </tr>\n    <tr>\n      <th>1025</th>\n      <td>5.0</td>\n      <td>4.0</td>\n    </tr>\n    <tr>\n      <th>1060</th>\n      <td>4.0</td>\n      <td>2.0</td>\n    </tr>\n    <tr>\n      <th>1073</th>\n      <td>5.0</td>\n      <td>4.0</td>\n    </tr>\n    <tr>\n      <th>1080</th>\n      <td>5.0</td>\n      <td>5.0</td>\n    </tr>\n    <tr>\n      <th>1136</th>\n      <td>5.0</td>\n      <td>5.0</td>\n    </tr>\n    <tr>\n      <th>1196</th>\n      <td>5.0</td>\n      <td>5.0</td>\n    </tr>\n    <tr>\n      <th>1197</th>\n      <td>5.0</td>\n      <td>5.0</td>\n    </tr>\n    <tr>\n      <th>1198</th>\n      <td>5.0</td>\n      <td>3.0</td>\n    </tr>\n    <tr>\n      <th>1213</th>\n      <td>5.0</td>\n      <td>4.0</td>\n    </tr>\n    <tr>\n      <th>1219</th>\n      <td>2.0</td>\n      <td>4.0</td>\n    </tr>\n    <tr>\n      <th>1265</th>\n      <td>4.0</td>\n      <td>4.0</td>\n    </tr>\n    <tr>\n      <th>1282</th>\n      <td>5.0</td>\n      <td>5.0</td>\n    </tr>\n    <tr>\n      <th>1291</th>\n      <td>5.0</td>\n      <td>4.0</td>\n    </tr>\n    <tr>\n      <th>1500</th>\n      <td>4.0</td>\n      <td>4.0</td>\n    </tr>\n    <tr>\n      <th>1517</th>\n      <td>5.0</td>\n      <td>4.0</td>\n    </tr>\n    <tr>\n      <th>1580</th>\n      <td>3.0</td>\n      <td>3.0</td>\n    </tr>\n    <tr>\n      <th>1617</th>\n      <td>5.0</td>\n      <td>2.0</td>\n    </tr>\n    <tr>\n      <th>1732</th>\n      <td>5.0</td>\n      <td>4.0</td>\n    </tr>\n    <tr>\n      <th>1967</th>\n      <td>4.0</td>\n      <td>5.0</td>\n    </tr>\n    <tr>\n      <th>2078</th>\n      <td>5.0</td>\n      <td>5.0</td>\n    </tr>\n    <tr>\n      <th>2174</th>\n      <td>4.0</td>\n      <td>5.0</td>\n    </tr>\n    <tr>\n      <th>2395</th>\n      <td>5.0</td>\n      <td>3.0</td>\n    </tr>\n    <tr>\n      <th>2406</th>\n      <td>4.0</td>\n      <td>4.0</td>\n    </tr>\n    <tr>\n      <th>2571</th>\n      <td>5.0</td>\n      <td>1.0</td>\n    </tr>\n    <tr>\n      <th>2628</th>\n      <td>4.0</td>\n      <td>1.0</td>\n    </tr>\n    <tr>\n      <th>2692</th>\n      <td>5.0</td>\n      <td>5.0</td>\n    </tr>\n    <tr>\n      <th>2858</th>\n      <td>5.0</td>\n      <td>5.0</td>\n    </tr>\n    <tr>\n      <th>2959</th>\n      <td>5.0</td>\n      <td>2.0</td>\n    </tr>\n    <tr>\n      <th>2997</th>\n      <td>4.0</td>\n      <td>4.0</td>\n    </tr>\n    <tr>\n      <th>3033</th>\n      <td>5.0</td>\n      <td>4.0</td>\n    </tr>\n    <tr>\n      <th>3176</th>\n      <td>1.0</td>\n      <td>4.0</td>\n    </tr>\n    <tr>\n      <th>3386</th>\n      <td>5.0</td>\n      <td>4.0</td>\n    </tr>\n    <tr>\n      <th>3489</th>\n      <td>4.0</td>\n      <td>1.0</td>\n    </tr>\n    <tr>\n      <th>3809</th>\n      <td>4.0</td>\n      <td>3.0</td>\n    </tr>\n  </tbody>\n</table>\n</div>"
     },
     "execution_count": 35,
     "metadata": {},
     "output_type": "execute_result"
    }
   ],
   "source": [
    "diferencas = usuario1.join(usuario4, lsuffix=\"_esquerda\", rsuffix=\"_direita\").dropna()\n",
    "diferencas"
   ],
   "metadata": {
    "collapsed": false
   }
  },
  {
   "cell_type": "code",
   "execution_count": 36,
   "outputs": [
    {
     "data": {
      "text/plain": "11.135528725660043"
     },
     "execution_count": 36,
     "metadata": {},
     "output_type": "execute_result"
    }
   ],
   "source": [
    "distancia_vetores(diferencas[\"nota_esquerda\"], diferencas[\"nota_direita\"])"
   ],
   "metadata": {
    "collapsed": false
   }
  },
  {
   "cell_type": "code",
   "execution_count": 37,
   "outputs": [],
   "source": [
    "def distancia_de_usuarios(user1, user2):\n",
    "    notas1 = notas_do_usuario(user1)\n",
    "    notas2 = notas_do_usuario(user2)\n",
    "    juncao = notas1.join(notas2, lsuffix=\"_esquerda\", rsuffix=\"_direita\").dropna()\n",
    "    distancia = distancia_vetores(juncao[\"nota_esquerda\"], juncao[\"nota_direita\"])\n",
    "    return [user1, user2, distancia]"
   ],
   "metadata": {
    "collapsed": false
   }
  },
  {
   "cell_type": "code",
   "execution_count": 38,
   "outputs": [
    {
     "data": {
      "text/plain": "[1, 4, 11.135528725660043]"
     },
     "execution_count": 38,
     "metadata": {},
     "output_type": "execute_result"
    }
   ],
   "source": [
    "distancia_de_usuarios(1,4)"
   ],
   "metadata": {
    "collapsed": false
   }
  },
  {
   "cell_type": "code",
   "execution_count": 39,
   "outputs": [
    {
     "data": {
      "text/plain": "[1, 2, 1.4142135623730951]"
     },
     "execution_count": 39,
     "metadata": {},
     "output_type": "execute_result"
    }
   ],
   "source": [
    "distancia_de_usuarios(1,2)"
   ],
   "metadata": {
    "collapsed": false
   }
  },
  {
   "cell_type": "code",
   "execution_count": 40,
   "outputs": [
    {
     "data": {
      "text/plain": "610"
     },
     "execution_count": 40,
     "metadata": {},
     "output_type": "execute_result"
    }
   ],
   "source": [
    "quantidade_de_usuarios = len(notas.usuarioId.unique())\n",
    "quantidade_de_usuarios"
   ],
   "metadata": {
    "collapsed": false
   }
  },
  {
   "cell_type": "code",
   "execution_count": 41,
   "outputs": [
    {
     "data": {
      "text/plain": "[[1, 1, 0.0],\n [1, 2, 1.4142135623730951],\n [1, 3, 8.200609733428363],\n [1, 4, 11.135528725660043],\n [1, 5, 3.7416573867739413]]"
     },
     "execution_count": 41,
     "metadata": {},
     "output_type": "execute_result"
    }
   ],
   "source": [
    "def distancia_de_todos(voce_id):\n",
    "    distancias = []\n",
    "    for usuariosId in notas.usuarioId.unique():\n",
    "        informacoes = distancia_de_usuarios(voce_id, usuariosId)\n",
    "        distancias.append(informacoes)\n",
    "    return distancias\n",
    "distancia_de_todos(1)[:5]"
   ],
   "metadata": {
    "collapsed": false
   }
  },
  {
   "cell_type": "code",
   "execution_count": 42,
   "outputs": [
    {
     "data": {
      "text/plain": "   voce  outra_pessoa  distancia\n0     1             1   0.000000\n1     1             2   1.414214\n2     1             3   8.200610\n3     1             4  11.135529\n4     1             5   3.741657",
      "text/html": "<div>\n<style scoped>\n    .dataframe tbody tr th:only-of-type {\n        vertical-align: middle;\n    }\n\n    .dataframe tbody tr th {\n        vertical-align: top;\n    }\n\n    .dataframe thead th {\n        text-align: right;\n    }\n</style>\n<table border=\"1\" class=\"dataframe\">\n  <thead>\n    <tr style=\"text-align: right;\">\n      <th></th>\n      <th>voce</th>\n      <th>outra_pessoa</th>\n      <th>distancia</th>\n    </tr>\n  </thead>\n  <tbody>\n    <tr>\n      <th>0</th>\n      <td>1</td>\n      <td>1</td>\n      <td>0.000000</td>\n    </tr>\n    <tr>\n      <th>1</th>\n      <td>1</td>\n      <td>2</td>\n      <td>1.414214</td>\n    </tr>\n    <tr>\n      <th>2</th>\n      <td>1</td>\n      <td>3</td>\n      <td>8.200610</td>\n    </tr>\n    <tr>\n      <th>3</th>\n      <td>1</td>\n      <td>4</td>\n      <td>11.135529</td>\n    </tr>\n    <tr>\n      <th>4</th>\n      <td>1</td>\n      <td>5</td>\n      <td>3.741657</td>\n    </tr>\n  </tbody>\n</table>\n</div>"
     },
     "execution_count": 42,
     "metadata": {},
     "output_type": "execute_result"
    }
   ],
   "source": [
    "def distancia_de_todos(voce_id):\n",
    "    todos_os_usuarios = notas.usuarioId.unique()\n",
    "    distancias = [distancia_de_usuarios(voce_id, usuariosId) for usuariosId in todos_os_usuarios]\n",
    "    distancias = pd.DataFrame(distancias, columns=[\"voce\",\"outra_pessoa\",\"distancia\"])\n",
    "    return distancias\n",
    "distancia_de_todos(1).head()"
   ],
   "metadata": {
    "collapsed": false
   }
  },
  {
   "cell_type": "markdown",
   "source": [
    "# ususarios sem nada em comun soa colocados bem distantes um do outro"
   ],
   "metadata": {
    "collapsed": false
   }
  },
  {
   "cell_type": "code",
   "execution_count": 80,
   "outputs": [],
   "source": [
    "def distancia_de_usuarios(user1, user2, minimo = 5):\n",
    "    notas1 = notas_do_usuario(user1)\n",
    "    notas2 = notas_do_usuario(user2)\n",
    "    juncao = notas1.join(notas2, lsuffix=\"_esquerda\", rsuffix=\"_direita\").dropna()\n",
    "\n",
    "    if len(juncao) < minimo:\n",
    "        return None\n",
    "\n",
    "    distancia = distancia_vetores(juncao[\"nota_esquerda\"], juncao[\"nota_direita\"])\n",
    "    return [user1, user2, distancia]"
   ],
   "metadata": {
    "collapsed": false
   }
  },
  {
   "cell_type": "code",
   "execution_count": 82,
   "outputs": [
    {
     "name": "stdout",
     "output_type": "stream",
     "text": [
      "None\n"
     ]
    }
   ],
   "source": [
    "print(distancia_de_usuarios(1, 85))"
   ],
   "metadata": {
    "collapsed": false
   }
  },
  {
   "cell_type": "code",
   "execution_count": 78,
   "outputs": [],
   "source": [
    "def mais_proximos_de_voce(voce_id):\n",
    "    distancias = distancia_de_todos(voce_id)\n",
    "    distancias = distancias.sort_values(\"distancia\")\n",
    "    distancias = distancias.set_index(\"outra_pessoa\").drop(voce_id)\n",
    "    return distancias"
   ],
   "metadata": {
    "collapsed": false
   }
  },
  {
   "cell_type": "code",
   "execution_count": 79,
   "outputs": [
    {
     "data": {
      "text/plain": "              voce  distancia\noutra_pessoa                 \n77               1   0.000000\n511              1   0.500000\n366              1   0.707107\n523              1   1.000000\n49               1   1.000000\n...            ...        ...\n462              1  14.790199\n517              1  14.958275\n608              1  15.264338\n313              1  15.684387\n68               1  17.881555\n\n[530 rows x 2 columns]",
      "text/html": "<div>\n<style scoped>\n    .dataframe tbody tr th:only-of-type {\n        vertical-align: middle;\n    }\n\n    .dataframe tbody tr th {\n        vertical-align: top;\n    }\n\n    .dataframe thead th {\n        text-align: right;\n    }\n</style>\n<table border=\"1\" class=\"dataframe\">\n  <thead>\n    <tr style=\"text-align: right;\">\n      <th></th>\n      <th>voce</th>\n      <th>distancia</th>\n    </tr>\n    <tr>\n      <th>outra_pessoa</th>\n      <th></th>\n      <th></th>\n    </tr>\n  </thead>\n  <tbody>\n    <tr>\n      <th>77</th>\n      <td>1</td>\n      <td>0.000000</td>\n    </tr>\n    <tr>\n      <th>511</th>\n      <td>1</td>\n      <td>0.500000</td>\n    </tr>\n    <tr>\n      <th>366</th>\n      <td>1</td>\n      <td>0.707107</td>\n    </tr>\n    <tr>\n      <th>523</th>\n      <td>1</td>\n      <td>1.000000</td>\n    </tr>\n    <tr>\n      <th>49</th>\n      <td>1</td>\n      <td>1.000000</td>\n    </tr>\n    <tr>\n      <th>...</th>\n      <td>...</td>\n      <td>...</td>\n    </tr>\n    <tr>\n      <th>462</th>\n      <td>1</td>\n      <td>14.790199</td>\n    </tr>\n    <tr>\n      <th>517</th>\n      <td>1</td>\n      <td>14.958275</td>\n    </tr>\n    <tr>\n      <th>608</th>\n      <td>1</td>\n      <td>15.264338</td>\n    </tr>\n    <tr>\n      <th>313</th>\n      <td>1</td>\n      <td>15.684387</td>\n    </tr>\n    <tr>\n      <th>68</th>\n      <td>1</td>\n      <td>17.881555</td>\n    </tr>\n  </tbody>\n</table>\n<p>530 rows × 2 columns</p>\n</div>"
     },
     "execution_count": 79,
     "metadata": {},
     "output_type": "execute_result"
    }
   ],
   "source": [
    "mais_proximos_de_voce(1)"
   ],
   "metadata": {
    "collapsed": false
   }
  },
  {
   "cell_type": "code",
   "execution_count": 47,
   "outputs": [],
   "source": [
    "def mais_proximos_de_voce(voce_id, n = None):\n",
    "    distancias = distancia_de_todos(voce_id, n)\n",
    "    distancias = distancias.sort_values(\"distancia\")\n",
    "    distancias = distancias.set_index(\"outra_pessoa\").drop(voce_id)\n",
    "    return distancias"
   ],
   "metadata": {
    "collapsed": false
   }
  },
  {
   "cell_type": "code",
   "execution_count": 48,
   "outputs": [],
   "source": [
    "def distancia_de_todos(voce_id, n = None):\n",
    "    todos_os_usuarios = notas.usuarioId.unique()\n",
    "    if n:\n",
    "        todos_os_usuarios = todos_os_usuarios[:n]\n",
    "    distancias = [distancia_de_usuarios(voce_id, usuariosId) for usuariosId in todos_os_usuarios]\n",
    "    distancias = pd.DataFrame(distancias, columns=[\"voce\",\"outra_pessoa\",\"distancia\"])\n",
    "    return distancias\n"
   ],
   "metadata": {
    "collapsed": false
   }
  },
  {
   "cell_type": "code",
   "execution_count": 49,
   "outputs": [],
   "source": [
    "def distancia_de_todos(voce_id, n = None):\n",
    "    todos_os_usuarios = notas.usuarioId.unique()\n",
    "    if n:\n",
    "        todos_os_usuarios = todos_os_usuarios[:n]\n",
    "    distancias = [distancia_de_usuarios(voce_id, usuariosId) for usuariosId in todos_os_usuarios]\n",
    "    distancias  = list(filter(None, distancias))\n",
    "    distancias = pd.DataFrame(distancias, columns=[\"voce\",\"outra_pessoa\",\"distancia\"])\n",
    "    return distancias\n"
   ],
   "metadata": {
    "collapsed": false
   }
  },
  {
   "cell_type": "code",
   "execution_count": 50,
   "outputs": [],
   "source": [
    "\n",
    "def sugere_para(voce_id, n = None):\n",
    "    notas_de_voce = notas_do_usuario(voce_id)\n",
    "    filmes_que_voce_ja_viu = notas_de_voce.index\n",
    "    similares = mais_proximos_de_voce(voce_id, n)\n",
    "    similar = similares.iloc[0].name\n",
    "    notas_do_similar = notas_do_usuario(similar)\n",
    "    notas_do_similar = notas_do_similar.drop(filmes_que_voce_ja_viu, errors='ignore')\n",
    "    recomendacoes = notas_do_similar.sort_values(\"nota\", ascending=False)\n",
    "    return recomendacoes.join(filmes)"
   ],
   "metadata": {
    "collapsed": false
   }
  },
  {
   "cell_type": "code",
   "execution_count": 51,
   "outputs": [
    {
     "data": {
      "text/plain": "         nota                                             titulo  \\\nfilmeId                                                            \n8636      5.0                                Spider-Man 2 (2004)   \n58559     5.0                            Dark Knight, The (2008)   \n33794     5.0                               Batman Begins (2005)   \n4993      5.0  Lord of the Rings: The Fellowship of the Ring,...   \n5349      5.0                                  Spider-Man (2002)   \n\n                                  generos  total_de_votos  notas_medias  \nfilmeId                                                                  \n8636         Action|Adventure|Sci-Fi|IMAX            79.0      3.803797  \n58559             Action|Crime|Drama|IMAX           149.0      4.238255  \n33794                   Action|Crime|IMAX           116.0      3.862069  \n4993                    Adventure|Fantasy           198.0      4.106061  \n5349     Action|Adventure|Sci-Fi|Thriller           122.0      3.540984  ",
      "text/html": "<div>\n<style scoped>\n    .dataframe tbody tr th:only-of-type {\n        vertical-align: middle;\n    }\n\n    .dataframe tbody tr th {\n        vertical-align: top;\n    }\n\n    .dataframe thead th {\n        text-align: right;\n    }\n</style>\n<table border=\"1\" class=\"dataframe\">\n  <thead>\n    <tr style=\"text-align: right;\">\n      <th></th>\n      <th>nota</th>\n      <th>titulo</th>\n      <th>generos</th>\n      <th>total_de_votos</th>\n      <th>notas_medias</th>\n    </tr>\n    <tr>\n      <th>filmeId</th>\n      <th></th>\n      <th></th>\n      <th></th>\n      <th></th>\n      <th></th>\n    </tr>\n  </thead>\n  <tbody>\n    <tr>\n      <th>8636</th>\n      <td>5.0</td>\n      <td>Spider-Man 2 (2004)</td>\n      <td>Action|Adventure|Sci-Fi|IMAX</td>\n      <td>79.0</td>\n      <td>3.803797</td>\n    </tr>\n    <tr>\n      <th>58559</th>\n      <td>5.0</td>\n      <td>Dark Knight, The (2008)</td>\n      <td>Action|Crime|Drama|IMAX</td>\n      <td>149.0</td>\n      <td>4.238255</td>\n    </tr>\n    <tr>\n      <th>33794</th>\n      <td>5.0</td>\n      <td>Batman Begins (2005)</td>\n      <td>Action|Crime|IMAX</td>\n      <td>116.0</td>\n      <td>3.862069</td>\n    </tr>\n    <tr>\n      <th>4993</th>\n      <td>5.0</td>\n      <td>Lord of the Rings: The Fellowship of the Ring,...</td>\n      <td>Adventure|Fantasy</td>\n      <td>198.0</td>\n      <td>4.106061</td>\n    </tr>\n    <tr>\n      <th>5349</th>\n      <td>5.0</td>\n      <td>Spider-Man (2002)</td>\n      <td>Action|Adventure|Sci-Fi|Thriller</td>\n      <td>122.0</td>\n      <td>3.540984</td>\n    </tr>\n  </tbody>\n</table>\n</div>"
     },
     "execution_count": 51,
     "metadata": {},
     "output_type": "execute_result"
    }
   ],
   "source": [
    "sugere_para(1).head()"
   ],
   "metadata": {
    "collapsed": false
   }
  },
  {
   "cell_type": "markdown",
   "source": [
    "# Sugerindo tendo em conta varias pessoas"
   ],
   "metadata": {
    "collapsed": false
   }
  },
  {
   "cell_type": "code",
   "execution_count": 52,
   "outputs": [],
   "source": [
    "def mais_proximos_de(voce_id, n_mais_proximos=10, n = None):\n",
    "  distancias = distancia_de_todos(voce_id, n = n)\n",
    "  distancias = distancias.sort_values(\"distancia\")\n",
    "  distancias = distancias.set_index(\"outra_pessoa\").drop(voce_id)\n",
    "  return distancias.head(n_mais_proximos)"
   ],
   "metadata": {
    "collapsed": false
   }
  },
  {
   "cell_type": "code",
   "execution_count": 53,
   "outputs": [
    {
     "data": {
      "text/plain": "              voce  distancia\noutra_pessoa                 \n77               1        0.0\n258              1        1.0",
      "text/html": "<div>\n<style scoped>\n    .dataframe tbody tr th:only-of-type {\n        vertical-align: middle;\n    }\n\n    .dataframe tbody tr th {\n        vertical-align: top;\n    }\n\n    .dataframe thead th {\n        text-align: right;\n    }\n</style>\n<table border=\"1\" class=\"dataframe\">\n  <thead>\n    <tr style=\"text-align: right;\">\n      <th></th>\n      <th>voce</th>\n      <th>distancia</th>\n    </tr>\n    <tr>\n      <th>outra_pessoa</th>\n      <th></th>\n      <th></th>\n    </tr>\n  </thead>\n  <tbody>\n    <tr>\n      <th>77</th>\n      <td>1</td>\n      <td>0.0</td>\n    </tr>\n    <tr>\n      <th>258</th>\n      <td>1</td>\n      <td>1.0</td>\n    </tr>\n  </tbody>\n</table>\n</div>"
     },
     "execution_count": 53,
     "metadata": {},
     "output_type": "execute_result"
    }
   ],
   "source": [
    "mais_proximos_de(1, n_mais_proximos = 2, n=300)"
   ],
   "metadata": {
    "collapsed": false
   }
  },
  {
   "cell_type": "code",
   "execution_count": 54,
   "outputs": [],
   "source": [
    "def sugere_para(voce, n_mais_proximos = 10, n = None):\n",
    "  notas_de_voce = notas_do_usuario(voce)\n",
    "  filmes_que_voce_ja_viu = notas_de_voce.index\n",
    "\n",
    "  similares = mais_proximos_de(voce, n_mais_proximos = n_mais_proximos, n = n)\n",
    "  usuarios_similares = similares.index\n",
    "  notas_dos_similares = notas.set_index(\"usuarioId\").loc[usuarios_similares]\n",
    "  recomendacoes = notas_dos_similares.groupby(\"filmeId\").mean()[[\"nota\"]]\n",
    "  recomendacoes = recomendacoes.sort_values(\"nota\", ascending=False)\n",
    "  return recomendacoes.join(filmes)"
   ],
   "metadata": {
    "collapsed": false
   }
  },
  {
   "cell_type": "code",
   "execution_count": 55,
   "outputs": [
    {
     "data": {
      "text/plain": "         nota                                             titulo  \\\nfilmeId                                                            \n187593    5.0                                  Deadpool 2 (2018)   \n68157     5.0                        Inglourious Basterds (2009)   \n475       5.0                   In the Name of the Father (1993)   \n33794     5.0                               Batman Begins (2005)   \n7153      5.0  Lord of the Rings: The Return of the King, The...   \n\n                                generos  total_de_votos  notas_medias  \nfilmeId                                                                \n187593             Action|Comedy|Sci-Fi            12.0      3.875000  \n68157                  Action|Drama|War            88.0      4.136364  \n475                               Drama            25.0      4.300000  \n33794                 Action|Crime|IMAX           116.0      3.862069  \n7153     Action|Adventure|Drama|Fantasy           185.0      4.118919  ",
      "text/html": "<div>\n<style scoped>\n    .dataframe tbody tr th:only-of-type {\n        vertical-align: middle;\n    }\n\n    .dataframe tbody tr th {\n        vertical-align: top;\n    }\n\n    .dataframe thead th {\n        text-align: right;\n    }\n</style>\n<table border=\"1\" class=\"dataframe\">\n  <thead>\n    <tr style=\"text-align: right;\">\n      <th></th>\n      <th>nota</th>\n      <th>titulo</th>\n      <th>generos</th>\n      <th>total_de_votos</th>\n      <th>notas_medias</th>\n    </tr>\n    <tr>\n      <th>filmeId</th>\n      <th></th>\n      <th></th>\n      <th></th>\n      <th></th>\n      <th></th>\n    </tr>\n  </thead>\n  <tbody>\n    <tr>\n      <th>187593</th>\n      <td>5.0</td>\n      <td>Deadpool 2 (2018)</td>\n      <td>Action|Comedy|Sci-Fi</td>\n      <td>12.0</td>\n      <td>3.875000</td>\n    </tr>\n    <tr>\n      <th>68157</th>\n      <td>5.0</td>\n      <td>Inglourious Basterds (2009)</td>\n      <td>Action|Drama|War</td>\n      <td>88.0</td>\n      <td>4.136364</td>\n    </tr>\n    <tr>\n      <th>475</th>\n      <td>5.0</td>\n      <td>In the Name of the Father (1993)</td>\n      <td>Drama</td>\n      <td>25.0</td>\n      <td>4.300000</td>\n    </tr>\n    <tr>\n      <th>33794</th>\n      <td>5.0</td>\n      <td>Batman Begins (2005)</td>\n      <td>Action|Crime|IMAX</td>\n      <td>116.0</td>\n      <td>3.862069</td>\n    </tr>\n    <tr>\n      <th>7153</th>\n      <td>5.0</td>\n      <td>Lord of the Rings: The Return of the King, The...</td>\n      <td>Action|Adventure|Drama|Fantasy</td>\n      <td>185.0</td>\n      <td>4.118919</td>\n    </tr>\n  </tbody>\n</table>\n</div>"
     },
     "execution_count": 55,
     "metadata": {},
     "output_type": "execute_result"
    }
   ],
   "source": [
    "sugere_para(1, n = 50).head()"
   ],
   "metadata": {
    "collapsed": false
   }
  },
  {
   "cell_type": "code",
   "execution_count": 56,
   "outputs": [
    {
     "data": {
      "text/plain": "         nota                                          titulo  \\\nfilmeId                                                         \n187593    5.0                               Deadpool 2 (2018)   \n802       5.0                               Phenomenon (1996)   \n534       5.0                              Shadowlands (1993)   \n1172      5.0  Cinema Paradiso (Nuovo cinema Paradiso) (1989)   \n515       5.0                  Remains of the Day, The (1993)   \n\n                      generos  total_de_votos  notas_medias  \nfilmeId                                                      \n187593   Action|Comedy|Sci-Fi            12.0      3.875000  \n802             Drama|Romance            46.0      3.336957  \n534             Drama|Romance            14.0      3.607143  \n1172                    Drama            34.0      4.161765  \n515             Drama|Romance            24.0      3.604167  ",
      "text/html": "<div>\n<style scoped>\n    .dataframe tbody tr th:only-of-type {\n        vertical-align: middle;\n    }\n\n    .dataframe tbody tr th {\n        vertical-align: top;\n    }\n\n    .dataframe thead th {\n        text-align: right;\n    }\n</style>\n<table border=\"1\" class=\"dataframe\">\n  <thead>\n    <tr style=\"text-align: right;\">\n      <th></th>\n      <th>nota</th>\n      <th>titulo</th>\n      <th>generos</th>\n      <th>total_de_votos</th>\n      <th>notas_medias</th>\n    </tr>\n    <tr>\n      <th>filmeId</th>\n      <th></th>\n      <th></th>\n      <th></th>\n      <th></th>\n      <th></th>\n    </tr>\n  </thead>\n  <tbody>\n    <tr>\n      <th>187593</th>\n      <td>5.0</td>\n      <td>Deadpool 2 (2018)</td>\n      <td>Action|Comedy|Sci-Fi</td>\n      <td>12.0</td>\n      <td>3.875000</td>\n    </tr>\n    <tr>\n      <th>802</th>\n      <td>5.0</td>\n      <td>Phenomenon (1996)</td>\n      <td>Drama|Romance</td>\n      <td>46.0</td>\n      <td>3.336957</td>\n    </tr>\n    <tr>\n      <th>534</th>\n      <td>5.0</td>\n      <td>Shadowlands (1993)</td>\n      <td>Drama|Romance</td>\n      <td>14.0</td>\n      <td>3.607143</td>\n    </tr>\n    <tr>\n      <th>1172</th>\n      <td>5.0</td>\n      <td>Cinema Paradiso (Nuovo cinema Paradiso) (1989)</td>\n      <td>Drama</td>\n      <td>34.0</td>\n      <td>4.161765</td>\n    </tr>\n    <tr>\n      <th>515</th>\n      <td>5.0</td>\n      <td>Remains of the Day, The (1993)</td>\n      <td>Drama|Romance</td>\n      <td>24.0</td>\n      <td>3.604167</td>\n    </tr>\n  </tbody>\n</table>\n</div>"
     },
     "execution_count": 56,
     "metadata": {},
     "output_type": "execute_result"
    }
   ],
   "source": [
    "sugere_para(1, n = 300).head()"
   ],
   "metadata": {
    "collapsed": false
   }
  },
  {
   "cell_type": "code",
   "execution_count": 57,
   "outputs": [
    {
     "data": {
      "text/plain": "         nota                                             titulo  \\\nfilmeId                                                            \n1704      5.0                           Good Will Hunting (1997)   \n57504     5.0  Girl Who Leapt Through Time, The (Toki o kaker...   \n38304     5.0                No Direction Home: Bob Dylan (2005)   \n48394     5.0   Pan's Labyrinth (Laberinto del fauno, El) (2006)   \n2300      5.0                              Producers, The (1968)   \n\n                                       generos  total_de_votos  notas_medias  \nfilmeId                                                                       \n1704                             Drama|Romance           141.0      4.078014  \n57504    Animation|Comedy|Drama|Romance|Sci-Fi            10.0      4.100000  \n38304                              Documentary             4.0      4.625000  \n48394                   Drama|Fantasy|Thriller            81.0      3.814815  \n2300                                    Comedy            33.0      3.969697  ",
      "text/html": "<div>\n<style scoped>\n    .dataframe tbody tr th:only-of-type {\n        vertical-align: middle;\n    }\n\n    .dataframe tbody tr th {\n        vertical-align: top;\n    }\n\n    .dataframe thead th {\n        text-align: right;\n    }\n</style>\n<table border=\"1\" class=\"dataframe\">\n  <thead>\n    <tr style=\"text-align: right;\">\n      <th></th>\n      <th>nota</th>\n      <th>titulo</th>\n      <th>generos</th>\n      <th>total_de_votos</th>\n      <th>notas_medias</th>\n    </tr>\n    <tr>\n      <th>filmeId</th>\n      <th></th>\n      <th></th>\n      <th></th>\n      <th></th>\n      <th></th>\n    </tr>\n  </thead>\n  <tbody>\n    <tr>\n      <th>1704</th>\n      <td>5.0</td>\n      <td>Good Will Hunting (1997)</td>\n      <td>Drama|Romance</td>\n      <td>141.0</td>\n      <td>4.078014</td>\n    </tr>\n    <tr>\n      <th>57504</th>\n      <td>5.0</td>\n      <td>Girl Who Leapt Through Time, The (Toki o kaker...</td>\n      <td>Animation|Comedy|Drama|Romance|Sci-Fi</td>\n      <td>10.0</td>\n      <td>4.100000</td>\n    </tr>\n    <tr>\n      <th>38304</th>\n      <td>5.0</td>\n      <td>No Direction Home: Bob Dylan (2005)</td>\n      <td>Documentary</td>\n      <td>4.0</td>\n      <td>4.625000</td>\n    </tr>\n    <tr>\n      <th>48394</th>\n      <td>5.0</td>\n      <td>Pan's Labyrinth (Laberinto del fauno, El) (2006)</td>\n      <td>Drama|Fantasy|Thriller</td>\n      <td>81.0</td>\n      <td>3.814815</td>\n    </tr>\n    <tr>\n      <th>2300</th>\n      <td>5.0</td>\n      <td>Producers, The (1968)</td>\n      <td>Comedy</td>\n      <td>33.0</td>\n      <td>3.969697</td>\n    </tr>\n  </tbody>\n</table>\n</div>"
     },
     "execution_count": 57,
     "metadata": {},
     "output_type": "execute_result"
    }
   ],
   "source": [
    "sugere_para(1).head()"
   ],
   "metadata": {
    "collapsed": false
   }
  },
  {
   "cell_type": "code",
   "execution_count": 58,
   "outputs": [],
   "source": [
    "def knn(voce_id, k_mais_proximos=10, n = None):\n",
    "  distancias = distancia_de_todos(voce_id, n = n)\n",
    "  distancias = distancias.sort_values(\"distancia\")\n",
    "  distancias = distancias.set_index(\"outra_pessoa\").drop(voce_id)\n",
    "  return distancias.head(k_mais_proximos)"
   ],
   "metadata": {
    "collapsed": false
   }
  },
  {
   "cell_type": "code",
   "execution_count": 59,
   "outputs": [],
   "source": [
    "def sugere_para(voce, k_mais_proximos = 10, n = None):\n",
    "  notas_de_voce = notas_do_usuario(voce)\n",
    "  filmes_que_voce_ja_viu = notas_de_voce.index\n",
    "\n",
    "  similares = knn(voce, k_mais_proximos = k_mais_proximos, n = n)\n",
    "  usuarios_similares = similares.index\n",
    "  notas_dos_similares = notas.set_index(\"usuarioId\").loc[usuarios_similares]\n",
    "  recomendacoes = notas_dos_similares.groupby(\"filmeId\").mean()[[\"nota\"]]\n",
    "  recomendacoes = recomendacoes.sort_values(\"nota\", ascending=False)\n",
    "  return recomendacoes.join(filmes)"
   ],
   "metadata": {
    "collapsed": false
   }
  },
  {
   "cell_type": "markdown",
   "source": [
    "# Testando um novo utilizador"
   ],
   "metadata": {
    "collapsed": false
   }
  },
  {
   "cell_type": "code",
   "execution_count": 60,
   "outputs": [
    {
     "data": {
      "text/plain": "                                                    titulo  \\\nfilmeId                                                      \n122904                                     Deadpool (2016)   \n1246                             Dead Poets Society (1989)   \n2529                             Planet of the Apes (1968)   \n2329                             American History X (1998)   \n2324            Life Is Beautiful (La Vita è bella) (1997)   \n1                                         Toy Story (1995)   \n7                                           Sabrina (1995)   \n2                                           Jumanji (1995)   \n1196     Star Wars: Episode V - The Empire Strikes Back...   \n260              Star Wars: Episode IV - A New Hope (1977)   \n\n                                             generos  total_de_votos  \\\nfilmeId                                                                \n122904                Action|Adventure|Comedy|Sci-Fi            54.0   \n1246                                           Drama            86.0   \n2529                             Action|Drama|Sci-Fi            56.0   \n2329                                     Crime|Drama           129.0   \n2324                        Comedy|Drama|Romance|War            88.0   \n1        Adventure|Animation|Children|Comedy|Fantasy           215.0   \n7                                     Comedy|Romance            54.0   \n2                         Adventure|Children|Fantasy           110.0   \n1196                         Action|Adventure|Sci-Fi           211.0   \n260                          Action|Adventure|Sci-Fi           251.0   \n\n         notas_medias  \nfilmeId                \n122904       3.833333  \n1246         3.959302  \n2529         3.803571  \n2329         4.217054  \n2324         4.147727  \n1            3.920930  \n7            3.185185  \n2            3.431818  \n1196         4.215640  \n260          4.231076  ",
      "text/html": "<div>\n<style scoped>\n    .dataframe tbody tr th:only-of-type {\n        vertical-align: middle;\n    }\n\n    .dataframe tbody tr th {\n        vertical-align: top;\n    }\n\n    .dataframe thead th {\n        text-align: right;\n    }\n</style>\n<table border=\"1\" class=\"dataframe\">\n  <thead>\n    <tr style=\"text-align: right;\">\n      <th></th>\n      <th>titulo</th>\n      <th>generos</th>\n      <th>total_de_votos</th>\n      <th>notas_medias</th>\n    </tr>\n    <tr>\n      <th>filmeId</th>\n      <th></th>\n      <th></th>\n      <th></th>\n      <th></th>\n    </tr>\n  </thead>\n  <tbody>\n    <tr>\n      <th>122904</th>\n      <td>Deadpool (2016)</td>\n      <td>Action|Adventure|Comedy|Sci-Fi</td>\n      <td>54.0</td>\n      <td>3.833333</td>\n    </tr>\n    <tr>\n      <th>1246</th>\n      <td>Dead Poets Society (1989)</td>\n      <td>Drama</td>\n      <td>86.0</td>\n      <td>3.959302</td>\n    </tr>\n    <tr>\n      <th>2529</th>\n      <td>Planet of the Apes (1968)</td>\n      <td>Action|Drama|Sci-Fi</td>\n      <td>56.0</td>\n      <td>3.803571</td>\n    </tr>\n    <tr>\n      <th>2329</th>\n      <td>American History X (1998)</td>\n      <td>Crime|Drama</td>\n      <td>129.0</td>\n      <td>4.217054</td>\n    </tr>\n    <tr>\n      <th>2324</th>\n      <td>Life Is Beautiful (La Vita è bella) (1997)</td>\n      <td>Comedy|Drama|Romance|War</td>\n      <td>88.0</td>\n      <td>4.147727</td>\n    </tr>\n    <tr>\n      <th>1</th>\n      <td>Toy Story (1995)</td>\n      <td>Adventure|Animation|Children|Comedy|Fantasy</td>\n      <td>215.0</td>\n      <td>3.920930</td>\n    </tr>\n    <tr>\n      <th>7</th>\n      <td>Sabrina (1995)</td>\n      <td>Comedy|Romance</td>\n      <td>54.0</td>\n      <td>3.185185</td>\n    </tr>\n    <tr>\n      <th>2</th>\n      <td>Jumanji (1995)</td>\n      <td>Adventure|Children|Fantasy</td>\n      <td>110.0</td>\n      <td>3.431818</td>\n    </tr>\n    <tr>\n      <th>1196</th>\n      <td>Star Wars: Episode V - The Empire Strikes Back...</td>\n      <td>Action|Adventure|Sci-Fi</td>\n      <td>211.0</td>\n      <td>4.215640</td>\n    </tr>\n    <tr>\n      <th>260</th>\n      <td>Star Wars: Episode IV - A New Hope (1977)</td>\n      <td>Action|Adventure|Sci-Fi</td>\n      <td>251.0</td>\n      <td>4.231076</td>\n    </tr>\n  </tbody>\n</table>\n</div>"
     },
     "execution_count": 60,
     "metadata": {},
     "output_type": "execute_result"
    }
   ],
   "source": [
    "filmes.loc[[122904, 1246, 2529, 2329 , 2324 , 1 , 7 , 2 ,1196, 260]]"
   ],
   "metadata": {
    "collapsed": false
   }
  },
  {
   "cell_type": "code",
   "execution_count": 61,
   "outputs": [],
   "source": [
    "def novo_usuario(dados):\n",
    "  novo_usuario = notas['usuarioId'].max()+1\n",
    "  notas_do_usuario_novo = pd.DataFrame(dados, columns=[\"filmeId\", \"nota\"])\n",
    "  notas_do_usuario_novo['usuarioId'] = novo_usuario\n",
    "  return pd.concat([notas, notas_do_usuario_novo])"
   ],
   "metadata": {
    "collapsed": false
   }
  },
  {
   "cell_type": "code",
   "execution_count": 62,
   "outputs": [
    {
     "data": {
      "text/plain": "   usuarioId  filmeId  nota  momento\n5        611        1   2.0      NaN\n6        611        7   0.5      NaN\n7        611        2   2.0      NaN\n8        611     1196   1.0      NaN\n9        611      260   1.0      NaN",
      "text/html": "<div>\n<style scoped>\n    .dataframe tbody tr th:only-of-type {\n        vertical-align: middle;\n    }\n\n    .dataframe tbody tr th {\n        vertical-align: top;\n    }\n\n    .dataframe thead th {\n        text-align: right;\n    }\n</style>\n<table border=\"1\" class=\"dataframe\">\n  <thead>\n    <tr style=\"text-align: right;\">\n      <th></th>\n      <th>usuarioId</th>\n      <th>filmeId</th>\n      <th>nota</th>\n      <th>momento</th>\n    </tr>\n  </thead>\n  <tbody>\n    <tr>\n      <th>5</th>\n      <td>611</td>\n      <td>1</td>\n      <td>2.0</td>\n      <td>NaN</td>\n    </tr>\n    <tr>\n      <th>6</th>\n      <td>611</td>\n      <td>7</td>\n      <td>0.5</td>\n      <td>NaN</td>\n    </tr>\n    <tr>\n      <th>7</th>\n      <td>611</td>\n      <td>2</td>\n      <td>2.0</td>\n      <td>NaN</td>\n    </tr>\n    <tr>\n      <th>8</th>\n      <td>611</td>\n      <td>1196</td>\n      <td>1.0</td>\n      <td>NaN</td>\n    </tr>\n    <tr>\n      <th>9</th>\n      <td>611</td>\n      <td>260</td>\n      <td>1.0</td>\n      <td>NaN</td>\n    </tr>\n  </tbody>\n</table>\n</div>"
     },
     "execution_count": 62,
     "metadata": {},
     "output_type": "execute_result"
    }
   ],
   "source": [
    "notas = novo_usuario([[122904,2],[1246,5],[2529,2],[2329,5],[2324,5],[1,2],[7,0.5],[2,2],[1196,1],[260,1]])\n",
    "notas.tail()"
   ],
   "metadata": {
    "collapsed": false
   }
  },
  {
   "cell_type": "code",
   "execution_count": 63,
   "outputs": [
    {
     "data": {
      "text/plain": "         nota                                             titulo  \\\nfilmeId                                                            \n171495    5.0                                             Cosmos   \n81847     5.0                                     Tangled (2010)   \n1873      5.0                             Misérables, Les (1998)   \n8014      5.0  Spring, Summer, Fall, Winter... and Spring (Bo...   \n103141    5.0                         Monsters University (2013)   \n\n                                                   generos  total_de_votos  \\\nfilmeId                                                                      \n171495                                  (no genres listed)             2.0   \n81847    Animation|Children|Comedy|Fantasy|Musical|Roma...            24.0   \n1873                               Crime|Drama|Romance|War            10.0   \n8014                                                 Drama            10.0   \n103141                          Adventure|Animation|Comedy            16.0   \n\n         notas_medias  \nfilmeId                \n171495       4.500000  \n81847        3.916667  \n1873         3.750000  \n8014         4.250000  \n103141       3.875000  ",
      "text/html": "<div>\n<style scoped>\n    .dataframe tbody tr th:only-of-type {\n        vertical-align: middle;\n    }\n\n    .dataframe tbody tr th {\n        vertical-align: top;\n    }\n\n    .dataframe thead th {\n        text-align: right;\n    }\n</style>\n<table border=\"1\" class=\"dataframe\">\n  <thead>\n    <tr style=\"text-align: right;\">\n      <th></th>\n      <th>nota</th>\n      <th>titulo</th>\n      <th>generos</th>\n      <th>total_de_votos</th>\n      <th>notas_medias</th>\n    </tr>\n    <tr>\n      <th>filmeId</th>\n      <th></th>\n      <th></th>\n      <th></th>\n      <th></th>\n      <th></th>\n    </tr>\n  </thead>\n  <tbody>\n    <tr>\n      <th>171495</th>\n      <td>5.0</td>\n      <td>Cosmos</td>\n      <td>(no genres listed)</td>\n      <td>2.0</td>\n      <td>4.500000</td>\n    </tr>\n    <tr>\n      <th>81847</th>\n      <td>5.0</td>\n      <td>Tangled (2010)</td>\n      <td>Animation|Children|Comedy|Fantasy|Musical|Roma...</td>\n      <td>24.0</td>\n      <td>3.916667</td>\n    </tr>\n    <tr>\n      <th>1873</th>\n      <td>5.0</td>\n      <td>Misérables, Les (1998)</td>\n      <td>Crime|Drama|Romance|War</td>\n      <td>10.0</td>\n      <td>3.750000</td>\n    </tr>\n    <tr>\n      <th>8014</th>\n      <td>5.0</td>\n      <td>Spring, Summer, Fall, Winter... and Spring (Bo...</td>\n      <td>Drama</td>\n      <td>10.0</td>\n      <td>4.250000</td>\n    </tr>\n    <tr>\n      <th>103141</th>\n      <td>5.0</td>\n      <td>Monsters University (2013)</td>\n      <td>Adventure|Animation|Comedy</td>\n      <td>16.0</td>\n      <td>3.875000</td>\n    </tr>\n  </tbody>\n</table>\n</div>"
     },
     "execution_count": 63,
     "metadata": {},
     "output_type": "execute_result"
    }
   ],
   "source": [
    "sugere_para(611).head()"
   ],
   "metadata": {
    "collapsed": false
   }
  },
  {
   "cell_type": "markdown",
   "source": [
    "# Utilizar somente as notas de filmes com mais de 50 votos"
   ],
   "metadata": {
    "collapsed": false
   }
  },
  {
   "cell_type": "code",
   "execution_count": 64,
   "outputs": [
    {
     "data": {
      "text/plain": "         usuarioId  nota       momento\nfilmeId                               \n318              2   3.0  1.445715e+09\n318              5   3.0  8.474349e+08\n318              6   5.0  8.455532e+08\n318              8   5.0  8.394635e+08\n318             11   4.0  9.021551e+08",
      "text/html": "<div>\n<style scoped>\n    .dataframe tbody tr th:only-of-type {\n        vertical-align: middle;\n    }\n\n    .dataframe tbody tr th {\n        vertical-align: top;\n    }\n\n    .dataframe thead th {\n        text-align: right;\n    }\n</style>\n<table border=\"1\" class=\"dataframe\">\n  <thead>\n    <tr style=\"text-align: right;\">\n      <th></th>\n      <th>usuarioId</th>\n      <th>nota</th>\n      <th>momento</th>\n    </tr>\n    <tr>\n      <th>filmeId</th>\n      <th></th>\n      <th></th>\n      <th></th>\n    </tr>\n  </thead>\n  <tbody>\n    <tr>\n      <th>318</th>\n      <td>2</td>\n      <td>3.0</td>\n      <td>1.445715e+09</td>\n    </tr>\n    <tr>\n      <th>318</th>\n      <td>5</td>\n      <td>3.0</td>\n      <td>8.474349e+08</td>\n    </tr>\n    <tr>\n      <th>318</th>\n      <td>6</td>\n      <td>5.0</td>\n      <td>8.455532e+08</td>\n    </tr>\n    <tr>\n      <th>318</th>\n      <td>8</td>\n      <td>5.0</td>\n      <td>8.394635e+08</td>\n    </tr>\n    <tr>\n      <th>318</th>\n      <td>11</td>\n      <td>4.0</td>\n      <td>9.021551e+08</td>\n    </tr>\n  </tbody>\n</table>\n</div>"
     },
     "execution_count": 64,
     "metadata": {},
     "output_type": "execute_result"
    }
   ],
   "source": [
    "notas = notas.set_index(\"filmeId\").loc[filmes_com_mais_de_50_votos.index]\n",
    "notas.head()"
   ],
   "metadata": {
    "collapsed": false
   }
  },
  {
   "cell_type": "code",
   "execution_count": 65,
   "outputs": [
    {
     "data": {
      "text/plain": "   filmeId  usuarioId  nota       momento\n0      318          2   3.0  1.445715e+09\n1      318          5   3.0  8.474349e+08\n2      318          6   5.0  8.455532e+08\n3      318          8   5.0  8.394635e+08\n4      318         11   4.0  9.021551e+08",
      "text/html": "<div>\n<style scoped>\n    .dataframe tbody tr th:only-of-type {\n        vertical-align: middle;\n    }\n\n    .dataframe tbody tr th {\n        vertical-align: top;\n    }\n\n    .dataframe thead th {\n        text-align: right;\n    }\n</style>\n<table border=\"1\" class=\"dataframe\">\n  <thead>\n    <tr style=\"text-align: right;\">\n      <th></th>\n      <th>filmeId</th>\n      <th>usuarioId</th>\n      <th>nota</th>\n      <th>momento</th>\n    </tr>\n  </thead>\n  <tbody>\n    <tr>\n      <th>0</th>\n      <td>318</td>\n      <td>2</td>\n      <td>3.0</td>\n      <td>1.445715e+09</td>\n    </tr>\n    <tr>\n      <th>1</th>\n      <td>318</td>\n      <td>5</td>\n      <td>3.0</td>\n      <td>8.474349e+08</td>\n    </tr>\n    <tr>\n      <th>2</th>\n      <td>318</td>\n      <td>6</td>\n      <td>5.0</td>\n      <td>8.455532e+08</td>\n    </tr>\n    <tr>\n      <th>3</th>\n      <td>318</td>\n      <td>8</td>\n      <td>5.0</td>\n      <td>8.394635e+08</td>\n    </tr>\n    <tr>\n      <th>4</th>\n      <td>318</td>\n      <td>11</td>\n      <td>4.0</td>\n      <td>9.021551e+08</td>\n    </tr>\n  </tbody>\n</table>\n</div>"
     },
     "execution_count": 65,
     "metadata": {},
     "output_type": "execute_result"
    }
   ],
   "source": [
    "notas = notas.reset_index()\n",
    "notas.head()"
   ],
   "metadata": {
    "collapsed": false
   }
  },
  {
   "cell_type": "code",
   "execution_count": 66,
   "outputs": [
    {
     "data": {
      "text/plain": "         nota                          titulo                         generos  \\\nfilmeId                                                                         \n122904    5.0                 Deadpool (2016)  Action|Adventure|Comedy|Sci-Fi   \n59315     5.0                 Iron Man (2008)         Action|Adventure|Sci-Fi   \n1213      5.0               Goodfellas (1990)                     Crime|Drama   \n1221      5.0  Godfather: Part II, The (1974)                     Crime|Drama   \n1246      5.0       Dead Poets Society (1989)                           Drama   \n\n         total_de_votos  notas_medias  \nfilmeId                                \n122904             54.0      3.833333  \n59315              94.0      3.824468  \n1213              126.0      4.250000  \n1221              129.0      4.259690  \n1246               86.0      3.959302  ",
      "text/html": "<div>\n<style scoped>\n    .dataframe tbody tr th:only-of-type {\n        vertical-align: middle;\n    }\n\n    .dataframe tbody tr th {\n        vertical-align: top;\n    }\n\n    .dataframe thead th {\n        text-align: right;\n    }\n</style>\n<table border=\"1\" class=\"dataframe\">\n  <thead>\n    <tr style=\"text-align: right;\">\n      <th></th>\n      <th>nota</th>\n      <th>titulo</th>\n      <th>generos</th>\n      <th>total_de_votos</th>\n      <th>notas_medias</th>\n    </tr>\n    <tr>\n      <th>filmeId</th>\n      <th></th>\n      <th></th>\n      <th></th>\n      <th></th>\n      <th></th>\n    </tr>\n  </thead>\n  <tbody>\n    <tr>\n      <th>122904</th>\n      <td>5.0</td>\n      <td>Deadpool (2016)</td>\n      <td>Action|Adventure|Comedy|Sci-Fi</td>\n      <td>54.0</td>\n      <td>3.833333</td>\n    </tr>\n    <tr>\n      <th>59315</th>\n      <td>5.0</td>\n      <td>Iron Man (2008)</td>\n      <td>Action|Adventure|Sci-Fi</td>\n      <td>94.0</td>\n      <td>3.824468</td>\n    </tr>\n    <tr>\n      <th>1213</th>\n      <td>5.0</td>\n      <td>Goodfellas (1990)</td>\n      <td>Crime|Drama</td>\n      <td>126.0</td>\n      <td>4.250000</td>\n    </tr>\n    <tr>\n      <th>1221</th>\n      <td>5.0</td>\n      <td>Godfather: Part II, The (1974)</td>\n      <td>Crime|Drama</td>\n      <td>129.0</td>\n      <td>4.259690</td>\n    </tr>\n    <tr>\n      <th>1246</th>\n      <td>5.0</td>\n      <td>Dead Poets Society (1989)</td>\n      <td>Drama</td>\n      <td>86.0</td>\n      <td>3.959302</td>\n    </tr>\n  </tbody>\n</table>\n</div>"
     },
     "execution_count": 66,
     "metadata": {},
     "output_type": "execute_result"
    }
   ],
   "source": [
    "sugere_para(381).head()"
   ],
   "metadata": {
    "collapsed": false
   }
  },
  {
   "cell_type": "code",
   "execution_count": 67,
   "outputs": [],
   "source": [
    "def sugere_para(voce, k_mais_proximos = 10, n = None):\n",
    "  notas_de_voce = notas_do_usuario(voce)\n",
    "  filmes_que_voce_ja_viu = notas_de_voce.index\n",
    "\n",
    "  similares = knn(voce, k_mais_proximos = k_mais_proximos, n = n)\n",
    "  usuarios_similares = similares.index\n",
    "  notas_dos_similares = notas.set_index(\"usuarioId\").loc[usuarios_similares]\n",
    "  recomendacoes = notas_dos_similares.groupby(\"filmeId\").mean()[[\"nota\"]]\n",
    "  aparicoes = notas_dos_similares.groupby(\"filmeId\").count()[['nota']]\n",
    "\n",
    "  filtro_minimo = k_mais_proximos / 2\n",
    "  recomendacoes = recomendacoes.join(aparicoes, lsuffix=\"_media_dos_usuarios\", rsuffix=\"_aparicoes_nos_usuarios\")\n",
    "  recomendacoes = recomendacoes.query(\"nota_aparicoes_nos_usuarios >= %.2f\" % filtro_minimo)\n",
    "  recomendacoes = recomendacoes.sort_values(\"nota_media_dos_usuarios\", ascending=False)\n",
    "  recomendacoes = recomendacoes.drop(filmes_que_voce_ja_viu,errors='ignore')\n",
    "  return recomendacoes.join(filmes)"
   ],
   "metadata": {
    "collapsed": false
   }
  },
  {
   "cell_type": "code",
   "execution_count": 68,
   "outputs": [],
   "source": [
    "def knn(voce_id, k_mais_proximos=10, n = None):\n",
    "  distancias = distancia_de_todos(voce_id, n = n)\n",
    "  distancias = distancias.sort_values(\"distancia\")\n",
    "  distancias = distancias.set_index(\"outra_pessoa\").drop(voce_id, errors='ignore')\n",
    "  return distancias.head(k_mais_proximos)"
   ],
   "metadata": {
    "collapsed": false
   }
  },
  {
   "cell_type": "code",
   "execution_count": 69,
   "outputs": [
    {
     "data": {
      "text/plain": "         nota_media_dos_usuarios  nota_aparicoes_nos_usuarios  \\\nfilmeId                                                         \n7153                    4.750000                            6   \n58559                   4.750000                            6   \n4993                    4.666667                            6   \n318                     4.642857                            7   \n109487                  4.583333                            6   \n79132                   4.357143                            7   \n\n                                                    titulo  \\\nfilmeId                                                      \n7153     Lord of the Rings: The Return of the King, The...   \n58559                              Dark Knight, The (2008)   \n4993     Lord of the Rings: The Fellowship of the Ring,...   \n318                       Shawshank Redemption, The (1994)   \n109487                                 Interstellar (2014)   \n79132                                     Inception (2010)   \n\n                                                 generos  total_de_votos  \\\nfilmeId                                                                    \n7153                      Action|Adventure|Drama|Fantasy           185.0   \n58559                            Action|Crime|Drama|IMAX           149.0   \n4993                                   Adventure|Fantasy           198.0   \n318                                          Crime|Drama           317.0   \n109487                                       Sci-Fi|IMAX            73.0   \n79132    Action|Crime|Drama|Mystery|Sci-Fi|Thriller|IMAX           143.0   \n\n         notas_medias  \nfilmeId                \n7153         4.118919  \n58559        4.238255  \n4993         4.106061  \n318          4.429022  \n109487       3.993151  \n79132        4.066434  ",
      "text/html": "<div>\n<style scoped>\n    .dataframe tbody tr th:only-of-type {\n        vertical-align: middle;\n    }\n\n    .dataframe tbody tr th {\n        vertical-align: top;\n    }\n\n    .dataframe thead th {\n        text-align: right;\n    }\n</style>\n<table border=\"1\" class=\"dataframe\">\n  <thead>\n    <tr style=\"text-align: right;\">\n      <th></th>\n      <th>nota_media_dos_usuarios</th>\n      <th>nota_aparicoes_nos_usuarios</th>\n      <th>titulo</th>\n      <th>generos</th>\n      <th>total_de_votos</th>\n      <th>notas_medias</th>\n    </tr>\n    <tr>\n      <th>filmeId</th>\n      <th></th>\n      <th></th>\n      <th></th>\n      <th></th>\n      <th></th>\n      <th></th>\n    </tr>\n  </thead>\n  <tbody>\n    <tr>\n      <th>7153</th>\n      <td>4.750000</td>\n      <td>6</td>\n      <td>Lord of the Rings: The Return of the King, The...</td>\n      <td>Action|Adventure|Drama|Fantasy</td>\n      <td>185.0</td>\n      <td>4.118919</td>\n    </tr>\n    <tr>\n      <th>58559</th>\n      <td>4.750000</td>\n      <td>6</td>\n      <td>Dark Knight, The (2008)</td>\n      <td>Action|Crime|Drama|IMAX</td>\n      <td>149.0</td>\n      <td>4.238255</td>\n    </tr>\n    <tr>\n      <th>4993</th>\n      <td>4.666667</td>\n      <td>6</td>\n      <td>Lord of the Rings: The Fellowship of the Ring,...</td>\n      <td>Adventure|Fantasy</td>\n      <td>198.0</td>\n      <td>4.106061</td>\n    </tr>\n    <tr>\n      <th>318</th>\n      <td>4.642857</td>\n      <td>7</td>\n      <td>Shawshank Redemption, The (1994)</td>\n      <td>Crime|Drama</td>\n      <td>317.0</td>\n      <td>4.429022</td>\n    </tr>\n    <tr>\n      <th>109487</th>\n      <td>4.583333</td>\n      <td>6</td>\n      <td>Interstellar (2014)</td>\n      <td>Sci-Fi|IMAX</td>\n      <td>73.0</td>\n      <td>3.993151</td>\n    </tr>\n    <tr>\n      <th>79132</th>\n      <td>4.357143</td>\n      <td>7</td>\n      <td>Inception (2010)</td>\n      <td>Action|Crime|Drama|Mystery|Sci-Fi|Thriller|IMAX</td>\n      <td>143.0</td>\n      <td>4.066434</td>\n    </tr>\n  </tbody>\n</table>\n</div>"
     },
     "execution_count": 69,
     "metadata": {},
     "output_type": "execute_result"
    }
   ],
   "source": [
    "sugere_para(1, n=500)"
   ],
   "metadata": {
    "collapsed": false
   }
  },
  {
   "cell_type": "code",
   "execution_count": 70,
   "outputs": [
    {
     "data": {
      "text/plain": "         nota_media_dos_usuarios  nota_aparicoes_nos_usuarios  \\\nfilmeId                                                         \n318                     4.500000                            8   \n919                     4.400000                            5   \n79132                   4.357143                            7   \n356                     4.350000                           10   \n7361                    4.312500                            8   \n904                     4.300000                            5   \n593                     4.222222                            9   \n46578                   4.214286                            7   \n4246                    4.200000                            5   \n4011                    4.200000                            5   \n\n                                               titulo  \\\nfilmeId                                                 \n318                  Shawshank Redemption, The (1994)   \n919                          Wizard of Oz, The (1939)   \n79132                                Inception (2010)   \n356                               Forrest Gump (1994)   \n7361     Eternal Sunshine of the Spotless Mind (2004)   \n904                                Rear Window (1954)   \n593                  Silence of the Lambs, The (1991)   \n46578                     Little Miss Sunshine (2006)   \n4246                     Bridget Jones's Diary (2001)   \n4011                                    Snatch (2000)   \n\n                                                 generos  total_de_votos  \\\nfilmeId                                                                    \n318                                          Crime|Drama           317.0   \n919                   Adventure|Children|Fantasy|Musical            92.0   \n79132    Action|Crime|Drama|Mystery|Sci-Fi|Thriller|IMAX           143.0   \n356                             Comedy|Drama|Romance|War           329.0   \n7361                                Drama|Romance|Sci-Fi           131.0   \n904                                     Mystery|Thriller            84.0   \n593                                Crime|Horror|Thriller           279.0   \n46578                             Adventure|Comedy|Drama            77.0   \n4246                                Comedy|Drama|Romance            65.0   \n4011                               Comedy|Crime|Thriller            93.0   \n\n         notas_medias  \nfilmeId                \n318          4.429022  \n919          3.880435  \n79132        4.066434  \n356          4.164134  \n7361         4.160305  \n904          4.261905  \n593          4.161290  \n46578        3.883117  \n4246         3.623077  \n4011         4.155914  ",
      "text/html": "<div>\n<style scoped>\n    .dataframe tbody tr th:only-of-type {\n        vertical-align: middle;\n    }\n\n    .dataframe tbody tr th {\n        vertical-align: top;\n    }\n\n    .dataframe thead th {\n        text-align: right;\n    }\n</style>\n<table border=\"1\" class=\"dataframe\">\n  <thead>\n    <tr style=\"text-align: right;\">\n      <th></th>\n      <th>nota_media_dos_usuarios</th>\n      <th>nota_aparicoes_nos_usuarios</th>\n      <th>titulo</th>\n      <th>generos</th>\n      <th>total_de_votos</th>\n      <th>notas_medias</th>\n    </tr>\n    <tr>\n      <th>filmeId</th>\n      <th></th>\n      <th></th>\n      <th></th>\n      <th></th>\n      <th></th>\n      <th></th>\n    </tr>\n  </thead>\n  <tbody>\n    <tr>\n      <th>318</th>\n      <td>4.500000</td>\n      <td>8</td>\n      <td>Shawshank Redemption, The (1994)</td>\n      <td>Crime|Drama</td>\n      <td>317.0</td>\n      <td>4.429022</td>\n    </tr>\n    <tr>\n      <th>919</th>\n      <td>4.400000</td>\n      <td>5</td>\n      <td>Wizard of Oz, The (1939)</td>\n      <td>Adventure|Children|Fantasy|Musical</td>\n      <td>92.0</td>\n      <td>3.880435</td>\n    </tr>\n    <tr>\n      <th>79132</th>\n      <td>4.357143</td>\n      <td>7</td>\n      <td>Inception (2010)</td>\n      <td>Action|Crime|Drama|Mystery|Sci-Fi|Thriller|IMAX</td>\n      <td>143.0</td>\n      <td>4.066434</td>\n    </tr>\n    <tr>\n      <th>356</th>\n      <td>4.350000</td>\n      <td>10</td>\n      <td>Forrest Gump (1994)</td>\n      <td>Comedy|Drama|Romance|War</td>\n      <td>329.0</td>\n      <td>4.164134</td>\n    </tr>\n    <tr>\n      <th>7361</th>\n      <td>4.312500</td>\n      <td>8</td>\n      <td>Eternal Sunshine of the Spotless Mind (2004)</td>\n      <td>Drama|Romance|Sci-Fi</td>\n      <td>131.0</td>\n      <td>4.160305</td>\n    </tr>\n    <tr>\n      <th>904</th>\n      <td>4.300000</td>\n      <td>5</td>\n      <td>Rear Window (1954)</td>\n      <td>Mystery|Thriller</td>\n      <td>84.0</td>\n      <td>4.261905</td>\n    </tr>\n    <tr>\n      <th>593</th>\n      <td>4.222222</td>\n      <td>9</td>\n      <td>Silence of the Lambs, The (1991)</td>\n      <td>Crime|Horror|Thriller</td>\n      <td>279.0</td>\n      <td>4.161290</td>\n    </tr>\n    <tr>\n      <th>46578</th>\n      <td>4.214286</td>\n      <td>7</td>\n      <td>Little Miss Sunshine (2006)</td>\n      <td>Adventure|Comedy|Drama</td>\n      <td>77.0</td>\n      <td>3.883117</td>\n    </tr>\n    <tr>\n      <th>4246</th>\n      <td>4.200000</td>\n      <td>5</td>\n      <td>Bridget Jones's Diary (2001)</td>\n      <td>Comedy|Drama|Romance</td>\n      <td>65.0</td>\n      <td>3.623077</td>\n    </tr>\n    <tr>\n      <th>4011</th>\n      <td>4.200000</td>\n      <td>5</td>\n      <td>Snatch (2000)</td>\n      <td>Comedy|Crime|Thriller</td>\n      <td>93.0</td>\n      <td>4.155914</td>\n    </tr>\n  </tbody>\n</table>\n</div>"
     },
     "execution_count": 70,
     "metadata": {},
     "output_type": "execute_result"
    }
   ],
   "source": [
    "sugere_para(611).head(10)"
   ],
   "metadata": {
    "collapsed": false
   }
  },
  {
   "cell_type": "code",
   "execution_count": 71,
   "outputs": [
    {
     "data": {
      "text/plain": "         nota_media_dos_usuarios  nota_aparicoes_nos_usuarios  \\\nfilmeId                                                         \n593                     4.266667                           15   \n296                     4.264706                           17   \n4973                    4.192308                           13   \n318                     4.176471                           17   \n46578                   4.150000                           10   \n590                     4.136364                           11   \n7361                    4.133333                           15   \n4878                    4.125000                           12   \n1213                    4.100000                           10   \n5618                    4.100000                           10   \n\n                                                    titulo  \\\nfilmeId                                                      \n593                       Silence of the Lambs, The (1991)   \n296                                    Pulp Fiction (1994)   \n4973     Amelie (Fabuleux destin d'Amélie Poulain, Le) ...   \n318                       Shawshank Redemption, The (1994)   \n46578                          Little Miss Sunshine (2006)   \n590                              Dances with Wolves (1990)   \n7361          Eternal Sunshine of the Spotless Mind (2004)   \n4878                                   Donnie Darko (2001)   \n1213                                     Goodfellas (1990)   \n5618     Spirited Away (Sen to Chihiro no kamikakushi) ...   \n\n                               generos  total_de_votos  notas_medias  \nfilmeId                                                               \n593              Crime|Horror|Thriller           279.0      4.161290  \n296        Comedy|Crime|Drama|Thriller           307.0      4.197068  \n4973                    Comedy|Romance           120.0      4.183333  \n318                        Crime|Drama           317.0      4.429022  \n46578           Adventure|Comedy|Drama            77.0      3.883117  \n590            Adventure|Drama|Western           164.0      3.835366  \n7361              Drama|Romance|Sci-Fi           131.0      4.160305  \n4878     Drama|Mystery|Sci-Fi|Thriller           109.0      3.981651  \n1213                       Crime|Drama           126.0      4.250000  \n5618       Adventure|Animation|Fantasy            87.0      4.155172  ",
      "text/html": "<div>\n<style scoped>\n    .dataframe tbody tr th:only-of-type {\n        vertical-align: middle;\n    }\n\n    .dataframe tbody tr th {\n        vertical-align: top;\n    }\n\n    .dataframe thead th {\n        text-align: right;\n    }\n</style>\n<table border=\"1\" class=\"dataframe\">\n  <thead>\n    <tr style=\"text-align: right;\">\n      <th></th>\n      <th>nota_media_dos_usuarios</th>\n      <th>nota_aparicoes_nos_usuarios</th>\n      <th>titulo</th>\n      <th>generos</th>\n      <th>total_de_votos</th>\n      <th>notas_medias</th>\n    </tr>\n    <tr>\n      <th>filmeId</th>\n      <th></th>\n      <th></th>\n      <th></th>\n      <th></th>\n      <th></th>\n      <th></th>\n    </tr>\n  </thead>\n  <tbody>\n    <tr>\n      <th>593</th>\n      <td>4.266667</td>\n      <td>15</td>\n      <td>Silence of the Lambs, The (1991)</td>\n      <td>Crime|Horror|Thriller</td>\n      <td>279.0</td>\n      <td>4.161290</td>\n    </tr>\n    <tr>\n      <th>296</th>\n      <td>4.264706</td>\n      <td>17</td>\n      <td>Pulp Fiction (1994)</td>\n      <td>Comedy|Crime|Drama|Thriller</td>\n      <td>307.0</td>\n      <td>4.197068</td>\n    </tr>\n    <tr>\n      <th>4973</th>\n      <td>4.192308</td>\n      <td>13</td>\n      <td>Amelie (Fabuleux destin d'Amélie Poulain, Le) ...</td>\n      <td>Comedy|Romance</td>\n      <td>120.0</td>\n      <td>4.183333</td>\n    </tr>\n    <tr>\n      <th>318</th>\n      <td>4.176471</td>\n      <td>17</td>\n      <td>Shawshank Redemption, The (1994)</td>\n      <td>Crime|Drama</td>\n      <td>317.0</td>\n      <td>4.429022</td>\n    </tr>\n    <tr>\n      <th>46578</th>\n      <td>4.150000</td>\n      <td>10</td>\n      <td>Little Miss Sunshine (2006)</td>\n      <td>Adventure|Comedy|Drama</td>\n      <td>77.0</td>\n      <td>3.883117</td>\n    </tr>\n    <tr>\n      <th>590</th>\n      <td>4.136364</td>\n      <td>11</td>\n      <td>Dances with Wolves (1990)</td>\n      <td>Adventure|Drama|Western</td>\n      <td>164.0</td>\n      <td>3.835366</td>\n    </tr>\n    <tr>\n      <th>7361</th>\n      <td>4.133333</td>\n      <td>15</td>\n      <td>Eternal Sunshine of the Spotless Mind (2004)</td>\n      <td>Drama|Romance|Sci-Fi</td>\n      <td>131.0</td>\n      <td>4.160305</td>\n    </tr>\n    <tr>\n      <th>4878</th>\n      <td>4.125000</td>\n      <td>12</td>\n      <td>Donnie Darko (2001)</td>\n      <td>Drama|Mystery|Sci-Fi|Thriller</td>\n      <td>109.0</td>\n      <td>3.981651</td>\n    </tr>\n    <tr>\n      <th>1213</th>\n      <td>4.100000</td>\n      <td>10</td>\n      <td>Goodfellas (1990)</td>\n      <td>Crime|Drama</td>\n      <td>126.0</td>\n      <td>4.250000</td>\n    </tr>\n    <tr>\n      <th>5618</th>\n      <td>4.100000</td>\n      <td>10</td>\n      <td>Spirited Away (Sen to Chihiro no kamikakushi) ...</td>\n      <td>Adventure|Animation|Fantasy</td>\n      <td>87.0</td>\n      <td>4.155172</td>\n    </tr>\n  </tbody>\n</table>\n</div>"
     },
     "execution_count": 71,
     "metadata": {},
     "output_type": "execute_result"
    }
   ],
   "source": [
    "sugere_para(611, k_mais_proximos=20).head(10)"
   ],
   "metadata": {
    "collapsed": false
   }
  },
  {
   "cell_type": "code",
   "execution_count": 71,
   "outputs": [],
   "source": [],
   "metadata": {
    "collapsed": false
   }
  }
 ],
 "metadata": {
  "kernelspec": {
   "display_name": "Python 3",
   "language": "python",
   "name": "python3"
  },
  "language_info": {
   "codemirror_mode": {
    "name": "ipython",
    "version": 2
   },
   "file_extension": ".py",
   "mimetype": "text/x-python",
   "name": "python",
   "nbconvert_exporter": "python",
   "pygments_lexer": "ipython2",
   "version": "2.7.6"
  }
 },
 "nbformat": 4,
 "nbformat_minor": 0
}
