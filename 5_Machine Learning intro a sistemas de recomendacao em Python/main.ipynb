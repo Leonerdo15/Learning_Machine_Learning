{
 "cells": [
  {
   "cell_type": "code",
   "execution_count": 17,
   "metadata": {
    "collapsed": true,
    "pycharm": {
     "name": "#%%\n"
    }
   },
   "outputs": [
    {
     "data": {
      "text/plain": "                                     titulo  \\\nfilmeId                                       \n1                          Toy Story (1995)   \n2                            Jumanji (1995)   \n3                   Grumpier Old Men (1995)   \n4                  Waiting to Exhale (1995)   \n5        Father of the Bride Part II (1995)   \n\n                                             generos  \nfilmeId                                               \n1        Adventure|Animation|Children|Comedy|Fantasy  \n2                         Adventure|Children|Fantasy  \n3                                     Comedy|Romance  \n4                               Comedy|Drama|Romance  \n5                                             Comedy  ",
      "text/html": "<div>\n<style scoped>\n    .dataframe tbody tr th:only-of-type {\n        vertical-align: middle;\n    }\n\n    .dataframe tbody tr th {\n        vertical-align: top;\n    }\n\n    .dataframe thead th {\n        text-align: right;\n    }\n</style>\n<table border=\"1\" class=\"dataframe\">\n  <thead>\n    <tr style=\"text-align: right;\">\n      <th></th>\n      <th>titulo</th>\n      <th>generos</th>\n    </tr>\n    <tr>\n      <th>filmeId</th>\n      <th></th>\n      <th></th>\n    </tr>\n  </thead>\n  <tbody>\n    <tr>\n      <th>1</th>\n      <td>Toy Story (1995)</td>\n      <td>Adventure|Animation|Children|Comedy|Fantasy</td>\n    </tr>\n    <tr>\n      <th>2</th>\n      <td>Jumanji (1995)</td>\n      <td>Adventure|Children|Fantasy</td>\n    </tr>\n    <tr>\n      <th>3</th>\n      <td>Grumpier Old Men (1995)</td>\n      <td>Comedy|Romance</td>\n    </tr>\n    <tr>\n      <th>4</th>\n      <td>Waiting to Exhale (1995)</td>\n      <td>Comedy|Drama|Romance</td>\n    </tr>\n    <tr>\n      <th>5</th>\n      <td>Father of the Bride Part II (1995)</td>\n      <td>Comedy</td>\n    </tr>\n  </tbody>\n</table>\n</div>"
     },
     "execution_count": 17,
     "metadata": {},
     "output_type": "execute_result"
    }
   ],
   "source": [
    "import pandas as pd\n",
    "\n",
    "filmes = pd.read_csv(\"ml-latest-small/movies.csv\")\n",
    "filmes.columns = [\"filmeId\",\"titulo\",\"generos\"]\n",
    "filmes = filmes.set_index(\"filmeId\")\n",
    "filmes.head()"
   ]
  },
  {
   "cell_type": "code",
   "execution_count": 18,
   "outputs": [
    {
     "data": {
      "text/plain": "   usuarioId  filmeId  nota    momento\n0          1        1   4.0  964982703\n1          1        3   4.0  964981247\n2          1        6   4.0  964982224\n3          1       47   5.0  964983815\n4          1       50   5.0  964982931",
      "text/html": "<div>\n<style scoped>\n    .dataframe tbody tr th:only-of-type {\n        vertical-align: middle;\n    }\n\n    .dataframe tbody tr th {\n        vertical-align: top;\n    }\n\n    .dataframe thead th {\n        text-align: right;\n    }\n</style>\n<table border=\"1\" class=\"dataframe\">\n  <thead>\n    <tr style=\"text-align: right;\">\n      <th></th>\n      <th>usuarioId</th>\n      <th>filmeId</th>\n      <th>nota</th>\n      <th>momento</th>\n    </tr>\n  </thead>\n  <tbody>\n    <tr>\n      <th>0</th>\n      <td>1</td>\n      <td>1</td>\n      <td>4.0</td>\n      <td>964982703</td>\n    </tr>\n    <tr>\n      <th>1</th>\n      <td>1</td>\n      <td>3</td>\n      <td>4.0</td>\n      <td>964981247</td>\n    </tr>\n    <tr>\n      <th>2</th>\n      <td>1</td>\n      <td>6</td>\n      <td>4.0</td>\n      <td>964982224</td>\n    </tr>\n    <tr>\n      <th>3</th>\n      <td>1</td>\n      <td>47</td>\n      <td>5.0</td>\n      <td>964983815</td>\n    </tr>\n    <tr>\n      <th>4</th>\n      <td>1</td>\n      <td>50</td>\n      <td>5.0</td>\n      <td>964982931</td>\n    </tr>\n  </tbody>\n</table>\n</div>"
     },
     "execution_count": 18,
     "metadata": {},
     "output_type": "execute_result"
    }
   ],
   "source": [
    "notas = pd.read_csv(\"ml-latest-small/ratings.csv\")\n",
    "notas.columns = [\"usuarioId\",\"filmeId\",\"nota\",\"momento\"]\n",
    "notas.head()"
   ],
   "metadata": {
    "collapsed": false,
    "pycharm": {
     "name": "#%%\n"
    }
   }
  },
  {
   "cell_type": "code",
   "execution_count": 19,
   "outputs": [
    {
     "data": {
      "text/plain": "           usuarioId        filmeId           nota       momento\ncount  100836.000000  100836.000000  100836.000000  1.008360e+05\nmean      326.127564   19435.295718       3.501557  1.205946e+09\nstd       182.618491   35530.987199       1.042529  2.162610e+08\nmin         1.000000       1.000000       0.500000  8.281246e+08\n25%       177.000000    1199.000000       3.000000  1.019124e+09\n50%       325.000000    2991.000000       3.500000  1.186087e+09\n75%       477.000000    8122.000000       4.000000  1.435994e+09\nmax       610.000000  193609.000000       5.000000  1.537799e+09",
      "text/html": "<div>\n<style scoped>\n    .dataframe tbody tr th:only-of-type {\n        vertical-align: middle;\n    }\n\n    .dataframe tbody tr th {\n        vertical-align: top;\n    }\n\n    .dataframe thead th {\n        text-align: right;\n    }\n</style>\n<table border=\"1\" class=\"dataframe\">\n  <thead>\n    <tr style=\"text-align: right;\">\n      <th></th>\n      <th>usuarioId</th>\n      <th>filmeId</th>\n      <th>nota</th>\n      <th>momento</th>\n    </tr>\n  </thead>\n  <tbody>\n    <tr>\n      <th>count</th>\n      <td>100836.000000</td>\n      <td>100836.000000</td>\n      <td>100836.000000</td>\n      <td>1.008360e+05</td>\n    </tr>\n    <tr>\n      <th>mean</th>\n      <td>326.127564</td>\n      <td>19435.295718</td>\n      <td>3.501557</td>\n      <td>1.205946e+09</td>\n    </tr>\n    <tr>\n      <th>std</th>\n      <td>182.618491</td>\n      <td>35530.987199</td>\n      <td>1.042529</td>\n      <td>2.162610e+08</td>\n    </tr>\n    <tr>\n      <th>min</th>\n      <td>1.000000</td>\n      <td>1.000000</td>\n      <td>0.500000</td>\n      <td>8.281246e+08</td>\n    </tr>\n    <tr>\n      <th>25%</th>\n      <td>177.000000</td>\n      <td>1199.000000</td>\n      <td>3.000000</td>\n      <td>1.019124e+09</td>\n    </tr>\n    <tr>\n      <th>50%</th>\n      <td>325.000000</td>\n      <td>2991.000000</td>\n      <td>3.500000</td>\n      <td>1.186087e+09</td>\n    </tr>\n    <tr>\n      <th>75%</th>\n      <td>477.000000</td>\n      <td>8122.000000</td>\n      <td>4.000000</td>\n      <td>1.435994e+09</td>\n    </tr>\n    <tr>\n      <th>max</th>\n      <td>610.000000</td>\n      <td>193609.000000</td>\n      <td>5.000000</td>\n      <td>1.537799e+09</td>\n    </tr>\n  </tbody>\n</table>\n</div>"
     },
     "execution_count": 19,
     "metadata": {},
     "output_type": "execute_result"
    }
   ],
   "source": [
    "notas.describe()"
   ],
   "metadata": {
    "collapsed": false,
    "pycharm": {
     "name": "#%%\n"
    }
   }
  },
  {
   "cell_type": "code",
   "execution_count": 23,
   "outputs": [
    {
     "data": {
      "text/plain": "356     329\n318     317\n296     307\n593     279\n2571    278\nName: filmeId, dtype: int64"
     },
     "execution_count": 23,
     "metadata": {},
     "output_type": "execute_result"
    }
   ],
   "source": [
    "total_de_votos = notas[\"filmeId\"].value_counts()\n",
    "total_de_votos.head()"
   ],
   "metadata": {
    "collapsed": false,
    "pycharm": {
     "name": "#%%\n"
    }
   }
  },
  {
   "cell_type": "code",
   "execution_count": 22,
   "outputs": [
    {
     "data": {
      "text/plain": "titulo          Forrest Gump (1994)\ngeneros    Comedy|Drama|Romance|War\nName: 356, dtype: object"
     },
     "execution_count": 22,
     "metadata": {},
     "output_type": "execute_result"
    }
   ],
   "source": [
    "filmes.loc[356]"
   ],
   "metadata": {
    "collapsed": false,
    "pycharm": {
     "name": "#%%\n"
    }
   }
  },
  {
   "cell_type": "code",
   "execution_count": 24,
   "outputs": [],
   "source": [
    "filmes[\"total_de_votos\"] = total_de_votos"
   ],
   "metadata": {
    "collapsed": false,
    "pycharm": {
     "name": "#%%\n"
    }
   }
  },
  {
   "cell_type": "code",
   "execution_count": 25,
   "outputs": [
    {
     "data": {
      "text/plain": "                                            titulo  \\\nfilmeId                                              \n1                                 Toy Story (1995)   \n2                                   Jumanji (1995)   \n3                          Grumpier Old Men (1995)   \n4                         Waiting to Exhale (1995)   \n5               Father of the Bride Part II (1995)   \n...                                            ...   \n193581   Black Butler: Book of the Atlantic (2017)   \n193583                No Game No Life: Zero (2017)   \n193585                                Flint (2017)   \n193587         Bungo Stray Dogs: Dead Apple (2018)   \n193609         Andrew Dice Clay: Dice Rules (1991)   \n\n                                             generos  total_de_votos  \nfilmeId                                                               \n1        Adventure|Animation|Children|Comedy|Fantasy           215.0  \n2                         Adventure|Children|Fantasy           110.0  \n3                                     Comedy|Romance            52.0  \n4                               Comedy|Drama|Romance             7.0  \n5                                             Comedy            49.0  \n...                                              ...             ...  \n193581               Action|Animation|Comedy|Fantasy             1.0  \n193583                      Animation|Comedy|Fantasy             1.0  \n193585                                         Drama             1.0  \n193587                              Action|Animation             1.0  \n193609                                        Comedy             1.0  \n\n[9742 rows x 3 columns]",
      "text/html": "<div>\n<style scoped>\n    .dataframe tbody tr th:only-of-type {\n        vertical-align: middle;\n    }\n\n    .dataframe tbody tr th {\n        vertical-align: top;\n    }\n\n    .dataframe thead th {\n        text-align: right;\n    }\n</style>\n<table border=\"1\" class=\"dataframe\">\n  <thead>\n    <tr style=\"text-align: right;\">\n      <th></th>\n      <th>titulo</th>\n      <th>generos</th>\n      <th>total_de_votos</th>\n    </tr>\n    <tr>\n      <th>filmeId</th>\n      <th></th>\n      <th></th>\n      <th></th>\n    </tr>\n  </thead>\n  <tbody>\n    <tr>\n      <th>1</th>\n      <td>Toy Story (1995)</td>\n      <td>Adventure|Animation|Children|Comedy|Fantasy</td>\n      <td>215.0</td>\n    </tr>\n    <tr>\n      <th>2</th>\n      <td>Jumanji (1995)</td>\n      <td>Adventure|Children|Fantasy</td>\n      <td>110.0</td>\n    </tr>\n    <tr>\n      <th>3</th>\n      <td>Grumpier Old Men (1995)</td>\n      <td>Comedy|Romance</td>\n      <td>52.0</td>\n    </tr>\n    <tr>\n      <th>4</th>\n      <td>Waiting to Exhale (1995)</td>\n      <td>Comedy|Drama|Romance</td>\n      <td>7.0</td>\n    </tr>\n    <tr>\n      <th>5</th>\n      <td>Father of the Bride Part II (1995)</td>\n      <td>Comedy</td>\n      <td>49.0</td>\n    </tr>\n    <tr>\n      <th>...</th>\n      <td>...</td>\n      <td>...</td>\n      <td>...</td>\n    </tr>\n    <tr>\n      <th>193581</th>\n      <td>Black Butler: Book of the Atlantic (2017)</td>\n      <td>Action|Animation|Comedy|Fantasy</td>\n      <td>1.0</td>\n    </tr>\n    <tr>\n      <th>193583</th>\n      <td>No Game No Life: Zero (2017)</td>\n      <td>Animation|Comedy|Fantasy</td>\n      <td>1.0</td>\n    </tr>\n    <tr>\n      <th>193585</th>\n      <td>Flint (2017)</td>\n      <td>Drama</td>\n      <td>1.0</td>\n    </tr>\n    <tr>\n      <th>193587</th>\n      <td>Bungo Stray Dogs: Dead Apple (2018)</td>\n      <td>Action|Animation</td>\n      <td>1.0</td>\n    </tr>\n    <tr>\n      <th>193609</th>\n      <td>Andrew Dice Clay: Dice Rules (1991)</td>\n      <td>Comedy</td>\n      <td>1.0</td>\n    </tr>\n  </tbody>\n</table>\n<p>9742 rows × 3 columns</p>\n</div>"
     },
     "execution_count": 25,
     "metadata": {},
     "output_type": "execute_result"
    }
   ],
   "source": [
    "filmes"
   ],
   "metadata": {
    "collapsed": false,
    "pycharm": {
     "name": "#%%\n"
    }
   }
  },
  {
   "cell_type": "code",
   "execution_count": 27,
   "outputs": [
    {
     "data": {
      "text/plain": "                                     titulo  \\\nfilmeId                                       \n1                          Toy Story (1995)   \n2                            Jumanji (1995)   \n3                   Grumpier Old Men (1995)   \n4                  Waiting to Exhale (1995)   \n5        Father of the Bride Part II (1995)   \n\n                                             generos  total_de_votos  \nfilmeId                                                               \n1        Adventure|Animation|Children|Comedy|Fantasy           215.0  \n2                         Adventure|Children|Fantasy           110.0  \n3                                     Comedy|Romance            52.0  \n4                               Comedy|Drama|Romance             7.0  \n5                                             Comedy            49.0  ",
      "text/html": "<div>\n<style scoped>\n    .dataframe tbody tr th:only-of-type {\n        vertical-align: middle;\n    }\n\n    .dataframe tbody tr th {\n        vertical-align: top;\n    }\n\n    .dataframe thead th {\n        text-align: right;\n    }\n</style>\n<table border=\"1\" class=\"dataframe\">\n  <thead>\n    <tr style=\"text-align: right;\">\n      <th></th>\n      <th>titulo</th>\n      <th>generos</th>\n      <th>total_de_votos</th>\n    </tr>\n    <tr>\n      <th>filmeId</th>\n      <th></th>\n      <th></th>\n      <th></th>\n    </tr>\n  </thead>\n  <tbody>\n    <tr>\n      <th>1</th>\n      <td>Toy Story (1995)</td>\n      <td>Adventure|Animation|Children|Comedy|Fantasy</td>\n      <td>215.0</td>\n    </tr>\n    <tr>\n      <th>2</th>\n      <td>Jumanji (1995)</td>\n      <td>Adventure|Children|Fantasy</td>\n      <td>110.0</td>\n    </tr>\n    <tr>\n      <th>3</th>\n      <td>Grumpier Old Men (1995)</td>\n      <td>Comedy|Romance</td>\n      <td>52.0</td>\n    </tr>\n    <tr>\n      <th>4</th>\n      <td>Waiting to Exhale (1995)</td>\n      <td>Comedy|Drama|Romance</td>\n      <td>7.0</td>\n    </tr>\n    <tr>\n      <th>5</th>\n      <td>Father of the Bride Part II (1995)</td>\n      <td>Comedy</td>\n      <td>49.0</td>\n    </tr>\n  </tbody>\n</table>\n</div>"
     },
     "execution_count": 27,
     "metadata": {},
     "output_type": "execute_result"
    }
   ],
   "source": [
    "filmes.sort_values(\"total_de_votos\", ascending=False)\n",
    "filmes.head()"
   ],
   "metadata": {
    "collapsed": false,
    "pycharm": {
     "name": "#%%\n"
    }
   }
  },
  {
   "cell_type": "code",
   "execution_count": 34,
   "outputs": [
    {
     "data": {
      "text/plain": "filmeId\n88448     5.0\n100556    5.0\n143031    5.0\n143511    5.0\n143559    5.0\n         ... \n157172    0.5\n85334     0.5\n53453     0.5\n8494      0.5\n71810     0.5\nName: nota, Length: 9724, dtype: float64"
     },
     "execution_count": 34,
     "metadata": {},
     "output_type": "execute_result"
    }
   ],
   "source": [
    "notas_medias = notas.groupby(\"filmeId\").mean().nota\n",
    "filmes[\"notas_medias\"] = notas_medias\n",
    "filmes.sort_values(\"notas_medias\", ascending=False).head(10)"
   ],
   "metadata": {
    "collapsed": false,
    "pycharm": {
     "name": "#%%\n"
    }
   }
  },
  {
   "cell_type": "code",
   "execution_count": 35,
   "outputs": [
    {
     "data": {
      "text/plain": "                                        titulo           generos  \\\nfilmeId                                                            \n1041                     Secrets & Lies (1996)             Drama   \n3451       Guess Who's Coming to Dinner (1967)             Drama   \n1178                     Paths of Glory (1957)         Drama|War   \n1104          Streetcar Named Desire, A (1951)             Drama   \n2360          Celebration, The (Festen) (1998)             Drama   \n1217                                Ran (1985)         Drama|War   \n318           Shawshank Redemption, The (1994)       Crime|Drama   \n951                     His Girl Friday (1940)    Comedy|Romance   \n1927     All Quiet on the Western Front (1930)  Action|Drama|War   \n3468                       Hustler, The (1961)             Drama   \n\n         total_de_votos  notas_medias  \nfilmeId                                \n1041               11.0      4.590909  \n3451               11.0      4.545455  \n1178               12.0      4.541667  \n1104               20.0      4.475000  \n2360               12.0      4.458333  \n1217               15.0      4.433333  \n318               317.0      4.429022  \n951                14.0      4.392857  \n1927               10.0      4.350000  \n3468               18.0      4.333333  ",
      "text/html": "<div>\n<style scoped>\n    .dataframe tbody tr th:only-of-type {\n        vertical-align: middle;\n    }\n\n    .dataframe tbody tr th {\n        vertical-align: top;\n    }\n\n    .dataframe thead th {\n        text-align: right;\n    }\n</style>\n<table border=\"1\" class=\"dataframe\">\n  <thead>\n    <tr style=\"text-align: right;\">\n      <th></th>\n      <th>titulo</th>\n      <th>generos</th>\n      <th>total_de_votos</th>\n      <th>notas_medias</th>\n    </tr>\n    <tr>\n      <th>filmeId</th>\n      <th></th>\n      <th></th>\n      <th></th>\n      <th></th>\n    </tr>\n  </thead>\n  <tbody>\n    <tr>\n      <th>1041</th>\n      <td>Secrets &amp; Lies (1996)</td>\n      <td>Drama</td>\n      <td>11.0</td>\n      <td>4.590909</td>\n    </tr>\n    <tr>\n      <th>3451</th>\n      <td>Guess Who's Coming to Dinner (1967)</td>\n      <td>Drama</td>\n      <td>11.0</td>\n      <td>4.545455</td>\n    </tr>\n    <tr>\n      <th>1178</th>\n      <td>Paths of Glory (1957)</td>\n      <td>Drama|War</td>\n      <td>12.0</td>\n      <td>4.541667</td>\n    </tr>\n    <tr>\n      <th>1104</th>\n      <td>Streetcar Named Desire, A (1951)</td>\n      <td>Drama</td>\n      <td>20.0</td>\n      <td>4.475000</td>\n    </tr>\n    <tr>\n      <th>2360</th>\n      <td>Celebration, The (Festen) (1998)</td>\n      <td>Drama</td>\n      <td>12.0</td>\n      <td>4.458333</td>\n    </tr>\n    <tr>\n      <th>1217</th>\n      <td>Ran (1985)</td>\n      <td>Drama|War</td>\n      <td>15.0</td>\n      <td>4.433333</td>\n    </tr>\n    <tr>\n      <th>318</th>\n      <td>Shawshank Redemption, The (1994)</td>\n      <td>Crime|Drama</td>\n      <td>317.0</td>\n      <td>4.429022</td>\n    </tr>\n    <tr>\n      <th>951</th>\n      <td>His Girl Friday (1940)</td>\n      <td>Comedy|Romance</td>\n      <td>14.0</td>\n      <td>4.392857</td>\n    </tr>\n    <tr>\n      <th>1927</th>\n      <td>All Quiet on the Western Front (1930)</td>\n      <td>Action|Drama|War</td>\n      <td>10.0</td>\n      <td>4.350000</td>\n    </tr>\n    <tr>\n      <th>3468</th>\n      <td>Hustler, The (1961)</td>\n      <td>Drama</td>\n      <td>18.0</td>\n      <td>4.333333</td>\n    </tr>\n  </tbody>\n</table>\n</div>"
     },
     "execution_count": 35,
     "metadata": {},
     "output_type": "execute_result"
    }
   ],
   "source": [
    "filmes.query(\"total_de_votos >= 50\").sort_values(\"notas_medias\", ascending=False).head(10)"
   ],
   "metadata": {
    "collapsed": false,
    "pycharm": {
     "name": "#%%\n"
    }
   }
  },
  {
   "cell_type": "code",
   "execution_count": 36,
   "outputs": [
    {
     "data": {
      "text/plain": "                                                    titulo  \\\nfilmeId                                                      \n318                       Shawshank Redemption, The (1994)   \n858                                  Godfather, The (1972)   \n2959                                     Fight Club (1999)   \n1276                                 Cool Hand Luke (1967)   \n750      Dr. Strangelove or: How I Learned to Stop Worr...   \n904                                     Rear Window (1954)   \n1221                        Godfather: Part II, The (1974)   \n48516                                 Departed, The (2006)   \n1213                                     Goodfellas (1990)   \n912                                      Casablanca (1942)   \n\n                             generos  total_de_votos  notas_medias  \nfilmeId                                                             \n318                      Crime|Drama           317.0      4.429022  \n858                      Crime|Drama           192.0      4.289062  \n2959     Action|Crime|Drama|Thriller           218.0      4.272936  \n1276                           Drama            57.0      4.271930  \n750                       Comedy|War            97.0      4.268041  \n904                 Mystery|Thriller            84.0      4.261905  \n1221                     Crime|Drama           129.0      4.259690  \n48516           Crime|Drama|Thriller           107.0      4.252336  \n1213                     Crime|Drama           126.0      4.250000  \n912                    Drama|Romance           100.0      4.240000  ",
      "text/html": "<div>\n<style scoped>\n    .dataframe tbody tr th:only-of-type {\n        vertical-align: middle;\n    }\n\n    .dataframe tbody tr th {\n        vertical-align: top;\n    }\n\n    .dataframe thead th {\n        text-align: right;\n    }\n</style>\n<table border=\"1\" class=\"dataframe\">\n  <thead>\n    <tr style=\"text-align: right;\">\n      <th></th>\n      <th>titulo</th>\n      <th>generos</th>\n      <th>total_de_votos</th>\n      <th>notas_medias</th>\n    </tr>\n    <tr>\n      <th>filmeId</th>\n      <th></th>\n      <th></th>\n      <th></th>\n      <th></th>\n    </tr>\n  </thead>\n  <tbody>\n    <tr>\n      <th>318</th>\n      <td>Shawshank Redemption, The (1994)</td>\n      <td>Crime|Drama</td>\n      <td>317.0</td>\n      <td>4.429022</td>\n    </tr>\n    <tr>\n      <th>858</th>\n      <td>Godfather, The (1972)</td>\n      <td>Crime|Drama</td>\n      <td>192.0</td>\n      <td>4.289062</td>\n    </tr>\n    <tr>\n      <th>2959</th>\n      <td>Fight Club (1999)</td>\n      <td>Action|Crime|Drama|Thriller</td>\n      <td>218.0</td>\n      <td>4.272936</td>\n    </tr>\n    <tr>\n      <th>1276</th>\n      <td>Cool Hand Luke (1967)</td>\n      <td>Drama</td>\n      <td>57.0</td>\n      <td>4.271930</td>\n    </tr>\n    <tr>\n      <th>750</th>\n      <td>Dr. Strangelove or: How I Learned to Stop Worr...</td>\n      <td>Comedy|War</td>\n      <td>97.0</td>\n      <td>4.268041</td>\n    </tr>\n    <tr>\n      <th>904</th>\n      <td>Rear Window (1954)</td>\n      <td>Mystery|Thriller</td>\n      <td>84.0</td>\n      <td>4.261905</td>\n    </tr>\n    <tr>\n      <th>1221</th>\n      <td>Godfather: Part II, The (1974)</td>\n      <td>Crime|Drama</td>\n      <td>129.0</td>\n      <td>4.259690</td>\n    </tr>\n    <tr>\n      <th>48516</th>\n      <td>Departed, The (2006)</td>\n      <td>Crime|Drama|Thriller</td>\n      <td>107.0</td>\n      <td>4.252336</td>\n    </tr>\n    <tr>\n      <th>1213</th>\n      <td>Goodfellas (1990)</td>\n      <td>Crime|Drama</td>\n      <td>126.0</td>\n      <td>4.250000</td>\n    </tr>\n    <tr>\n      <th>912</th>\n      <td>Casablanca (1942)</td>\n      <td>Drama|Romance</td>\n      <td>100.0</td>\n      <td>4.240000</td>\n    </tr>\n  </tbody>\n</table>\n</div>"
     },
     "execution_count": 36,
     "metadata": {},
     "output_type": "execute_result"
    }
   ],
   "source": [
    "filmes_com_mais_de_50_votos = filmes.query(\"total_de_votos >= 50\").sort_values(\"notas_medias\", ascending=False).head(10)\n",
    "filmes_com_mais_de_50_votos.head(10)"
   ],
   "metadata": {
    "collapsed": false,
    "pycharm": {
     "name": "#%%\n"
    }
   }
  },
  {
   "cell_type": "code",
   "execution_count": null,
   "outputs": [],
   "source": [],
   "metadata": {
    "collapsed": false,
    "pycharm": {
     "name": "#%%\n"
    }
   }
  }
 ],
 "metadata": {
  "kernelspec": {
   "display_name": "Python 3",
   "language": "python",
   "name": "python3"
  },
  "language_info": {
   "codemirror_mode": {
    "name": "ipython",
    "version": 2
   },
   "file_extension": ".py",
   "mimetype": "text/x-python",
   "name": "python",
   "nbconvert_exporter": "python",
   "pygments_lexer": "ipython2",
   "version": "2.7.6"
  }
 },
 "nbformat": 4,
 "nbformat_minor": 0
}