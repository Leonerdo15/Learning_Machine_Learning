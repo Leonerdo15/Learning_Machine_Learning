{
 "cells": [
  {
   "cell_type": "code",
   "execution_count": 17,
   "outputs": [
    {
     "data": {
      "text/plain": "       preco  vendido  idade_do_modelo   km_por_ano\n0   30941.02        1               18  35085.22134\n1   40557.96        1               20  12622.05362\n2   89627.50        0               12  11440.79806\n3   95276.14        0                3  43167.32682\n4  117384.68        1                4  12770.11290",
      "text/html": "<div>\n<style scoped>\n    .dataframe tbody tr th:only-of-type {\n        vertical-align: middle;\n    }\n\n    .dataframe tbody tr th {\n        vertical-align: top;\n    }\n\n    .dataframe thead th {\n        text-align: right;\n    }\n</style>\n<table border=\"1\" class=\"dataframe\">\n  <thead>\n    <tr style=\"text-align: right;\">\n      <th></th>\n      <th>preco</th>\n      <th>vendido</th>\n      <th>idade_do_modelo</th>\n      <th>km_por_ano</th>\n    </tr>\n  </thead>\n  <tbody>\n    <tr>\n      <th>0</th>\n      <td>30941.02</td>\n      <td>1</td>\n      <td>18</td>\n      <td>35085.22134</td>\n    </tr>\n    <tr>\n      <th>1</th>\n      <td>40557.96</td>\n      <td>1</td>\n      <td>20</td>\n      <td>12622.05362</td>\n    </tr>\n    <tr>\n      <th>2</th>\n      <td>89627.50</td>\n      <td>0</td>\n      <td>12</td>\n      <td>11440.79806</td>\n    </tr>\n    <tr>\n      <th>3</th>\n      <td>95276.14</td>\n      <td>0</td>\n      <td>3</td>\n      <td>43167.32682</td>\n    </tr>\n    <tr>\n      <th>4</th>\n      <td>117384.68</td>\n      <td>1</td>\n      <td>4</td>\n      <td>12770.11290</td>\n    </tr>\n  </tbody>\n</table>\n</div>"
     },
     "execution_count": 17,
     "metadata": {},
     "output_type": "execute_result"
    }
   ],
   "source": [
    "import pandas as pd\n",
    "import numpy as np\n",
    "from sklearn.model_selection import cross_validate\n",
    "from sklearn.tree import DecisionTreeClassifier\n",
    "from sklearn.model_selection import GroupKFold\n",
    "from sklearn.model_selection import GridSearchCV\n",
    "from sklearn.model_selection import KFold\n",
    "from sklearn.model_selection import RandomizedSearchCV\n",
    "from scipy.stats import randint\n",
    "from sklearn.model_selection import cross_val_score\n",
    "\n",
    "\n",
    "\n",
    "SEED = 301\n",
    "\n",
    "uri = \"https://gist.githubusercontent.com/guilhermesilveira/e99a526b2e7ccc6c3b70f53db43a87d2/raw/1605fc74aa778066bf2e6695e24d53cf65f2f447/machine-learning-carros-simulacao.csv\"\n",
    "dados = pd.read_csv(uri).drop(columns=[\"Unnamed: 0\"], axis=1)\n",
    "dados.head()"
   ],
   "metadata": {
    "collapsed": false,
    "pycharm": {
     "name": "#%%\n"
    }
   }
  },
  {
   "cell_type": "code",
   "execution_count": 9,
   "outputs": [],
   "source": [
    "# situação horrível de \"azar\" onde as classes estão ordenadas por padrão\n",
    "\n",
    "dados_azar = dados.sort_values(\"vendido\", ascending=True)\n",
    "x_azar = dados_azar[[\"preco\", \"idade_do_modelo\",\"km_por_ano\"]]\n",
    "y_azar = dados_azar[\"vendido\"]"
   ],
   "metadata": {
    "collapsed": false,
    "pycharm": {
     "name": "#%%\n"
    }
   }
  },
  {
   "cell_type": "code",
   "execution_count": 10,
   "outputs": [
    {
     "data": {
      "text/plain": "       preco  vendido  idade_do_modelo   km_por_ano  modelo\n0   30941.02        1               18  35085.22134      18\n1   40557.96        1               20  12622.05362      24\n2   89627.50        0               12  11440.79806      14\n3   95276.14        0                3  43167.32682       6\n4  117384.68        1                4  12770.11290       5",
      "text/html": "<div>\n<style scoped>\n    .dataframe tbody tr th:only-of-type {\n        vertical-align: middle;\n    }\n\n    .dataframe tbody tr th {\n        vertical-align: top;\n    }\n\n    .dataframe thead th {\n        text-align: right;\n    }\n</style>\n<table border=\"1\" class=\"dataframe\">\n  <thead>\n    <tr style=\"text-align: right;\">\n      <th></th>\n      <th>preco</th>\n      <th>vendido</th>\n      <th>idade_do_modelo</th>\n      <th>km_por_ano</th>\n      <th>modelo</th>\n    </tr>\n  </thead>\n  <tbody>\n    <tr>\n      <th>0</th>\n      <td>30941.02</td>\n      <td>1</td>\n      <td>18</td>\n      <td>35085.22134</td>\n      <td>18</td>\n    </tr>\n    <tr>\n      <th>1</th>\n      <td>40557.96</td>\n      <td>1</td>\n      <td>20</td>\n      <td>12622.05362</td>\n      <td>24</td>\n    </tr>\n    <tr>\n      <th>2</th>\n      <td>89627.50</td>\n      <td>0</td>\n      <td>12</td>\n      <td>11440.79806</td>\n      <td>14</td>\n    </tr>\n    <tr>\n      <th>3</th>\n      <td>95276.14</td>\n      <td>0</td>\n      <td>3</td>\n      <td>43167.32682</td>\n      <td>6</td>\n    </tr>\n    <tr>\n      <th>4</th>\n      <td>117384.68</td>\n      <td>1</td>\n      <td>4</td>\n      <td>12770.11290</td>\n      <td>5</td>\n    </tr>\n  </tbody>\n</table>\n</div>"
     },
     "execution_count": 10,
     "metadata": {},
     "output_type": "execute_result"
    }
   ],
   "source": [
    "# gerando dados elatorios de modelo de carro para simulacao de agrupamento ao usar nosso estimador\n",
    "\n",
    "np.random.seed(SEED)\n",
    "dados['modelo'] = dados.idade_do_modelo + np.random.randint(-2, 3, size=10000)\n",
    "dados.modelo = dados.modelo + abs(dados.modelo.min()) + 1\n",
    "dados.head()"
   ],
   "metadata": {
    "collapsed": false,
    "pycharm": {
     "name": "#%%\n"
    }
   }
  },
  {
   "cell_type": "code",
   "execution_count": 11,
   "outputs": [],
   "source": [
    "def imprime_resultados(results):\n",
    "  media = results['test_score'].mean() * 100\n",
    "  desvio = results['test_score'].std() * 100\n",
    "  print(\"Accuracy médio %.2f\" % media)\n",
    "  print(\"Intervalo [%.2f, %.2f]\" % (media - 2 * desvio, media + 2 * desvio))"
   ],
   "metadata": {
    "collapsed": false,
    "pycharm": {
     "name": "#%%\n"
    }
   }
  },
  {
   "cell_type": "code",
   "execution_count": 12,
   "outputs": [],
   "source": [
    "def imprime_score(scores):\n",
    "  media = scores.mean() * 100\n",
    "  desvio = scores.std() * 100\n",
    "  print(\"Accuracy médio %.2f\" % media)\n",
    "  print(\"Intervalo [%.2f, %.2f]\" % (media - 2 * desvio, media + 2 * desvio))"
   ],
   "metadata": {
    "collapsed": false,
    "pycharm": {
     "name": "#%%\n"
    }
   }
  },
  {
   "cell_type": "markdown",
   "source": [
    "#  Customizando o espaço de hiper parametros"
   ],
   "metadata": {
    "collapsed": false,
    "pycharm": {
     "name": "#%% md\n"
    }
   }
  },
  {
   "cell_type": "code",
   "execution_count": 13,
   "outputs": [
    {
     "data": {
      "text/plain": "   mean_fit_time  std_fit_time  mean_score_time  std_score_time  \\\n0       0.008975      0.000631         0.001197        0.000399   \n1       0.012769      0.001164         0.001394        0.000485   \n2       0.010372      0.000488         0.001397        0.000489   \n3       0.013763      0.001163         0.001397        0.000489   \n4       0.012167      0.003909         0.004889        0.007296   \n\n  param_criterion param_max_depth param_min_samples_leaf  \\\n0         entropy               3                     71   \n1            gini              15                     93   \n2            gini              20                    124   \n3            gini            None                     46   \n4            gini              15                    126   \n\n  param_min_samples_split                                             params  \\\n0                     100  {'criterion': 'entropy', 'max_depth': 3, 'min_...   \n1                     111  {'criterion': 'gini', 'max_depth': 15, 'min_sa...   \n2                      88  {'criterion': 'gini', 'max_depth': 20, 'min_sa...   \n3                      62  {'criterion': 'gini', 'max_depth': None, 'min_...   \n4                      84  {'criterion': 'gini', 'max_depth': 15, 'min_sa...   \n\n   split0_test_score  split1_test_score  split2_test_score  split3_test_score  \\\n0             0.7840             0.7760             0.8025             0.7930   \n1             0.7740             0.7725             0.7830             0.7805   \n2             0.7705             0.7745             0.7990             0.7790   \n3             0.7575             0.7730             0.7725             0.7835   \n4             0.7705             0.7735             0.7995             0.7790   \n\n   split4_test_score  mean_test_score  std_test_score  rank_test_score  \n0             0.7795           0.7870        0.009618                1  \n1             0.7725           0.7765        0.004393               14  \n2             0.7735           0.7793        0.010221                8  \n3             0.7560           0.7685        0.010378               16  \n4             0.7745           0.7794        0.010413                7  ",
      "text/html": "<div>\n<style scoped>\n    .dataframe tbody tr th:only-of-type {\n        vertical-align: middle;\n    }\n\n    .dataframe tbody tr th {\n        vertical-align: top;\n    }\n\n    .dataframe thead th {\n        text-align: right;\n    }\n</style>\n<table border=\"1\" class=\"dataframe\">\n  <thead>\n    <tr style=\"text-align: right;\">\n      <th></th>\n      <th>mean_fit_time</th>\n      <th>std_fit_time</th>\n      <th>mean_score_time</th>\n      <th>std_score_time</th>\n      <th>param_criterion</th>\n      <th>param_max_depth</th>\n      <th>param_min_samples_leaf</th>\n      <th>param_min_samples_split</th>\n      <th>params</th>\n      <th>split0_test_score</th>\n      <th>split1_test_score</th>\n      <th>split2_test_score</th>\n      <th>split3_test_score</th>\n      <th>split4_test_score</th>\n      <th>mean_test_score</th>\n      <th>std_test_score</th>\n      <th>rank_test_score</th>\n    </tr>\n  </thead>\n  <tbody>\n    <tr>\n      <th>0</th>\n      <td>0.008975</td>\n      <td>0.000631</td>\n      <td>0.001197</td>\n      <td>0.000399</td>\n      <td>entropy</td>\n      <td>3</td>\n      <td>71</td>\n      <td>100</td>\n      <td>{'criterion': 'entropy', 'max_depth': 3, 'min_...</td>\n      <td>0.7840</td>\n      <td>0.7760</td>\n      <td>0.8025</td>\n      <td>0.7930</td>\n      <td>0.7795</td>\n      <td>0.7870</td>\n      <td>0.009618</td>\n      <td>1</td>\n    </tr>\n    <tr>\n      <th>1</th>\n      <td>0.012769</td>\n      <td>0.001164</td>\n      <td>0.001394</td>\n      <td>0.000485</td>\n      <td>gini</td>\n      <td>15</td>\n      <td>93</td>\n      <td>111</td>\n      <td>{'criterion': 'gini', 'max_depth': 15, 'min_sa...</td>\n      <td>0.7740</td>\n      <td>0.7725</td>\n      <td>0.7830</td>\n      <td>0.7805</td>\n      <td>0.7725</td>\n      <td>0.7765</td>\n      <td>0.004393</td>\n      <td>14</td>\n    </tr>\n    <tr>\n      <th>2</th>\n      <td>0.010372</td>\n      <td>0.000488</td>\n      <td>0.001397</td>\n      <td>0.000489</td>\n      <td>gini</td>\n      <td>20</td>\n      <td>124</td>\n      <td>88</td>\n      <td>{'criterion': 'gini', 'max_depth': 20, 'min_sa...</td>\n      <td>0.7705</td>\n      <td>0.7745</td>\n      <td>0.7990</td>\n      <td>0.7790</td>\n      <td>0.7735</td>\n      <td>0.7793</td>\n      <td>0.010221</td>\n      <td>8</td>\n    </tr>\n    <tr>\n      <th>3</th>\n      <td>0.013763</td>\n      <td>0.001163</td>\n      <td>0.001397</td>\n      <td>0.000489</td>\n      <td>gini</td>\n      <td>None</td>\n      <td>46</td>\n      <td>62</td>\n      <td>{'criterion': 'gini', 'max_depth': None, 'min_...</td>\n      <td>0.7575</td>\n      <td>0.7730</td>\n      <td>0.7725</td>\n      <td>0.7835</td>\n      <td>0.7560</td>\n      <td>0.7685</td>\n      <td>0.010378</td>\n      <td>16</td>\n    </tr>\n    <tr>\n      <th>4</th>\n      <td>0.012167</td>\n      <td>0.003909</td>\n      <td>0.004889</td>\n      <td>0.007296</td>\n      <td>gini</td>\n      <td>15</td>\n      <td>126</td>\n      <td>84</td>\n      <td>{'criterion': 'gini', 'max_depth': 15, 'min_sa...</td>\n      <td>0.7705</td>\n      <td>0.7735</td>\n      <td>0.7995</td>\n      <td>0.7790</td>\n      <td>0.7745</td>\n      <td>0.7794</td>\n      <td>0.010413</td>\n      <td>7</td>\n    </tr>\n  </tbody>\n</table>\n</div>"
     },
     "execution_count": 13,
     "metadata": {},
     "output_type": "execute_result"
    }
   ],
   "source": [
    "\n",
    "SEED=301\n",
    "np.random.seed(SEED)\n",
    "\n",
    "espaco_de_parametros = {\n",
    "    \"max_depth\" : [3, 5, 10, 15, 20, 30, None],\n",
    "    \"min_samples_split\" : randint(32, 128),\n",
    "    \"min_samples_leaf\" : randint(32, 128),\n",
    "    \"criterion\" : [\"gini\", \"entropy\"]\n",
    "\n",
    "}\n",
    "\n",
    "busca = RandomizedSearchCV(DecisionTreeClassifier(),\n",
    "                    espaco_de_parametros,\n",
    "                    n_iter = 16,\n",
    "                    cv = KFold(n_splits = 5, shuffle=True),\n",
    "                          random_state = SEED)\n",
    "\n",
    "\n",
    "busca.fit(x_azar, y_azar)\n",
    "resultados = pd.DataFrame(busca.cv_results_)\n",
    "resultados.head()"
   ],
   "metadata": {
    "collapsed": false,
    "pycharm": {
     "name": "#%%\n"
    }
   }
  },
  {
   "cell_type": "code",
   "execution_count": 15,
   "outputs": [
    {
     "name": "stdout",
     "output_type": "stream",
     "text": [
      "Tempo 138.18 segundos\n"
     ]
    },
    {
     "data": {
      "text/plain": "   mean_fit_time  std_fit_time  mean_score_time  std_score_time  \\\n0       0.047074      0.005963         0.012367        0.012011   \n1       0.233323      0.024984         0.017560        0.000808   \n2       0.023145      0.000738         0.002796        0.000741   \n3       0.214327      0.004530         0.016969        0.000619   \n4       0.022743      0.000963         0.002789        0.000397   \n\n  param_bootstrap param_criterion param_max_depth param_min_samples_leaf  \\\n0            True            gini               3                     32   \n1            True            gini               3                     32   \n2            True            gini               3                     32   \n3            True            gini               3                     32   \n4            True            gini               3                     32   \n\n  param_min_samples_split param_n_estimators  \\\n0                      32                 10   \n1                      32                100   \n2                      64                 10   \n3                      64                100   \n4                     128                 10   \n\n                                              params  split0_test_score  \\\n0  {'bootstrap': True, 'criterion': 'gini', 'max_...             0.7745   \n1  {'bootstrap': True, 'criterion': 'gini', 'max_...             0.7655   \n2  {'bootstrap': True, 'criterion': 'gini', 'max_...             0.7780   \n3  {'bootstrap': True, 'criterion': 'gini', 'max_...             0.7425   \n4  {'bootstrap': True, 'criterion': 'gini', 'max_...             0.7755   \n\n   split1_test_score  split2_test_score  split3_test_score  split4_test_score  \\\n0             0.7560             0.7490             0.7850             0.7450   \n1             0.7555             0.7945             0.7850             0.7625   \n2             0.7635             0.7835             0.7845             0.7560   \n3             0.7550             0.7950             0.7850             0.7620   \n4             0.7405             0.7485             0.7760             0.7630   \n\n   mean_test_score  std_test_score  rank_test_score  \n0           0.7619        0.015357              130  \n1           0.7726        0.014685               93  \n2           0.7731        0.011373               89  \n3           0.7679        0.019356              119  \n4           0.7607        0.014250              135  ",
      "text/html": "<div>\n<style scoped>\n    .dataframe tbody tr th:only-of-type {\n        vertical-align: middle;\n    }\n\n    .dataframe tbody tr th {\n        vertical-align: top;\n    }\n\n    .dataframe thead th {\n        text-align: right;\n    }\n</style>\n<table border=\"1\" class=\"dataframe\">\n  <thead>\n    <tr style=\"text-align: right;\">\n      <th></th>\n      <th>mean_fit_time</th>\n      <th>std_fit_time</th>\n      <th>mean_score_time</th>\n      <th>std_score_time</th>\n      <th>param_bootstrap</th>\n      <th>param_criterion</th>\n      <th>param_max_depth</th>\n      <th>param_min_samples_leaf</th>\n      <th>param_min_samples_split</th>\n      <th>param_n_estimators</th>\n      <th>params</th>\n      <th>split0_test_score</th>\n      <th>split1_test_score</th>\n      <th>split2_test_score</th>\n      <th>split3_test_score</th>\n      <th>split4_test_score</th>\n      <th>mean_test_score</th>\n      <th>std_test_score</th>\n      <th>rank_test_score</th>\n    </tr>\n  </thead>\n  <tbody>\n    <tr>\n      <th>0</th>\n      <td>0.047074</td>\n      <td>0.005963</td>\n      <td>0.012367</td>\n      <td>0.012011</td>\n      <td>True</td>\n      <td>gini</td>\n      <td>3</td>\n      <td>32</td>\n      <td>32</td>\n      <td>10</td>\n      <td>{'bootstrap': True, 'criterion': 'gini', 'max_...</td>\n      <td>0.7745</td>\n      <td>0.7560</td>\n      <td>0.7490</td>\n      <td>0.7850</td>\n      <td>0.7450</td>\n      <td>0.7619</td>\n      <td>0.015357</td>\n      <td>130</td>\n    </tr>\n    <tr>\n      <th>1</th>\n      <td>0.233323</td>\n      <td>0.024984</td>\n      <td>0.017560</td>\n      <td>0.000808</td>\n      <td>True</td>\n      <td>gini</td>\n      <td>3</td>\n      <td>32</td>\n      <td>32</td>\n      <td>100</td>\n      <td>{'bootstrap': True, 'criterion': 'gini', 'max_...</td>\n      <td>0.7655</td>\n      <td>0.7555</td>\n      <td>0.7945</td>\n      <td>0.7850</td>\n      <td>0.7625</td>\n      <td>0.7726</td>\n      <td>0.014685</td>\n      <td>93</td>\n    </tr>\n    <tr>\n      <th>2</th>\n      <td>0.023145</td>\n      <td>0.000738</td>\n      <td>0.002796</td>\n      <td>0.000741</td>\n      <td>True</td>\n      <td>gini</td>\n      <td>3</td>\n      <td>32</td>\n      <td>64</td>\n      <td>10</td>\n      <td>{'bootstrap': True, 'criterion': 'gini', 'max_...</td>\n      <td>0.7780</td>\n      <td>0.7635</td>\n      <td>0.7835</td>\n      <td>0.7845</td>\n      <td>0.7560</td>\n      <td>0.7731</td>\n      <td>0.011373</td>\n      <td>89</td>\n    </tr>\n    <tr>\n      <th>3</th>\n      <td>0.214327</td>\n      <td>0.004530</td>\n      <td>0.016969</td>\n      <td>0.000619</td>\n      <td>True</td>\n      <td>gini</td>\n      <td>3</td>\n      <td>32</td>\n      <td>64</td>\n      <td>100</td>\n      <td>{'bootstrap': True, 'criterion': 'gini', 'max_...</td>\n      <td>0.7425</td>\n      <td>0.7550</td>\n      <td>0.7950</td>\n      <td>0.7850</td>\n      <td>0.7620</td>\n      <td>0.7679</td>\n      <td>0.019356</td>\n      <td>119</td>\n    </tr>\n    <tr>\n      <th>4</th>\n      <td>0.022743</td>\n      <td>0.000963</td>\n      <td>0.002789</td>\n      <td>0.000397</td>\n      <td>True</td>\n      <td>gini</td>\n      <td>3</td>\n      <td>32</td>\n      <td>128</td>\n      <td>10</td>\n      <td>{'bootstrap': True, 'criterion': 'gini', 'max_...</td>\n      <td>0.7755</td>\n      <td>0.7405</td>\n      <td>0.7485</td>\n      <td>0.7760</td>\n      <td>0.7630</td>\n      <td>0.7607</td>\n      <td>0.014250</td>\n      <td>135</td>\n    </tr>\n  </tbody>\n</table>\n</div>"
     },
     "execution_count": 15,
     "metadata": {},
     "output_type": "execute_result"
    }
   ],
   "source": [
    "from sklearn.ensemble import RandomForestClassifier\n",
    "import time\n",
    "\n",
    "SEED=301\n",
    "np.random.seed(SEED)\n",
    "\n",
    "espaco_de_parametros = {\n",
    "    \"n_estimators\" : [10, 100],\n",
    "    \"max_depth\" : [3, 5],\n",
    "    \"min_samples_split\": [32, 64, 128],\n",
    "    \"min_samples_leaf\": [32, 64, 128],\n",
    "    \"bootstrap\" : [True, False],\n",
    "    \"criterion\": [\"gini\", \"entropy\"]\n",
    "\n",
    "}\n",
    "\n",
    "tic = time.time()\n",
    "busca = GridSearchCV(RandomForestClassifier(),\n",
    "                    espaco_de_parametros,\n",
    "                    cv = KFold(n_splits = 5, shuffle=True))\n",
    "busca.fit(x_azar, y_azar)\n",
    "tac = time.time()\n",
    "tempo_que_passou = tac - tic\n",
    "print(\"Tempo %.2f segundos\" % tempo_que_passou)\n",
    "\n",
    "\n",
    "\n",
    "resultados = pd.DataFrame(busca.cv_results_)\n",
    "resultados.head()"
   ],
   "metadata": {
    "collapsed": false,
    "pycharm": {
     "name": "#%%\n"
    }
   }
  },
  {
   "cell_type": "code",
   "execution_count": 16,
   "outputs": [
    {
     "name": "stdout",
     "output_type": "stream",
     "text": [
      "0.780 +-(0.020) {'bootstrap': False, 'criterion': 'gini', 'max_depth': 5, 'min_samples_leaf': 32, 'min_samples_split': 64, 'n_estimators': 10}\n",
      "0.778 +-(0.020) {'bootstrap': True, 'criterion': 'gini', 'max_depth': 5, 'min_samples_leaf': 32, 'min_samples_split': 128, 'n_estimators': 10}\n",
      "0.778 +-(0.030) {'bootstrap': False, 'criterion': 'entropy', 'max_depth': 5, 'min_samples_leaf': 64, 'min_samples_split': 64, 'n_estimators': 10}\n",
      "0.778 +-(0.027) {'bootstrap': False, 'criterion': 'gini', 'max_depth': 5, 'min_samples_leaf': 64, 'min_samples_split': 64, 'n_estimators': 10}\n",
      "0.778 +-(0.033) {'bootstrap': False, 'criterion': 'entropy', 'max_depth': 5, 'min_samples_leaf': 64, 'min_samples_split': 64, 'n_estimators': 100}\n"
     ]
    }
   ],
   "source": [
    "resultados_ordenados_pela_media = resultados.sort_values(\"mean_test_score\", ascending=False)\n",
    "for indice, linha in resultados_ordenados_pela_media[:5].iterrows():\n",
    "  print(\"%.3f +-(%.3f) %s\" % (linha.mean_test_score, linha.std_test_score*2, linha.params))"
   ],
   "metadata": {
    "collapsed": false,
    "pycharm": {
     "name": "#%%\n"
    }
   }
  },
  {
   "cell_type": "code",
   "execution_count": 18,
   "outputs": [
    {
     "name": "stdout",
     "output_type": "stream",
     "text": [
      "Tempo 561.57 segundos\n",
      "Accuracy médio 76.78\n",
      "Intervalo [75.74, 77.82]\n",
      "RandomForestClassifier(bootstrap=False, max_depth=5, min_samples_leaf=32,\n",
      "                       min_samples_split=64, n_estimators=10)\n"
     ]
    }
   ],
   "source": [
    "tic = time.time()\n",
    "scores = cross_val_score(busca, x_azar, y_azar, cv = KFold(n_splits=5, shuffle=True))\n",
    "tac = time.time()\n",
    "tempo_passado = tac - tic\n",
    "print(\"Tempo %.2f segundos\" % tempo_passado)\n",
    "\n",
    "imprime_score(scores)\n",
    "melhor = busca.best_estimator_\n",
    "print(melhor)"
   ],
   "metadata": {
    "collapsed": false,
    "pycharm": {
     "name": "#%%\n"
    }
   }
  },
  {
   "cell_type": "code",
   "execution_count": null,
   "outputs": [],
   "source": [],
   "metadata": {
    "collapsed": false,
    "pycharm": {
     "name": "#%%\n"
    }
   }
  }
 ],
 "metadata": {
  "kernelspec": {
   "display_name": "Python 3",
   "language": "python",
   "name": "python3"
  },
  "language_info": {
   "codemirror_mode": {
    "name": "ipython",
    "version": 2
   },
   "file_extension": ".py",
   "mimetype": "text/x-python",
   "name": "python",
   "nbconvert_exporter": "python",
   "pygments_lexer": "ipython2",
   "version": "2.7.6"
  }
 },
 "nbformat": 4,
 "nbformat_minor": 0
}