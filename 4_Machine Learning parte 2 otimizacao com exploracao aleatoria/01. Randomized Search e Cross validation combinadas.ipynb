{
 "cells": [
  {
   "cell_type": "code",
   "execution_count": 33,
   "outputs": [
    {
     "data": {
      "text/plain": "       preco  vendido  idade_do_modelo   km_por_ano\n0   30941.02        1               18  35085.22134\n1   40557.96        1               20  12622.05362\n2   89627.50        0               12  11440.79806\n3   95276.14        0                3  43167.32682\n4  117384.68        1                4  12770.11290",
      "text/html": "<div>\n<style scoped>\n    .dataframe tbody tr th:only-of-type {\n        vertical-align: middle;\n    }\n\n    .dataframe tbody tr th {\n        vertical-align: top;\n    }\n\n    .dataframe thead th {\n        text-align: right;\n    }\n</style>\n<table border=\"1\" class=\"dataframe\">\n  <thead>\n    <tr style=\"text-align: right;\">\n      <th></th>\n      <th>preco</th>\n      <th>vendido</th>\n      <th>idade_do_modelo</th>\n      <th>km_por_ano</th>\n    </tr>\n  </thead>\n  <tbody>\n    <tr>\n      <th>0</th>\n      <td>30941.02</td>\n      <td>1</td>\n      <td>18</td>\n      <td>35085.22134</td>\n    </tr>\n    <tr>\n      <th>1</th>\n      <td>40557.96</td>\n      <td>1</td>\n      <td>20</td>\n      <td>12622.05362</td>\n    </tr>\n    <tr>\n      <th>2</th>\n      <td>89627.50</td>\n      <td>0</td>\n      <td>12</td>\n      <td>11440.79806</td>\n    </tr>\n    <tr>\n      <th>3</th>\n      <td>95276.14</td>\n      <td>0</td>\n      <td>3</td>\n      <td>43167.32682</td>\n    </tr>\n    <tr>\n      <th>4</th>\n      <td>117384.68</td>\n      <td>1</td>\n      <td>4</td>\n      <td>12770.11290</td>\n    </tr>\n  </tbody>\n</table>\n</div>"
     },
     "execution_count": 33,
     "metadata": {},
     "output_type": "execute_result"
    }
   ],
   "source": [
    "import pandas as pd\n",
    "import numpy as np\n",
    "from sklearn.model_selection import cross_validate\n",
    "from sklearn.tree import DecisionTreeClassifier\n",
    "from sklearn.model_selection import GroupKFold\n",
    "from sklearn.model_selection import GridSearchCV\n",
    "from sklearn.model_selection import KFold\n",
    "\n",
    "SEED = 301\n",
    "\n",
    "uri = \"https://gist.githubusercontent.com/guilhermesilveira/e99a526b2e7ccc6c3b70f53db43a87d2/raw/1605fc74aa778066bf2e6695e24d53cf65f2f447/machine-learning-carros-simulacao.csv\"\n",
    "dados = pd.read_csv(uri).drop(columns=[\"Unnamed: 0\"], axis=1)\n",
    "dados.head()"
   ],
   "metadata": {
    "collapsed": false,
    "pycharm": {
     "name": "#%%\n"
    }
   }
  },
  {
   "cell_type": "code",
   "execution_count": 34,
   "outputs": [],
   "source": [
    "# situação horrível de \"azar\" onde as classes estão ordenadas por padrão\n",
    "\n",
    "dados_azar = dados.sort_values(\"vendido\", ascending=True)\n",
    "x_azar = dados_azar[[\"preco\", \"idade_do_modelo\",\"km_por_ano\"]]\n",
    "y_azar = dados_azar[\"vendido\"]"
   ],
   "metadata": {
    "collapsed": false,
    "pycharm": {
     "name": "#%%\n"
    }
   }
  },
  {
   "cell_type": "code",
   "execution_count": 35,
   "outputs": [
    {
     "data": {
      "text/plain": "       preco  vendido  idade_do_modelo   km_por_ano  modelo\n0   30941.02        1               18  35085.22134      18\n1   40557.96        1               20  12622.05362      24\n2   89627.50        0               12  11440.79806      14\n3   95276.14        0                3  43167.32682       6\n4  117384.68        1                4  12770.11290       5",
      "text/html": "<div>\n<style scoped>\n    .dataframe tbody tr th:only-of-type {\n        vertical-align: middle;\n    }\n\n    .dataframe tbody tr th {\n        vertical-align: top;\n    }\n\n    .dataframe thead th {\n        text-align: right;\n    }\n</style>\n<table border=\"1\" class=\"dataframe\">\n  <thead>\n    <tr style=\"text-align: right;\">\n      <th></th>\n      <th>preco</th>\n      <th>vendido</th>\n      <th>idade_do_modelo</th>\n      <th>km_por_ano</th>\n      <th>modelo</th>\n    </tr>\n  </thead>\n  <tbody>\n    <tr>\n      <th>0</th>\n      <td>30941.02</td>\n      <td>1</td>\n      <td>18</td>\n      <td>35085.22134</td>\n      <td>18</td>\n    </tr>\n    <tr>\n      <th>1</th>\n      <td>40557.96</td>\n      <td>1</td>\n      <td>20</td>\n      <td>12622.05362</td>\n      <td>24</td>\n    </tr>\n    <tr>\n      <th>2</th>\n      <td>89627.50</td>\n      <td>0</td>\n      <td>12</td>\n      <td>11440.79806</td>\n      <td>14</td>\n    </tr>\n    <tr>\n      <th>3</th>\n      <td>95276.14</td>\n      <td>0</td>\n      <td>3</td>\n      <td>43167.32682</td>\n      <td>6</td>\n    </tr>\n    <tr>\n      <th>4</th>\n      <td>117384.68</td>\n      <td>1</td>\n      <td>4</td>\n      <td>12770.11290</td>\n      <td>5</td>\n    </tr>\n  </tbody>\n</table>\n</div>"
     },
     "execution_count": 35,
     "metadata": {},
     "output_type": "execute_result"
    }
   ],
   "source": [
    "# gerando dados elatorios de modelo de carro para simulacao de agrupamento ao usar nosso estimador\n",
    "\n",
    "np.random.seed(SEED)\n",
    "dados['modelo'] = dados.idade_do_modelo + np.random.randint(-2, 3, size=10000)\n",
    "dados.modelo = dados.modelo + abs(dados.modelo.min()) + 1\n",
    "dados.head()"
   ],
   "metadata": {
    "collapsed": false,
    "pycharm": {
     "name": "#%%\n"
    }
   }
  },
  {
   "cell_type": "code",
   "execution_count": 36,
   "outputs": [],
   "source": [
    "def imprime_resultados(results):\n",
    "  media = results['test_score'].mean() * 100\n",
    "  desvio = results['test_score'].std() * 100\n",
    "  print(\"Accuracy médio %.2f\" % media)\n",
    "  print(\"Intervalo [%.2f, %.2f]\" % (media - 2 * desvio, media + 2 * desvio))"
   ],
   "metadata": {
    "collapsed": false,
    "pycharm": {
     "name": "#%%\n"
    }
   }
  },
  {
   "cell_type": "markdown",
   "source": [
    "# Explorando espaço de Hiper parâmetros com o GridSearchCV"
   ],
   "metadata": {
    "collapsed": false,
    "pycharm": {
     "name": "#%% md\n"
    }
   }
  },
  {
   "cell_type": "code",
   "execution_count": 37,
   "outputs": [
    {
     "data": {
      "text/plain": "   mean_fit_time  std_fit_time  mean_score_time  std_score_time  \\\n0       0.007976      0.000632         0.001797        0.000400   \n1       0.006376      0.000794         0.001204        0.000410   \n2       0.005982      0.000638         0.001197        0.000412   \n3       0.006196      0.000408         0.001788        0.000747   \n4       0.007180      0.001147         0.001198        0.000399   \n\n  param_criterion param_max_depth param_min_samples_leaf  \\\n0            gini               3                     32   \n1            gini               3                     32   \n2            gini               3                     32   \n3            gini               3                     64   \n4            gini               3                     64   \n\n  param_min_samples_split                                             params  \\\n0                      32  {'criterion': 'gini', 'max_depth': 3, 'min_sam...   \n1                      64  {'criterion': 'gini', 'max_depth': 3, 'min_sam...   \n2                     128  {'criterion': 'gini', 'max_depth': 3, 'min_sam...   \n3                      32  {'criterion': 'gini', 'max_depth': 3, 'min_sam...   \n4                      64  {'criterion': 'gini', 'max_depth': 3, 'min_sam...   \n\n   split0_test_score  split1_test_score  split2_test_score  split3_test_score  \\\n0              0.784              0.776             0.8025              0.793   \n1              0.784              0.776             0.8025              0.793   \n2              0.784              0.776             0.8025              0.793   \n3              0.784              0.776             0.8025              0.793   \n4              0.784              0.776             0.8025              0.793   \n\n   split4_test_score  mean_test_score  std_test_score  rank_test_score  \n0             0.7795            0.787        0.009618                1  \n1             0.7795            0.787        0.009618                1  \n2             0.7795            0.787        0.009618                1  \n3             0.7795            0.787        0.009618                1  \n4             0.7795            0.787        0.009618                1  ",
      "text/html": "<div>\n<style scoped>\n    .dataframe tbody tr th:only-of-type {\n        vertical-align: middle;\n    }\n\n    .dataframe tbody tr th {\n        vertical-align: top;\n    }\n\n    .dataframe thead th {\n        text-align: right;\n    }\n</style>\n<table border=\"1\" class=\"dataframe\">\n  <thead>\n    <tr style=\"text-align: right;\">\n      <th></th>\n      <th>mean_fit_time</th>\n      <th>std_fit_time</th>\n      <th>mean_score_time</th>\n      <th>std_score_time</th>\n      <th>param_criterion</th>\n      <th>param_max_depth</th>\n      <th>param_min_samples_leaf</th>\n      <th>param_min_samples_split</th>\n      <th>params</th>\n      <th>split0_test_score</th>\n      <th>split1_test_score</th>\n      <th>split2_test_score</th>\n      <th>split3_test_score</th>\n      <th>split4_test_score</th>\n      <th>mean_test_score</th>\n      <th>std_test_score</th>\n      <th>rank_test_score</th>\n    </tr>\n  </thead>\n  <tbody>\n    <tr>\n      <th>0</th>\n      <td>0.007976</td>\n      <td>0.000632</td>\n      <td>0.001797</td>\n      <td>0.000400</td>\n      <td>gini</td>\n      <td>3</td>\n      <td>32</td>\n      <td>32</td>\n      <td>{'criterion': 'gini', 'max_depth': 3, 'min_sam...</td>\n      <td>0.784</td>\n      <td>0.776</td>\n      <td>0.8025</td>\n      <td>0.793</td>\n      <td>0.7795</td>\n      <td>0.787</td>\n      <td>0.009618</td>\n      <td>1</td>\n    </tr>\n    <tr>\n      <th>1</th>\n      <td>0.006376</td>\n      <td>0.000794</td>\n      <td>0.001204</td>\n      <td>0.000410</td>\n      <td>gini</td>\n      <td>3</td>\n      <td>32</td>\n      <td>64</td>\n      <td>{'criterion': 'gini', 'max_depth': 3, 'min_sam...</td>\n      <td>0.784</td>\n      <td>0.776</td>\n      <td>0.8025</td>\n      <td>0.793</td>\n      <td>0.7795</td>\n      <td>0.787</td>\n      <td>0.009618</td>\n      <td>1</td>\n    </tr>\n    <tr>\n      <th>2</th>\n      <td>0.005982</td>\n      <td>0.000638</td>\n      <td>0.001197</td>\n      <td>0.000412</td>\n      <td>gini</td>\n      <td>3</td>\n      <td>32</td>\n      <td>128</td>\n      <td>{'criterion': 'gini', 'max_depth': 3, 'min_sam...</td>\n      <td>0.784</td>\n      <td>0.776</td>\n      <td>0.8025</td>\n      <td>0.793</td>\n      <td>0.7795</td>\n      <td>0.787</td>\n      <td>0.009618</td>\n      <td>1</td>\n    </tr>\n    <tr>\n      <th>3</th>\n      <td>0.006196</td>\n      <td>0.000408</td>\n      <td>0.001788</td>\n      <td>0.000747</td>\n      <td>gini</td>\n      <td>3</td>\n      <td>64</td>\n      <td>32</td>\n      <td>{'criterion': 'gini', 'max_depth': 3, 'min_sam...</td>\n      <td>0.784</td>\n      <td>0.776</td>\n      <td>0.8025</td>\n      <td>0.793</td>\n      <td>0.7795</td>\n      <td>0.787</td>\n      <td>0.009618</td>\n      <td>1</td>\n    </tr>\n    <tr>\n      <th>4</th>\n      <td>0.007180</td>\n      <td>0.001147</td>\n      <td>0.001198</td>\n      <td>0.000399</td>\n      <td>gini</td>\n      <td>3</td>\n      <td>64</td>\n      <td>64</td>\n      <td>{'criterion': 'gini', 'max_depth': 3, 'min_sam...</td>\n      <td>0.784</td>\n      <td>0.776</td>\n      <td>0.8025</td>\n      <td>0.793</td>\n      <td>0.7795</td>\n      <td>0.787</td>\n      <td>0.009618</td>\n      <td>1</td>\n    </tr>\n  </tbody>\n</table>\n</div>"
     },
     "execution_count": 37,
     "metadata": {},
     "output_type": "execute_result"
    }
   ],
   "source": [
    "SEED=301\n",
    "np.random.seed(SEED)\n",
    "\n",
    "espaco_de_parametros = {\n",
    "    \"max_depth\" : [3, 5],\n",
    "    \"min_samples_split\": [32, 64, 128],\n",
    "    \"min_samples_leaf\": [32, 64, 128],\n",
    "    \"criterion\": [\"gini\", \"entropy\"]\n",
    "\n",
    "}\n",
    "\n",
    "busca = GridSearchCV(DecisionTreeClassifier(),\n",
    "                    espaco_de_parametros,\n",
    "                    cv = KFold(n_splits = 5, shuffle=True))\n",
    "\n",
    "busca.fit(x_azar, y_azar)\n",
    "resultados = pd.DataFrame(busca.cv_results_)\n",
    "resultados.head()"
   ],
   "metadata": {
    "collapsed": false,
    "pycharm": {
     "name": "#%%\n"
    }
   }
  },
  {
   "cell_type": "code",
   "execution_count": 38,
   "outputs": [
    {
     "data": {
      "text/plain": "array([0.7895, 0.7825, 0.7905, 0.7715, 0.7995])"
     },
     "execution_count": 38,
     "metadata": {},
     "output_type": "execute_result"
    }
   ],
   "source": [
    "from sklearn.model_selection import cross_val_score\n",
    "\n",
    "scores = cross_val_score(busca, x_azar, y_azar, cv = KFold(n_splits=5, shuffle=True))\n",
    "scores"
   ],
   "metadata": {
    "collapsed": false,
    "pycharm": {
     "name": "#%%\n"
    }
   }
  },
  {
   "cell_type": "code",
   "execution_count": 39,
   "outputs": [],
   "source": [
    "def imprime_score(scores):\n",
    "  media = scores.mean() * 100\n",
    "  desvio = scores.std() * 100\n",
    "  print(\"Accuracy médio %.2f\" % media)\n",
    "  print(\"Intervalo [%.2f, %.2f]\" % (media - 2 * desvio, media + 2 * desvio))"
   ],
   "metadata": {
    "collapsed": false,
    "pycharm": {
     "name": "#%%\n"
    }
   }
  },
  {
   "cell_type": "code",
   "execution_count": 40,
   "outputs": [
    {
     "name": "stdout",
     "output_type": "stream",
     "text": [
      "Accuracy médio 78.67\n",
      "Intervalo [76.80, 80.54]\n"
     ]
    }
   ],
   "source": [
    "imprime_score(scores)"
   ],
   "metadata": {
    "collapsed": false,
    "pycharm": {
     "name": "#%%\n"
    }
   }
  },
  {
   "cell_type": "markdown",
   "source": [
    "# Busca aleatoria: RandomSearch"
   ],
   "metadata": {
    "collapsed": false,
    "pycharm": {
     "name": "#%% md\n"
    }
   }
  },
  {
   "cell_type": "code",
   "execution_count": 41,
   "outputs": [
    {
     "data": {
      "text/plain": "   mean_fit_time  std_fit_time  mean_score_time  std_score_time  \\\n0       0.008386      0.000799         0.001197        0.000399   \n1       0.006388      0.001003         0.001191        0.000401   \n2       0.005188      0.000398         0.001196        0.000400   \n3       0.011356      0.001621         0.001403        0.000484   \n4       0.010779      0.000403         0.001189        0.000386   \n\n  param_min_samples_split param_min_samples_leaf param_max_depth  \\\n0                     128                    128               5   \n1                      64                     32               3   \n2                      64                    128               3   \n3                      32                     64               5   \n4                      64                     64               5   \n\n  param_criterion                                             params  \\\n0            gini  {'min_samples_split': 128, 'min_samples_leaf':...   \n1            gini  {'min_samples_split': 64, 'min_samples_leaf': ...   \n2            gini  {'min_samples_split': 64, 'min_samples_leaf': ...   \n3         entropy  {'min_samples_split': 32, 'min_samples_leaf': ...   \n4         entropy  {'min_samples_split': 64, 'min_samples_leaf': ...   \n\n   split0_test_score  split1_test_score  split2_test_score  split3_test_score  \\\n0             0.4330             0.4525              0.771              0.742   \n1             0.4015             0.4165              0.771              0.766   \n2             0.4015             0.4165              0.771              0.766   \n3             0.4240             0.4535              0.771              0.750   \n4             0.4240             0.4535              0.771              0.750   \n\n   split4_test_score  mean_test_score  std_test_score  rank_test_score  \n0             0.7725           0.6342        0.156817                1  \n1             0.7725           0.6255        0.176848               11  \n2             0.7725           0.6255        0.176848               11  \n3             0.7445           0.6286        0.155544                5  \n4             0.7445           0.6286        0.155544                5  ",
      "text/html": "<div>\n<style scoped>\n    .dataframe tbody tr th:only-of-type {\n        vertical-align: middle;\n    }\n\n    .dataframe tbody tr th {\n        vertical-align: top;\n    }\n\n    .dataframe thead th {\n        text-align: right;\n    }\n</style>\n<table border=\"1\" class=\"dataframe\">\n  <thead>\n    <tr style=\"text-align: right;\">\n      <th></th>\n      <th>mean_fit_time</th>\n      <th>std_fit_time</th>\n      <th>mean_score_time</th>\n      <th>std_score_time</th>\n      <th>param_min_samples_split</th>\n      <th>param_min_samples_leaf</th>\n      <th>param_max_depth</th>\n      <th>param_criterion</th>\n      <th>params</th>\n      <th>split0_test_score</th>\n      <th>split1_test_score</th>\n      <th>split2_test_score</th>\n      <th>split3_test_score</th>\n      <th>split4_test_score</th>\n      <th>mean_test_score</th>\n      <th>std_test_score</th>\n      <th>rank_test_score</th>\n    </tr>\n  </thead>\n  <tbody>\n    <tr>\n      <th>0</th>\n      <td>0.008386</td>\n      <td>0.000799</td>\n      <td>0.001197</td>\n      <td>0.000399</td>\n      <td>128</td>\n      <td>128</td>\n      <td>5</td>\n      <td>gini</td>\n      <td>{'min_samples_split': 128, 'min_samples_leaf':...</td>\n      <td>0.4330</td>\n      <td>0.4525</td>\n      <td>0.771</td>\n      <td>0.742</td>\n      <td>0.7725</td>\n      <td>0.6342</td>\n      <td>0.156817</td>\n      <td>1</td>\n    </tr>\n    <tr>\n      <th>1</th>\n      <td>0.006388</td>\n      <td>0.001003</td>\n      <td>0.001191</td>\n      <td>0.000401</td>\n      <td>64</td>\n      <td>32</td>\n      <td>3</td>\n      <td>gini</td>\n      <td>{'min_samples_split': 64, 'min_samples_leaf': ...</td>\n      <td>0.4015</td>\n      <td>0.4165</td>\n      <td>0.771</td>\n      <td>0.766</td>\n      <td>0.7725</td>\n      <td>0.6255</td>\n      <td>0.176848</td>\n      <td>11</td>\n    </tr>\n    <tr>\n      <th>2</th>\n      <td>0.005188</td>\n      <td>0.000398</td>\n      <td>0.001196</td>\n      <td>0.000400</td>\n      <td>64</td>\n      <td>128</td>\n      <td>3</td>\n      <td>gini</td>\n      <td>{'min_samples_split': 64, 'min_samples_leaf': ...</td>\n      <td>0.4015</td>\n      <td>0.4165</td>\n      <td>0.771</td>\n      <td>0.766</td>\n      <td>0.7725</td>\n      <td>0.6255</td>\n      <td>0.176848</td>\n      <td>11</td>\n    </tr>\n    <tr>\n      <th>3</th>\n      <td>0.011356</td>\n      <td>0.001621</td>\n      <td>0.001403</td>\n      <td>0.000484</td>\n      <td>32</td>\n      <td>64</td>\n      <td>5</td>\n      <td>entropy</td>\n      <td>{'min_samples_split': 32, 'min_samples_leaf': ...</td>\n      <td>0.4240</td>\n      <td>0.4535</td>\n      <td>0.771</td>\n      <td>0.750</td>\n      <td>0.7445</td>\n      <td>0.6286</td>\n      <td>0.155544</td>\n      <td>5</td>\n    </tr>\n    <tr>\n      <th>4</th>\n      <td>0.010779</td>\n      <td>0.000403</td>\n      <td>0.001189</td>\n      <td>0.000386</td>\n      <td>64</td>\n      <td>64</td>\n      <td>5</td>\n      <td>entropy</td>\n      <td>{'min_samples_split': 64, 'min_samples_leaf': ...</td>\n      <td>0.4240</td>\n      <td>0.4535</td>\n      <td>0.771</td>\n      <td>0.750</td>\n      <td>0.7445</td>\n      <td>0.6286</td>\n      <td>0.155544</td>\n      <td>5</td>\n    </tr>\n  </tbody>\n</table>\n</div>"
     },
     "execution_count": 41,
     "metadata": {},
     "output_type": "execute_result"
    }
   ],
   "source": [
    "from sklearn.model_selection import RandomizedSearchCV\n",
    "\n",
    "SEED=301\n",
    "np.random.seed(SEED)\n",
    "\n",
    "espaco_de_parametros = {\n",
    "    \"max_depth\" : [3, 5],\n",
    "    \"min_samples_split\": [32, 64, 128],\n",
    "    \"min_samples_leaf\": [32, 64, 128],\n",
    "    \"criterion\": [\"gini\", \"entropy\"]\n",
    "}\n",
    "\n",
    "busca = RandomizedSearchCV(DecisionTreeClassifier(),\n",
    "                    espaco_de_parametros,\n",
    "                    n_iter = 16,\n",
    "                    cv = KFold(n_splits = 5),\n",
    "                          random_state = SEED)\n",
    "\n",
    "\n",
    "busca.fit(x_azar, y_azar,groups = dados.modelo)\n",
    "resultados = pd.DataFrame(busca.cv_results_)\n",
    "resultados.head()"
   ],
   "metadata": {
    "collapsed": false,
    "pycharm": {
     "name": "#%%\n"
    }
   }
  },
  {
   "cell_type": "code",
   "execution_count": 42,
   "outputs": [
    {
     "name": "stdout",
     "output_type": "stream",
     "text": [
      "Accuracy médio 78.41\n",
      "Intervalo [76.12, 80.70]\n"
     ]
    }
   ],
   "source": [
    "from sklearn.model_selection import cross_val_score\n",
    "\n",
    "scores = cross_val_score(busca, x_azar, y_azar, cv = KFold(n_splits=5, shuffle=True))\n",
    "imprime_score(scores)"
   ],
   "metadata": {
    "collapsed": false,
    "pycharm": {
     "name": "#%%\n"
    }
   }
  },
  {
   "cell_type": "code",
   "execution_count": 43,
   "outputs": [
    {
     "data": {
      "text/plain": "DecisionTreeClassifier(max_depth=5, min_samples_leaf=128, min_samples_split=128)",
      "text/html": "<style>#sk-container-id-6 {color: black;background-color: white;}#sk-container-id-6 pre{padding: 0;}#sk-container-id-6 div.sk-toggleable {background-color: white;}#sk-container-id-6 label.sk-toggleable__label {cursor: pointer;display: block;width: 100%;margin-bottom: 0;padding: 0.3em;box-sizing: border-box;text-align: center;}#sk-container-id-6 label.sk-toggleable__label-arrow:before {content: \"▸\";float: left;margin-right: 0.25em;color: #696969;}#sk-container-id-6 label.sk-toggleable__label-arrow:hover:before {color: black;}#sk-container-id-6 div.sk-estimator:hover label.sk-toggleable__label-arrow:before {color: black;}#sk-container-id-6 div.sk-toggleable__content {max-height: 0;max-width: 0;overflow: hidden;text-align: left;background-color: #f0f8ff;}#sk-container-id-6 div.sk-toggleable__content pre {margin: 0.2em;color: black;border-radius: 0.25em;background-color: #f0f8ff;}#sk-container-id-6 input.sk-toggleable__control:checked~div.sk-toggleable__content {max-height: 200px;max-width: 100%;overflow: auto;}#sk-container-id-6 input.sk-toggleable__control:checked~label.sk-toggleable__label-arrow:before {content: \"▾\";}#sk-container-id-6 div.sk-estimator input.sk-toggleable__control:checked~label.sk-toggleable__label {background-color: #d4ebff;}#sk-container-id-6 div.sk-label input.sk-toggleable__control:checked~label.sk-toggleable__label {background-color: #d4ebff;}#sk-container-id-6 input.sk-hidden--visually {border: 0;clip: rect(1px 1px 1px 1px);clip: rect(1px, 1px, 1px, 1px);height: 1px;margin: -1px;overflow: hidden;padding: 0;position: absolute;width: 1px;}#sk-container-id-6 div.sk-estimator {font-family: monospace;background-color: #f0f8ff;border: 1px dotted black;border-radius: 0.25em;box-sizing: border-box;margin-bottom: 0.5em;}#sk-container-id-6 div.sk-estimator:hover {background-color: #d4ebff;}#sk-container-id-6 div.sk-parallel-item::after {content: \"\";width: 100%;border-bottom: 1px solid gray;flex-grow: 1;}#sk-container-id-6 div.sk-label:hover label.sk-toggleable__label {background-color: #d4ebff;}#sk-container-id-6 div.sk-serial::before {content: \"\";position: absolute;border-left: 1px solid gray;box-sizing: border-box;top: 0;bottom: 0;left: 50%;z-index: 0;}#sk-container-id-6 div.sk-serial {display: flex;flex-direction: column;align-items: center;background-color: white;padding-right: 0.2em;padding-left: 0.2em;position: relative;}#sk-container-id-6 div.sk-item {position: relative;z-index: 1;}#sk-container-id-6 div.sk-parallel {display: flex;align-items: stretch;justify-content: center;background-color: white;position: relative;}#sk-container-id-6 div.sk-item::before, #sk-container-id-6 div.sk-parallel-item::before {content: \"\";position: absolute;border-left: 1px solid gray;box-sizing: border-box;top: 0;bottom: 0;left: 50%;z-index: -1;}#sk-container-id-6 div.sk-parallel-item {display: flex;flex-direction: column;z-index: 1;position: relative;background-color: white;}#sk-container-id-6 div.sk-parallel-item:first-child::after {align-self: flex-end;width: 50%;}#sk-container-id-6 div.sk-parallel-item:last-child::after {align-self: flex-start;width: 50%;}#sk-container-id-6 div.sk-parallel-item:only-child::after {width: 0;}#sk-container-id-6 div.sk-dashed-wrapped {border: 1px dashed gray;margin: 0 0.4em 0.5em 0.4em;box-sizing: border-box;padding-bottom: 0.4em;background-color: white;}#sk-container-id-6 div.sk-label label {font-family: monospace;font-weight: bold;display: inline-block;line-height: 1.2em;}#sk-container-id-6 div.sk-label-container {text-align: center;}#sk-container-id-6 div.sk-container {/* jupyter's `normalize.less` sets `[hidden] { display: none; }` but bootstrap.min.css set `[hidden] { display: none !important; }` so we also need the `!important` here to be able to override the default hidden behavior on the sphinx rendered scikit-learn.org. See: https://github.com/scikit-learn/scikit-learn/issues/21755 */display: inline-block !important;position: relative;}#sk-container-id-6 div.sk-text-repr-fallback {display: none;}</style><div id=\"sk-container-id-6\" class=\"sk-top-container\"><div class=\"sk-text-repr-fallback\"><pre>DecisionTreeClassifier(max_depth=5, min_samples_leaf=128, min_samples_split=128)</pre><b>In a Jupyter environment, please rerun this cell to show the HTML representation or trust the notebook. <br />On GitHub, the HTML representation is unable to render, please try loading this page with nbviewer.org.</b></div><div class=\"sk-container\" hidden><div class=\"sk-item\"><div class=\"sk-estimator sk-toggleable\"><input class=\"sk-toggleable__control sk-hidden--visually\" id=\"sk-estimator-id-6\" type=\"checkbox\" checked><label for=\"sk-estimator-id-6\" class=\"sk-toggleable__label sk-toggleable__label-arrow\">DecisionTreeClassifier</label><div class=\"sk-toggleable__content\"><pre>DecisionTreeClassifier(max_depth=5, min_samples_leaf=128, min_samples_split=128)</pre></div></div></div></div></div>"
     },
     "execution_count": 43,
     "metadata": {},
     "output_type": "execute_result"
    }
   ],
   "source": [
    "melhor = busca.best_estimator_\n",
    "melhor"
   ],
   "metadata": {
    "collapsed": false,
    "pycharm": {
     "name": "#%%\n"
    }
   }
  },
  {
   "cell_type": "code",
   "execution_count": 43,
   "outputs": [],
   "source": [],
   "metadata": {
    "collapsed": false,
    "pycharm": {
     "name": "#%%\n"
    }
   }
  }
 ],
 "metadata": {
  "kernelspec": {
   "display_name": "Python 3",
   "language": "python",
   "name": "python3"
  },
  "language_info": {
   "codemirror_mode": {
    "name": "ipython",
    "version": 2
   },
   "file_extension": ".py",
   "mimetype": "text/x-python",
   "name": "python",
   "nbconvert_exporter": "python",
   "pygments_lexer": "ipython2",
   "version": "2.7.6"
  }
 },
 "nbformat": 4,
 "nbformat_minor": 0
}