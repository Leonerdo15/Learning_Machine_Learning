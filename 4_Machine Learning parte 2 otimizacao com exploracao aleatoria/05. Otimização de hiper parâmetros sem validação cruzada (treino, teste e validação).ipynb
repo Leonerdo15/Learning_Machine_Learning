{
 "cells": [
  {
   "cell_type": "code",
   "execution_count": 9,
   "outputs": [
    {
     "data": {
      "text/plain": "       preco  vendido  idade_do_modelo   km_por_ano\n0   30941.02        1               18  35085.22134\n1   40557.96        1               20  12622.05362\n2   89627.50        0               12  11440.79806\n3   95276.14        0                3  43167.32682\n4  117384.68        1                4  12770.11290",
      "text/html": "<div>\n<style scoped>\n    .dataframe tbody tr th:only-of-type {\n        vertical-align: middle;\n    }\n\n    .dataframe tbody tr th {\n        vertical-align: top;\n    }\n\n    .dataframe thead th {\n        text-align: right;\n    }\n</style>\n<table border=\"1\" class=\"dataframe\">\n  <thead>\n    <tr style=\"text-align: right;\">\n      <th></th>\n      <th>preco</th>\n      <th>vendido</th>\n      <th>idade_do_modelo</th>\n      <th>km_por_ano</th>\n    </tr>\n  </thead>\n  <tbody>\n    <tr>\n      <th>0</th>\n      <td>30941.02</td>\n      <td>1</td>\n      <td>18</td>\n      <td>35085.22134</td>\n    </tr>\n    <tr>\n      <th>1</th>\n      <td>40557.96</td>\n      <td>1</td>\n      <td>20</td>\n      <td>12622.05362</td>\n    </tr>\n    <tr>\n      <th>2</th>\n      <td>89627.50</td>\n      <td>0</td>\n      <td>12</td>\n      <td>11440.79806</td>\n    </tr>\n    <tr>\n      <th>3</th>\n      <td>95276.14</td>\n      <td>0</td>\n      <td>3</td>\n      <td>43167.32682</td>\n    </tr>\n    <tr>\n      <th>4</th>\n      <td>117384.68</td>\n      <td>1</td>\n      <td>4</td>\n      <td>12770.11290</td>\n    </tr>\n  </tbody>\n</table>\n</div>"
     },
     "execution_count": 9,
     "metadata": {},
     "output_type": "execute_result"
    }
   ],
   "source": [
    "import pandas as pd\n",
    "import numpy as np\n",
    "from sklearn.model_selection import cross_validate\n",
    "from sklearn.tree import DecisionTreeClassifier\n",
    "from sklearn.model_selection import GroupKFold\n",
    "from sklearn.model_selection import GridSearchCV\n",
    "from sklearn.model_selection import KFold\n",
    "from sklearn.model_selection import RandomizedSearchCV\n",
    "from scipy.stats import randint\n",
    "from sklearn.model_selection import cross_val_score\n",
    "from sklearn.ensemble import RandomForestClassifier\n",
    "import time\n",
    "\n",
    "\n",
    "SEED=301\n",
    "np.random.seed(SEED)\n",
    "\n",
    "uri = \"https://gist.githubusercontent.com/guilhermesilveira/e99a526b2e7ccc6c3b70f53db43a87d2/raw/1605fc74aa778066bf2e6695e24d53cf65f2f447/machine-learning-carros-simulacao.csv\"\n",
    "dados = pd.read_csv(uri).drop(columns=[\"Unnamed: 0\"], axis=1)\n",
    "dados.head()"
   ],
   "metadata": {
    "collapsed": false,
    "pycharm": {
     "name": "#%%\n"
    }
   }
  },
  {
   "cell_type": "code",
   "execution_count": 2,
   "outputs": [
    {
     "data": {
      "text/plain": "         preco  vendido  idade_do_modelo   km_por_ano\n4999  74023.29        0               12  24812.80412\n5322  84843.49        0               13  23095.63834\n5319  83100.27        0               19  36240.72746\n5316  87932.13        0               16  32249.56426\n5315  77937.01        0               15  28414.50704\n...        ...      ...              ...          ...\n5491  71910.43        1                9  25778.40812\n1873  30456.53        1                6  15468.97608\n1874  69342.41        1               11  16909.33538\n5499  70520.39        1               16  19622.68262\n0     30941.02        1               18  35085.22134\n\n[10000 rows x 4 columns]",
      "text/html": "<div>\n<style scoped>\n    .dataframe tbody tr th:only-of-type {\n        vertical-align: middle;\n    }\n\n    .dataframe tbody tr th {\n        vertical-align: top;\n    }\n\n    .dataframe thead th {\n        text-align: right;\n    }\n</style>\n<table border=\"1\" class=\"dataframe\">\n  <thead>\n    <tr style=\"text-align: right;\">\n      <th></th>\n      <th>preco</th>\n      <th>vendido</th>\n      <th>idade_do_modelo</th>\n      <th>km_por_ano</th>\n    </tr>\n  </thead>\n  <tbody>\n    <tr>\n      <th>4999</th>\n      <td>74023.29</td>\n      <td>0</td>\n      <td>12</td>\n      <td>24812.80412</td>\n    </tr>\n    <tr>\n      <th>5322</th>\n      <td>84843.49</td>\n      <td>0</td>\n      <td>13</td>\n      <td>23095.63834</td>\n    </tr>\n    <tr>\n      <th>5319</th>\n      <td>83100.27</td>\n      <td>0</td>\n      <td>19</td>\n      <td>36240.72746</td>\n    </tr>\n    <tr>\n      <th>5316</th>\n      <td>87932.13</td>\n      <td>0</td>\n      <td>16</td>\n      <td>32249.56426</td>\n    </tr>\n    <tr>\n      <th>5315</th>\n      <td>77937.01</td>\n      <td>0</td>\n      <td>15</td>\n      <td>28414.50704</td>\n    </tr>\n    <tr>\n      <th>...</th>\n      <td>...</td>\n      <td>...</td>\n      <td>...</td>\n      <td>...</td>\n    </tr>\n    <tr>\n      <th>5491</th>\n      <td>71910.43</td>\n      <td>1</td>\n      <td>9</td>\n      <td>25778.40812</td>\n    </tr>\n    <tr>\n      <th>1873</th>\n      <td>30456.53</td>\n      <td>1</td>\n      <td>6</td>\n      <td>15468.97608</td>\n    </tr>\n    <tr>\n      <th>1874</th>\n      <td>69342.41</td>\n      <td>1</td>\n      <td>11</td>\n      <td>16909.33538</td>\n    </tr>\n    <tr>\n      <th>5499</th>\n      <td>70520.39</td>\n      <td>1</td>\n      <td>16</td>\n      <td>19622.68262</td>\n    </tr>\n    <tr>\n      <th>0</th>\n      <td>30941.02</td>\n      <td>1</td>\n      <td>18</td>\n      <td>35085.22134</td>\n    </tr>\n  </tbody>\n</table>\n<p>10000 rows × 4 columns</p>\n</div>"
     },
     "execution_count": 2,
     "metadata": {},
     "output_type": "execute_result"
    }
   ],
   "source": [
    "# situação horrível de \"azar\" onde as classes estão ordenadas por padrão\n",
    "\n",
    "dados_azar = dados.sort_values(\"vendido\", ascending=True)\n",
    "x_azar = dados_azar[[\"preco\", \"idade_do_modelo\",\"km_por_ano\"]]\n",
    "y_azar = dados_azar[\"vendido\"]\n",
    "dados_azar"
   ],
   "metadata": {
    "collapsed": false,
    "pycharm": {
     "name": "#%%\n"
    }
   }
  },
  {
   "cell_type": "code",
   "execution_count": 3,
   "outputs": [
    {
     "data": {
      "text/plain": "       preco  vendido  idade_do_modelo   km_por_ano  modelo\n0   30941.02        1               18  35085.22134      18\n1   40557.96        1               20  12622.05362      24\n2   89627.50        0               12  11440.79806      14\n3   95276.14        0                3  43167.32682       6\n4  117384.68        1                4  12770.11290       5",
      "text/html": "<div>\n<style scoped>\n    .dataframe tbody tr th:only-of-type {\n        vertical-align: middle;\n    }\n\n    .dataframe tbody tr th {\n        vertical-align: top;\n    }\n\n    .dataframe thead th {\n        text-align: right;\n    }\n</style>\n<table border=\"1\" class=\"dataframe\">\n  <thead>\n    <tr style=\"text-align: right;\">\n      <th></th>\n      <th>preco</th>\n      <th>vendido</th>\n      <th>idade_do_modelo</th>\n      <th>km_por_ano</th>\n      <th>modelo</th>\n    </tr>\n  </thead>\n  <tbody>\n    <tr>\n      <th>0</th>\n      <td>30941.02</td>\n      <td>1</td>\n      <td>18</td>\n      <td>35085.22134</td>\n      <td>18</td>\n    </tr>\n    <tr>\n      <th>1</th>\n      <td>40557.96</td>\n      <td>1</td>\n      <td>20</td>\n      <td>12622.05362</td>\n      <td>24</td>\n    </tr>\n    <tr>\n      <th>2</th>\n      <td>89627.50</td>\n      <td>0</td>\n      <td>12</td>\n      <td>11440.79806</td>\n      <td>14</td>\n    </tr>\n    <tr>\n      <th>3</th>\n      <td>95276.14</td>\n      <td>0</td>\n      <td>3</td>\n      <td>43167.32682</td>\n      <td>6</td>\n    </tr>\n    <tr>\n      <th>4</th>\n      <td>117384.68</td>\n      <td>1</td>\n      <td>4</td>\n      <td>12770.11290</td>\n      <td>5</td>\n    </tr>\n  </tbody>\n</table>\n</div>"
     },
     "execution_count": 3,
     "metadata": {},
     "output_type": "execute_result"
    }
   ],
   "source": [
    "# gerando dados elatorios de modelo de carro para simulacao de agrupamento ao usar nosso estimador\n",
    "\n",
    "np.random.seed(SEED)\n",
    "dados['modelo'] = dados.idade_do_modelo + np.random.randint(-2, 3, size=10000)\n",
    "dados.modelo = dados.modelo + abs(dados.modelo.min()) + 1\n",
    "dados.head()"
   ],
   "metadata": {
    "collapsed": false,
    "pycharm": {
     "name": "#%%\n"
    }
   }
  },
  {
   "cell_type": "code",
   "execution_count": 4,
   "outputs": [],
   "source": [
    "def imprime_resultados(results):\n",
    "  media = results['test_score'].mean() * 100\n",
    "  desvio = results['test_score'].std() * 100\n",
    "  print(\"Accuracy médio %.2f\" % media)\n",
    "  print(\"Intervalo [%.2f, %.2f]\" % (media - 2 * desvio, media + 2 * desvio))"
   ],
   "metadata": {
    "collapsed": false,
    "pycharm": {
     "name": "#%%\n"
    }
   }
  },
  {
   "cell_type": "code",
   "execution_count": 5,
   "outputs": [],
   "source": [
    "def imprime_score(scores):\n",
    "  media = scores.mean() * 100\n",
    "  desvio = scores.std() * 100\n",
    "  print(\"Accuracy médio %.2f\" % media)\n",
    "  print(\"Intervalo [%.2f, %.2f]\" % (media - 2 * desvio, media + 2 * desvio))"
   ],
   "metadata": {
    "collapsed": false,
    "pycharm": {
     "name": "#%%\n"
    }
   }
  },
  {
   "cell_type": "markdown",
   "source": [
    "# 0.6 Teste\n",
    "# 0.2 Teste\n",
    "# 0.2 Validaçao"
   ],
   "metadata": {
    "collapsed": false,
    "pycharm": {
     "name": "#%% md\n"
    }
   }
  },
  {
   "cell_type": "code",
   "execution_count": 10,
   "outputs": [
    {
     "name": "stdout",
     "output_type": "stream",
     "text": [
      "(8000, 3)\n",
      "(2000, 3)\n",
      "(8000,)\n",
      "(2000,)\n"
     ]
    }
   ],
   "source": [
    "from sklearn.model_selection import train_test_split\n",
    "\n",
    "x_treino_teste, x_validacao, y_treino_teste, y_validacao = train_test_split(x_azar, y_azar, test_size=0.2, shuffle=True, stratify=y_azar)\n",
    "\n",
    "print(x_treino_teste.shape)\n",
    "print(x_validacao.shape)\n",
    "print(y_treino_teste.shape)\n",
    "print(y_validacao.shape)"
   ],
   "metadata": {
    "collapsed": false,
    "pycharm": {
     "name": "#%%\n"
    }
   }
  },
  {
   "cell_type": "code",
   "execution_count": 12,
   "outputs": [
    {
     "name": "stdout",
     "output_type": "stream",
     "text": [
      "Tempo 0.75 segundos\n"
     ]
    },
    {
     "data": {
      "text/plain": "   mean_fit_time  std_fit_time  mean_score_time  std_score_time  \\\n0       0.225434           0.0         0.017947             0.0   \n1       0.129230           0.0         0.007977             0.0   \n2       0.112205           0.0         0.007979             0.0   \n3       0.041888           0.0         0.004987             0.0   \n4       0.127193           0.0         0.008974             0.0   \n\n  param_bootstrap param_criterion param_max_depth param_min_samples_leaf  \\\n0           False            gini               4                    124   \n1            True         entropy               4                     56   \n2            True         entropy               5                    113   \n3            True            gini               3                     78   \n4            True         entropy               5                     84   \n\n  param_min_samples_split param_n_estimators  \\\n0                      84                 89   \n1                     100                 19   \n2                      55                 40   \n3                      45                 20   \n4                     124                 40   \n\n                                              params  split0_test_score  \\\n0  {'bootstrap': False, 'criterion': 'gini', 'max...             0.7755   \n1  {'bootstrap': True, 'criterion': 'entropy', 'm...             0.7830   \n2  {'bootstrap': True, 'criterion': 'entropy', 'm...             0.7700   \n3  {'bootstrap': True, 'criterion': 'gini', 'max_...             0.7730   \n4  {'bootstrap': True, 'criterion': 'entropy', 'm...             0.7775   \n\n   mean_test_score  std_test_score  rank_test_score  \n0           0.7755             0.0                3  \n1           0.7830             0.0                1  \n2           0.7700             0.0                5  \n3           0.7730             0.0                4  \n4           0.7775             0.0                2  ",
      "text/html": "<div>\n<style scoped>\n    .dataframe tbody tr th:only-of-type {\n        vertical-align: middle;\n    }\n\n    .dataframe tbody tr th {\n        vertical-align: top;\n    }\n\n    .dataframe thead th {\n        text-align: right;\n    }\n</style>\n<table border=\"1\" class=\"dataframe\">\n  <thead>\n    <tr style=\"text-align: right;\">\n      <th></th>\n      <th>mean_fit_time</th>\n      <th>std_fit_time</th>\n      <th>mean_score_time</th>\n      <th>std_score_time</th>\n      <th>param_bootstrap</th>\n      <th>param_criterion</th>\n      <th>param_max_depth</th>\n      <th>param_min_samples_leaf</th>\n      <th>param_min_samples_split</th>\n      <th>param_n_estimators</th>\n      <th>params</th>\n      <th>split0_test_score</th>\n      <th>mean_test_score</th>\n      <th>std_test_score</th>\n      <th>rank_test_score</th>\n    </tr>\n  </thead>\n  <tbody>\n    <tr>\n      <th>0</th>\n      <td>0.225434</td>\n      <td>0.0</td>\n      <td>0.017947</td>\n      <td>0.0</td>\n      <td>False</td>\n      <td>gini</td>\n      <td>4</td>\n      <td>124</td>\n      <td>84</td>\n      <td>89</td>\n      <td>{'bootstrap': False, 'criterion': 'gini', 'max...</td>\n      <td>0.7755</td>\n      <td>0.7755</td>\n      <td>0.0</td>\n      <td>3</td>\n    </tr>\n    <tr>\n      <th>1</th>\n      <td>0.129230</td>\n      <td>0.0</td>\n      <td>0.007977</td>\n      <td>0.0</td>\n      <td>True</td>\n      <td>entropy</td>\n      <td>4</td>\n      <td>56</td>\n      <td>100</td>\n      <td>19</td>\n      <td>{'bootstrap': True, 'criterion': 'entropy', 'm...</td>\n      <td>0.7830</td>\n      <td>0.7830</td>\n      <td>0.0</td>\n      <td>1</td>\n    </tr>\n    <tr>\n      <th>2</th>\n      <td>0.112205</td>\n      <td>0.0</td>\n      <td>0.007979</td>\n      <td>0.0</td>\n      <td>True</td>\n      <td>entropy</td>\n      <td>5</td>\n      <td>113</td>\n      <td>55</td>\n      <td>40</td>\n      <td>{'bootstrap': True, 'criterion': 'entropy', 'm...</td>\n      <td>0.7700</td>\n      <td>0.7700</td>\n      <td>0.0</td>\n      <td>5</td>\n    </tr>\n    <tr>\n      <th>3</th>\n      <td>0.041888</td>\n      <td>0.0</td>\n      <td>0.004987</td>\n      <td>0.0</td>\n      <td>True</td>\n      <td>gini</td>\n      <td>3</td>\n      <td>78</td>\n      <td>45</td>\n      <td>20</td>\n      <td>{'bootstrap': True, 'criterion': 'gini', 'max_...</td>\n      <td>0.7730</td>\n      <td>0.7730</td>\n      <td>0.0</td>\n      <td>4</td>\n    </tr>\n    <tr>\n      <th>4</th>\n      <td>0.127193</td>\n      <td>0.0</td>\n      <td>0.008974</td>\n      <td>0.0</td>\n      <td>True</td>\n      <td>entropy</td>\n      <td>5</td>\n      <td>84</td>\n      <td>124</td>\n      <td>40</td>\n      <td>{'bootstrap': True, 'criterion': 'entropy', 'm...</td>\n      <td>0.7775</td>\n      <td>0.7775</td>\n      <td>0.0</td>\n      <td>2</td>\n    </tr>\n  </tbody>\n</table>\n</div>"
     },
     "execution_count": 12,
     "metadata": {},
     "output_type": "execute_result"
    }
   ],
   "source": [
    "from sklearn.model_selection import StratifiedShuffleSplit\n",
    "\n",
    "espaco_de_parametros = {\n",
    "    \"n_estimators\" : randint(10, 101),\n",
    "    \"max_depth\" : randint(3, 6),\n",
    "    \"min_samples_split\": randint(32, 129),\n",
    "    \"min_samples_leaf\": randint(32, 129),\n",
    "    \"bootstrap\" : [True, False],\n",
    "    \"criterion\": [\"gini\", \"entropy\"]\n",
    "\n",
    "}\n",
    "\n",
    "split = StratifiedShuffleSplit(n_splits = 1, test_size = 0.25)\n",
    "\n",
    "tic = time.time()\n",
    "busca = RandomizedSearchCV(RandomForestClassifier(),\n",
    "                    espaco_de_parametros,\n",
    "                    n_iter = 5,\n",
    "                    cv = split)\n",
    "busca.fit(x_treino_teste, y_treino_teste)\n",
    "tac = time.time()\n",
    "tempo_que_passou = tac - tic\n",
    "print(\"Tempo %.2f segundos\" % tempo_que_passou)\n",
    "\n",
    "\n",
    "\n",
    "resultados = pd.DataFrame(busca.cv_results_)\n",
    "resultados.head()"
   ],
   "metadata": {
    "collapsed": false,
    "pycharm": {
     "name": "#%%\n"
    }
   }
  },
  {
   "cell_type": "code",
   "execution_count": 13,
   "outputs": [
    {
     "name": "stdout",
     "output_type": "stream",
     "text": [
      "Tempo 0.80 segundos\n"
     ]
    },
    {
     "data": {
      "text/plain": "array([0.774])"
     },
     "execution_count": 13,
     "metadata": {},
     "output_type": "execute_result"
    }
   ],
   "source": [
    "tic = time.time()\n",
    "scores = cross_val_score(busca, x_validacao, y_validacao, cv = split)\n",
    "tac = time.time()\n",
    "tempo_passado = tac - tic\n",
    "print(\"Tempo %.2f segundos\" % tempo_passado)\n",
    "\n",
    "scores"
   ],
   "metadata": {
    "collapsed": false,
    "pycharm": {
     "name": "#%%\n"
    }
   }
  },
  {
   "cell_type": "code",
   "execution_count": null,
   "outputs": [],
   "source": [],
   "metadata": {
    "collapsed": false,
    "pycharm": {
     "name": "#%%\n"
    }
   }
  }
 ],
 "metadata": {
  "kernelspec": {
   "display_name": "Python 3",
   "language": "python",
   "name": "python3"
  },
  "language_info": {
   "codemirror_mode": {
    "name": "ipython",
    "version": 2
   },
   "file_extension": ".py",
   "mimetype": "text/x-python",
   "name": "python",
   "nbconvert_exporter": "python",
   "pygments_lexer": "ipython2",
   "version": "2.7.6"
  }
 },
 "nbformat": 4,
 "nbformat_minor": 0
}