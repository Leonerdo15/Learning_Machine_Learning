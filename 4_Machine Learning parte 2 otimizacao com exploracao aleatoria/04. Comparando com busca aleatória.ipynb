{
 "cells": [
  {
   "cell_type": "code",
   "execution_count": 15,
   "outputs": [
    {
     "data": {
      "text/plain": "       preco  vendido  idade_do_modelo   km_por_ano\n0   30941.02        1               18  35085.22134\n1   40557.96        1               20  12622.05362\n2   89627.50        0               12  11440.79806\n3   95276.14        0                3  43167.32682\n4  117384.68        1                4  12770.11290",
      "text/html": "<div>\n<style scoped>\n    .dataframe tbody tr th:only-of-type {\n        vertical-align: middle;\n    }\n\n    .dataframe tbody tr th {\n        vertical-align: top;\n    }\n\n    .dataframe thead th {\n        text-align: right;\n    }\n</style>\n<table border=\"1\" class=\"dataframe\">\n  <thead>\n    <tr style=\"text-align: right;\">\n      <th></th>\n      <th>preco</th>\n      <th>vendido</th>\n      <th>idade_do_modelo</th>\n      <th>km_por_ano</th>\n    </tr>\n  </thead>\n  <tbody>\n    <tr>\n      <th>0</th>\n      <td>30941.02</td>\n      <td>1</td>\n      <td>18</td>\n      <td>35085.22134</td>\n    </tr>\n    <tr>\n      <th>1</th>\n      <td>40557.96</td>\n      <td>1</td>\n      <td>20</td>\n      <td>12622.05362</td>\n    </tr>\n    <tr>\n      <th>2</th>\n      <td>89627.50</td>\n      <td>0</td>\n      <td>12</td>\n      <td>11440.79806</td>\n    </tr>\n    <tr>\n      <th>3</th>\n      <td>95276.14</td>\n      <td>0</td>\n      <td>3</td>\n      <td>43167.32682</td>\n    </tr>\n    <tr>\n      <th>4</th>\n      <td>117384.68</td>\n      <td>1</td>\n      <td>4</td>\n      <td>12770.11290</td>\n    </tr>\n  </tbody>\n</table>\n</div>"
     },
     "execution_count": 15,
     "metadata": {},
     "output_type": "execute_result"
    }
   ],
   "source": [
    "import pandas as pd\n",
    "import numpy as np\n",
    "from sklearn.model_selection import cross_validate\n",
    "from sklearn.tree import DecisionTreeClassifier\n",
    "from sklearn.model_selection import GroupKFold\n",
    "from sklearn.model_selection import GridSearchCV\n",
    "from sklearn.model_selection import KFold\n",
    "from sklearn.model_selection import RandomizedSearchCV\n",
    "from scipy.stats import randint\n",
    "from sklearn.model_selection import cross_val_score\n",
    "from sklearn.ensemble import RandomForestClassifier\n",
    "import time\n",
    "\n",
    "\n",
    "SEED = 301\n",
    "\n",
    "uri = \"https://gist.githubusercontent.com/guilhermesilveira/e99a526b2e7ccc6c3b70f53db43a87d2/raw/1605fc74aa778066bf2e6695e24d53cf65f2f447/machine-learning-carros-simulacao.csv\"\n",
    "dados = pd.read_csv(uri).drop(columns=[\"Unnamed: 0\"], axis=1)\n",
    "dados.head()"
   ],
   "metadata": {
    "collapsed": false,
    "pycharm": {
     "name": "#%%\n"
    }
   }
  },
  {
   "cell_type": "code",
   "execution_count": 14,
   "outputs": [
    {
     "data": {
      "text/plain": "         preco  vendido  idade_do_modelo   km_por_ano  modelo\n4999  74023.29        0               12  24812.80412      15\n5322  84843.49        0               13  23095.63834      13\n5319  83100.27        0               19  36240.72746      23\n5316  87932.13        0               16  32249.56426      16\n5315  77937.01        0               15  28414.50704      17\n...        ...      ...              ...          ...     ...\n5491  71910.43        1                9  25778.40812      12\n1873  30456.53        1                6  15468.97608       7\n1874  69342.41        1               11  16909.33538      13\n5499  70520.39        1               16  19622.68262      17\n0     30941.02        1               18  35085.22134      18\n\n[10000 rows x 5 columns]",
      "text/html": "<div>\n<style scoped>\n    .dataframe tbody tr th:only-of-type {\n        vertical-align: middle;\n    }\n\n    .dataframe tbody tr th {\n        vertical-align: top;\n    }\n\n    .dataframe thead th {\n        text-align: right;\n    }\n</style>\n<table border=\"1\" class=\"dataframe\">\n  <thead>\n    <tr style=\"text-align: right;\">\n      <th></th>\n      <th>preco</th>\n      <th>vendido</th>\n      <th>idade_do_modelo</th>\n      <th>km_por_ano</th>\n      <th>modelo</th>\n    </tr>\n  </thead>\n  <tbody>\n    <tr>\n      <th>4999</th>\n      <td>74023.29</td>\n      <td>0</td>\n      <td>12</td>\n      <td>24812.80412</td>\n      <td>15</td>\n    </tr>\n    <tr>\n      <th>5322</th>\n      <td>84843.49</td>\n      <td>0</td>\n      <td>13</td>\n      <td>23095.63834</td>\n      <td>13</td>\n    </tr>\n    <tr>\n      <th>5319</th>\n      <td>83100.27</td>\n      <td>0</td>\n      <td>19</td>\n      <td>36240.72746</td>\n      <td>23</td>\n    </tr>\n    <tr>\n      <th>5316</th>\n      <td>87932.13</td>\n      <td>0</td>\n      <td>16</td>\n      <td>32249.56426</td>\n      <td>16</td>\n    </tr>\n    <tr>\n      <th>5315</th>\n      <td>77937.01</td>\n      <td>0</td>\n      <td>15</td>\n      <td>28414.50704</td>\n      <td>17</td>\n    </tr>\n    <tr>\n      <th>...</th>\n      <td>...</td>\n      <td>...</td>\n      <td>...</td>\n      <td>...</td>\n      <td>...</td>\n    </tr>\n    <tr>\n      <th>5491</th>\n      <td>71910.43</td>\n      <td>1</td>\n      <td>9</td>\n      <td>25778.40812</td>\n      <td>12</td>\n    </tr>\n    <tr>\n      <th>1873</th>\n      <td>30456.53</td>\n      <td>1</td>\n      <td>6</td>\n      <td>15468.97608</td>\n      <td>7</td>\n    </tr>\n    <tr>\n      <th>1874</th>\n      <td>69342.41</td>\n      <td>1</td>\n      <td>11</td>\n      <td>16909.33538</td>\n      <td>13</td>\n    </tr>\n    <tr>\n      <th>5499</th>\n      <td>70520.39</td>\n      <td>1</td>\n      <td>16</td>\n      <td>19622.68262</td>\n      <td>17</td>\n    </tr>\n    <tr>\n      <th>0</th>\n      <td>30941.02</td>\n      <td>1</td>\n      <td>18</td>\n      <td>35085.22134</td>\n      <td>18</td>\n    </tr>\n  </tbody>\n</table>\n<p>10000 rows × 5 columns</p>\n</div>"
     },
     "execution_count": 14,
     "metadata": {},
     "output_type": "execute_result"
    }
   ],
   "source": [
    "# situação horrível de \"azar\" onde as classes estão ordenadas por padrão\n",
    "\n",
    "dados_azar = dados.sort_values(\"vendido\", ascending=True)\n",
    "x_azar = dados_azar[[\"preco\", \"idade_do_modelo\",\"km_por_ano\"]]\n",
    "y_azar = dados_azar[\"vendido\"]\n",
    "dados_azar"
   ],
   "metadata": {
    "collapsed": false,
    "pycharm": {
     "name": "#%%\n"
    }
   }
  },
  {
   "cell_type": "code",
   "execution_count": 4,
   "outputs": [
    {
     "data": {
      "text/plain": "       preco  vendido  idade_do_modelo   km_por_ano  modelo\n0   30941.02        1               18  35085.22134      18\n1   40557.96        1               20  12622.05362      24\n2   89627.50        0               12  11440.79806      14\n3   95276.14        0                3  43167.32682       6\n4  117384.68        1                4  12770.11290       5",
      "text/html": "<div>\n<style scoped>\n    .dataframe tbody tr th:only-of-type {\n        vertical-align: middle;\n    }\n\n    .dataframe tbody tr th {\n        vertical-align: top;\n    }\n\n    .dataframe thead th {\n        text-align: right;\n    }\n</style>\n<table border=\"1\" class=\"dataframe\">\n  <thead>\n    <tr style=\"text-align: right;\">\n      <th></th>\n      <th>preco</th>\n      <th>vendido</th>\n      <th>idade_do_modelo</th>\n      <th>km_por_ano</th>\n      <th>modelo</th>\n    </tr>\n  </thead>\n  <tbody>\n    <tr>\n      <th>0</th>\n      <td>30941.02</td>\n      <td>1</td>\n      <td>18</td>\n      <td>35085.22134</td>\n      <td>18</td>\n    </tr>\n    <tr>\n      <th>1</th>\n      <td>40557.96</td>\n      <td>1</td>\n      <td>20</td>\n      <td>12622.05362</td>\n      <td>24</td>\n    </tr>\n    <tr>\n      <th>2</th>\n      <td>89627.50</td>\n      <td>0</td>\n      <td>12</td>\n      <td>11440.79806</td>\n      <td>14</td>\n    </tr>\n    <tr>\n      <th>3</th>\n      <td>95276.14</td>\n      <td>0</td>\n      <td>3</td>\n      <td>43167.32682</td>\n      <td>6</td>\n    </tr>\n    <tr>\n      <th>4</th>\n      <td>117384.68</td>\n      <td>1</td>\n      <td>4</td>\n      <td>12770.11290</td>\n      <td>5</td>\n    </tr>\n  </tbody>\n</table>\n</div>"
     },
     "execution_count": 4,
     "metadata": {},
     "output_type": "execute_result"
    }
   ],
   "source": [
    "# gerando dados elatorios de modelo de carro para simulacao de agrupamento ao usar nosso estimador\n",
    "\n",
    "np.random.seed(SEED)\n",
    "dados['modelo'] = dados.idade_do_modelo + np.random.randint(-2, 3, size=10000)\n",
    "dados.modelo = dados.modelo + abs(dados.modelo.min()) + 1\n",
    "dados.head()"
   ],
   "metadata": {
    "collapsed": false,
    "pycharm": {
     "name": "#%%\n"
    }
   }
  },
  {
   "cell_type": "code",
   "execution_count": 5,
   "outputs": [],
   "source": [
    "def imprime_resultados(results):\n",
    "  media = results['test_score'].mean() * 100\n",
    "  desvio = results['test_score'].std() * 100\n",
    "  print(\"Accuracy médio %.2f\" % media)\n",
    "  print(\"Intervalo [%.2f, %.2f]\" % (media - 2 * desvio, media + 2 * desvio))"
   ],
   "metadata": {
    "collapsed": false,
    "pycharm": {
     "name": "#%%\n"
    }
   }
  },
  {
   "cell_type": "code",
   "execution_count": 6,
   "outputs": [],
   "source": [
    "def imprime_score(scores):\n",
    "  media = scores.mean() * 100\n",
    "  desvio = scores.std() * 100\n",
    "  print(\"Accuracy médio %.2f\" % media)\n",
    "  print(\"Intervalo [%.2f, %.2f]\" % (media - 2 * desvio, media + 2 * desvio))"
   ],
   "metadata": {
    "collapsed": false,
    "pycharm": {
     "name": "#%%\n"
    }
   }
  },
  {
   "cell_type": "markdown",
   "source": [
    "#  Customizando o espaço de hiper parametros"
   ],
   "metadata": {
    "collapsed": false,
    "pycharm": {
     "name": "#%% md\n"
    }
   }
  },
  {
   "cell_type": "code",
   "execution_count": 7,
   "outputs": [
    {
     "data": {
      "text/plain": "   mean_fit_time  std_fit_time  mean_score_time  std_score_time  \\\n0       0.010584      0.001029         0.001386        0.000477   \n1       0.012368      0.001005         0.001196        0.000399   \n2       0.011173      0.001466         0.001395        0.000487   \n3       0.014362      0.000798         0.001396        0.000488   \n4       0.010374      0.000487         0.001201        0.000397   \n\n  param_criterion param_max_depth param_min_samples_leaf  \\\n0         entropy               3                     71   \n1            gini              15                     93   \n2            gini              20                    124   \n3            gini            None                     46   \n4            gini              15                    126   \n\n  param_min_samples_split                                             params  \\\n0                     100  {'criterion': 'entropy', 'max_depth': 3, 'min_...   \n1                     111  {'criterion': 'gini', 'max_depth': 15, 'min_sa...   \n2                      88  {'criterion': 'gini', 'max_depth': 20, 'min_sa...   \n3                      62  {'criterion': 'gini', 'max_depth': None, 'min_...   \n4                      84  {'criterion': 'gini', 'max_depth': 15, 'min_sa...   \n\n   split0_test_score  split1_test_score  split2_test_score  split3_test_score  \\\n0             0.7840             0.7760             0.8025             0.7930   \n1             0.7740             0.7725             0.7830             0.7805   \n2             0.7705             0.7745             0.7990             0.7790   \n3             0.7575             0.7730             0.7725             0.7835   \n4             0.7705             0.7735             0.7995             0.7790   \n\n   split4_test_score  mean_test_score  std_test_score  rank_test_score  \n0             0.7795           0.7870        0.009618                1  \n1             0.7725           0.7765        0.004393               14  \n2             0.7735           0.7793        0.010221                8  \n3             0.7560           0.7685        0.010378               16  \n4             0.7745           0.7794        0.010413                7  ",
      "text/html": "<div>\n<style scoped>\n    .dataframe tbody tr th:only-of-type {\n        vertical-align: middle;\n    }\n\n    .dataframe tbody tr th {\n        vertical-align: top;\n    }\n\n    .dataframe thead th {\n        text-align: right;\n    }\n</style>\n<table border=\"1\" class=\"dataframe\">\n  <thead>\n    <tr style=\"text-align: right;\">\n      <th></th>\n      <th>mean_fit_time</th>\n      <th>std_fit_time</th>\n      <th>mean_score_time</th>\n      <th>std_score_time</th>\n      <th>param_criterion</th>\n      <th>param_max_depth</th>\n      <th>param_min_samples_leaf</th>\n      <th>param_min_samples_split</th>\n      <th>params</th>\n      <th>split0_test_score</th>\n      <th>split1_test_score</th>\n      <th>split2_test_score</th>\n      <th>split3_test_score</th>\n      <th>split4_test_score</th>\n      <th>mean_test_score</th>\n      <th>std_test_score</th>\n      <th>rank_test_score</th>\n    </tr>\n  </thead>\n  <tbody>\n    <tr>\n      <th>0</th>\n      <td>0.010584</td>\n      <td>0.001029</td>\n      <td>0.001386</td>\n      <td>0.000477</td>\n      <td>entropy</td>\n      <td>3</td>\n      <td>71</td>\n      <td>100</td>\n      <td>{'criterion': 'entropy', 'max_depth': 3, 'min_...</td>\n      <td>0.7840</td>\n      <td>0.7760</td>\n      <td>0.8025</td>\n      <td>0.7930</td>\n      <td>0.7795</td>\n      <td>0.7870</td>\n      <td>0.009618</td>\n      <td>1</td>\n    </tr>\n    <tr>\n      <th>1</th>\n      <td>0.012368</td>\n      <td>0.001005</td>\n      <td>0.001196</td>\n      <td>0.000399</td>\n      <td>gini</td>\n      <td>15</td>\n      <td>93</td>\n      <td>111</td>\n      <td>{'criterion': 'gini', 'max_depth': 15, 'min_sa...</td>\n      <td>0.7740</td>\n      <td>0.7725</td>\n      <td>0.7830</td>\n      <td>0.7805</td>\n      <td>0.7725</td>\n      <td>0.7765</td>\n      <td>0.004393</td>\n      <td>14</td>\n    </tr>\n    <tr>\n      <th>2</th>\n      <td>0.011173</td>\n      <td>0.001466</td>\n      <td>0.001395</td>\n      <td>0.000487</td>\n      <td>gini</td>\n      <td>20</td>\n      <td>124</td>\n      <td>88</td>\n      <td>{'criterion': 'gini', 'max_depth': 20, 'min_sa...</td>\n      <td>0.7705</td>\n      <td>0.7745</td>\n      <td>0.7990</td>\n      <td>0.7790</td>\n      <td>0.7735</td>\n      <td>0.7793</td>\n      <td>0.010221</td>\n      <td>8</td>\n    </tr>\n    <tr>\n      <th>3</th>\n      <td>0.014362</td>\n      <td>0.000798</td>\n      <td>0.001396</td>\n      <td>0.000488</td>\n      <td>gini</td>\n      <td>None</td>\n      <td>46</td>\n      <td>62</td>\n      <td>{'criterion': 'gini', 'max_depth': None, 'min_...</td>\n      <td>0.7575</td>\n      <td>0.7730</td>\n      <td>0.7725</td>\n      <td>0.7835</td>\n      <td>0.7560</td>\n      <td>0.7685</td>\n      <td>0.010378</td>\n      <td>16</td>\n    </tr>\n    <tr>\n      <th>4</th>\n      <td>0.010374</td>\n      <td>0.000487</td>\n      <td>0.001201</td>\n      <td>0.000397</td>\n      <td>gini</td>\n      <td>15</td>\n      <td>126</td>\n      <td>84</td>\n      <td>{'criterion': 'gini', 'max_depth': 15, 'min_sa...</td>\n      <td>0.7705</td>\n      <td>0.7735</td>\n      <td>0.7995</td>\n      <td>0.7790</td>\n      <td>0.7745</td>\n      <td>0.7794</td>\n      <td>0.010413</td>\n      <td>7</td>\n    </tr>\n  </tbody>\n</table>\n</div>"
     },
     "execution_count": 7,
     "metadata": {},
     "output_type": "execute_result"
    }
   ],
   "source": [
    "\n",
    "SEED=301\n",
    "np.random.seed(SEED)\n",
    "\n",
    "espaco_de_parametros = {\n",
    "    \"max_depth\" : [3, 5, 10, 15, 20, 30, None],\n",
    "    \"min_samples_split\" : randint(32, 128),\n",
    "    \"min_samples_leaf\" : randint(32, 128),\n",
    "    \"criterion\" : [\"gini\", \"entropy\"]\n",
    "\n",
    "}\n",
    "\n",
    "busca = RandomizedSearchCV(DecisionTreeClassifier(),\n",
    "                    espaco_de_parametros,\n",
    "                    n_iter = 16,\n",
    "                    cv = KFold(n_splits = 5, shuffle=True),\n",
    "                          random_state = SEED)\n",
    "\n",
    "\n",
    "busca.fit(x_azar, y_azar)\n",
    "resultados = pd.DataFrame(busca.cv_results_)\n",
    "resultados.head()"
   ],
   "metadata": {
    "collapsed": false,
    "pycharm": {
     "name": "#%%\n"
    }
   }
  },
  {
   "cell_type": "code",
   "execution_count": 8,
   "outputs": [],
   "source": [
    "\n",
    "SEED=301\n",
    "np.random.seed(SEED)\n",
    "\n",
    "espaco_de_parametros = {\n",
    "    \"n_estimators\" : [10, 100],\n",
    "    \"max_depth\" : [3, 5],\n",
    "    \"min_samples_split\": [32, 64, 128],\n",
    "    \"min_samples_leaf\": [32, 64, 128],\n",
    "    \"bootstrap\" : [True, False],\n",
    "    \"criterion\": [\"gini\", \"entropy\"]\n",
    "\n",
    "}\n",
    "\n",
    "tic = time.time()\n",
    "busca = GridSearchCV(RandomForestClassifier(),\n",
    "                    espaco_de_parametros,\n",
    "                    cv = KFold(n_splits = 5, shuffle=True))\n",
    "busca.fit(x_azar, y_azar)\n",
    "tac = time.time()\n",
    "tempo_que_passou = tac - tic\n",
    "print(\"Tempo %.2f segundos\" % tempo_que_passou)\n",
    "\n",
    "\n",
    "\n",
    "resultados = pd.DataFrame(busca.cv_results_)\n",
    "resultados.head()"
   ],
   "metadata": {
    "collapsed": false,
    "pycharm": {
     "name": "#%%\n"
    }
   }
  },
  {
   "cell_type": "code",
   "execution_count": 9,
   "outputs": [
    {
     "name": "stdout",
     "output_type": "stream",
     "text": [
      "Tempo 15.81 segundos\n"
     ]
    }
   ],
   "source": [
    "tic = time.time()\n",
    "busca = RandomizedSearchCV(RandomForestClassifier(),\n",
    "                    espaco_de_parametros,\n",
    "                    n_iter = 20,\n",
    "                    cv = KFold(n_splits = 5, shuffle=True))\n",
    "busca.fit(x_azar, y_azar)\n",
    "tac = time.time()\n",
    "tempo_que_passou = tac - tic\n",
    "print(\"Tempo %.2f segundos\" % tempo_que_passou)"
   ],
   "metadata": {
    "collapsed": false,
    "pycharm": {
     "name": "#%%\n"
    }
   }
  },
  {
   "cell_type": "code",
   "execution_count": 10,
   "outputs": [
    {
     "name": "stdout",
     "output_type": "stream",
     "text": [
      "0.787 +-(0.019) {'criterion': 'entropy', 'max_depth': 3, 'min_samples_leaf': 71, 'min_samples_split': 100}\n",
      "0.784 +-(0.024) {'criterion': 'entropy', 'max_depth': 5, 'min_samples_leaf': 73, 'min_samples_split': 72}\n",
      "0.784 +-(0.024) {'criterion': 'gini', 'max_depth': 5, 'min_samples_leaf': 64, 'min_samples_split': 67}\n",
      "0.781 +-(0.017) {'criterion': 'gini', 'max_depth': 10, 'min_samples_leaf': 108, 'min_samples_split': 110}\n",
      "0.780 +-(0.019) {'criterion': 'gini', 'max_depth': 10, 'min_samples_leaf': 125, 'min_samples_split': 59}\n"
     ]
    }
   ],
   "source": [
    "resultados_ordenados_pela_media = resultados.sort_values(\"mean_test_score\", ascending=False)\n",
    "for indice, linha in resultados_ordenados_pela_media[:5].iterrows():\n",
    "  print(\"%.3f +-(%.3f) %s\" % (linha.mean_test_score, linha.std_test_score*2, linha.params))"
   ],
   "metadata": {
    "collapsed": false,
    "pycharm": {
     "name": "#%%\n"
    }
   }
  },
  {
   "cell_type": "code",
   "execution_count": 11,
   "outputs": [
    {
     "name": "stdout",
     "output_type": "stream",
     "text": [
      "Tempo 86.87 segundos\n",
      "Accuracy médio 77.46\n",
      "Intervalo [75.24, 79.68]\n",
      "RandomForestClassifier(bootstrap=False, max_depth=5, min_samples_leaf=64,\n",
      "                       min_samples_split=64, n_estimators=10)\n"
     ]
    }
   ],
   "source": [
    "tic = time.time()\n",
    "scores = cross_val_score(busca, x_azar, y_azar, cv = KFold(n_splits=5, shuffle=True))\n",
    "tac = time.time()\n",
    "tempo_passado = tac - tic\n",
    "print(\"Tempo %.2f segundos\" % tempo_passado)\n",
    "\n",
    "imprime_score(scores)\n",
    "melhor = busca.best_estimator_\n",
    "print(melhor)"
   ],
   "metadata": {
    "collapsed": false,
    "pycharm": {
     "name": "#%%\n"
    }
   }
  },
  {
   "cell_type": "code",
   "execution_count": 12,
   "outputs": [
    {
     "name": "stdout",
     "output_type": "stream",
     "text": [
      "Tempo 70.39 segundos\n"
     ]
    },
    {
     "data": {
      "text/plain": "   mean_fit_time  std_fit_time  mean_score_time  std_score_time  \\\n0       0.235082      0.006377         0.015946        0.000621   \n1       0.184720      0.001147         0.014372        0.000508   \n2       0.180928      0.007275         0.015270        0.000584   \n3       0.118490      0.005260         0.010877        0.002189   \n4       0.177772      0.002833         0.013164        0.000755   \n\n  param_bootstrap param_criterion param_max_depth param_min_samples_leaf  \\\n0           False            gini               3                     50   \n1            True            gini               3                     88   \n2            True            gini               3                    126   \n3            True            gini               3                     57   \n4            True            gini               4                     52   \n\n  param_min_samples_split param_n_estimators  \\\n0                      93                 89   \n1                     104                 80   \n2                      84                 77   \n3                      73                 50   \n4                      88                 68   \n\n                                              params  split0_test_score  \\\n0  {'bootstrap': False, 'criterion': 'gini', 'max...             0.7715   \n1  {'bootstrap': True, 'criterion': 'gini', 'max_...             0.7715   \n2  {'bootstrap': True, 'criterion': 'gini', 'max_...             0.7685   \n3  {'bootstrap': True, 'criterion': 'gini', 'max_...             0.7720   \n4  {'bootstrap': True, 'criterion': 'gini', 'max_...             0.7720   \n\n   split1_test_score  split2_test_score  split3_test_score  split4_test_score  \\\n0             0.7620             0.7750             0.7855             0.7580   \n1             0.7575             0.7925             0.7855             0.7575   \n2             0.7695             0.7925             0.7795             0.7575   \n3             0.7670             0.7830             0.7865             0.7580   \n4             0.7685             0.7930             0.7850             0.7585   \n\n   mean_test_score  std_test_score  rank_test_score  \n0           0.7704        0.009744               75  \n1           0.7729        0.014277               63  \n2           0.7735        0.011781               59  \n3           0.7733        0.010429               60  \n4           0.7754        0.012220               30  ",
      "text/html": "<div>\n<style scoped>\n    .dataframe tbody tr th:only-of-type {\n        vertical-align: middle;\n    }\n\n    .dataframe tbody tr th {\n        vertical-align: top;\n    }\n\n    .dataframe thead th {\n        text-align: right;\n    }\n</style>\n<table border=\"1\" class=\"dataframe\">\n  <thead>\n    <tr style=\"text-align: right;\">\n      <th></th>\n      <th>mean_fit_time</th>\n      <th>std_fit_time</th>\n      <th>mean_score_time</th>\n      <th>std_score_time</th>\n      <th>param_bootstrap</th>\n      <th>param_criterion</th>\n      <th>param_max_depth</th>\n      <th>param_min_samples_leaf</th>\n      <th>param_min_samples_split</th>\n      <th>param_n_estimators</th>\n      <th>params</th>\n      <th>split0_test_score</th>\n      <th>split1_test_score</th>\n      <th>split2_test_score</th>\n      <th>split3_test_score</th>\n      <th>split4_test_score</th>\n      <th>mean_test_score</th>\n      <th>std_test_score</th>\n      <th>rank_test_score</th>\n    </tr>\n  </thead>\n  <tbody>\n    <tr>\n      <th>0</th>\n      <td>0.235082</td>\n      <td>0.006377</td>\n      <td>0.015946</td>\n      <td>0.000621</td>\n      <td>False</td>\n      <td>gini</td>\n      <td>3</td>\n      <td>50</td>\n      <td>93</td>\n      <td>89</td>\n      <td>{'bootstrap': False, 'criterion': 'gini', 'max...</td>\n      <td>0.7715</td>\n      <td>0.7620</td>\n      <td>0.7750</td>\n      <td>0.7855</td>\n      <td>0.7580</td>\n      <td>0.7704</td>\n      <td>0.009744</td>\n      <td>75</td>\n    </tr>\n    <tr>\n      <th>1</th>\n      <td>0.184720</td>\n      <td>0.001147</td>\n      <td>0.014372</td>\n      <td>0.000508</td>\n      <td>True</td>\n      <td>gini</td>\n      <td>3</td>\n      <td>88</td>\n      <td>104</td>\n      <td>80</td>\n      <td>{'bootstrap': True, 'criterion': 'gini', 'max_...</td>\n      <td>0.7715</td>\n      <td>0.7575</td>\n      <td>0.7925</td>\n      <td>0.7855</td>\n      <td>0.7575</td>\n      <td>0.7729</td>\n      <td>0.014277</td>\n      <td>63</td>\n    </tr>\n    <tr>\n      <th>2</th>\n      <td>0.180928</td>\n      <td>0.007275</td>\n      <td>0.015270</td>\n      <td>0.000584</td>\n      <td>True</td>\n      <td>gini</td>\n      <td>3</td>\n      <td>126</td>\n      <td>84</td>\n      <td>77</td>\n      <td>{'bootstrap': True, 'criterion': 'gini', 'max_...</td>\n      <td>0.7685</td>\n      <td>0.7695</td>\n      <td>0.7925</td>\n      <td>0.7795</td>\n      <td>0.7575</td>\n      <td>0.7735</td>\n      <td>0.011781</td>\n      <td>59</td>\n    </tr>\n    <tr>\n      <th>3</th>\n      <td>0.118490</td>\n      <td>0.005260</td>\n      <td>0.010877</td>\n      <td>0.002189</td>\n      <td>True</td>\n      <td>gini</td>\n      <td>3</td>\n      <td>57</td>\n      <td>73</td>\n      <td>50</td>\n      <td>{'bootstrap': True, 'criterion': 'gini', 'max_...</td>\n      <td>0.7720</td>\n      <td>0.7670</td>\n      <td>0.7830</td>\n      <td>0.7865</td>\n      <td>0.7580</td>\n      <td>0.7733</td>\n      <td>0.010429</td>\n      <td>60</td>\n    </tr>\n    <tr>\n      <th>4</th>\n      <td>0.177772</td>\n      <td>0.002833</td>\n      <td>0.013164</td>\n      <td>0.000755</td>\n      <td>True</td>\n      <td>gini</td>\n      <td>4</td>\n      <td>52</td>\n      <td>88</td>\n      <td>68</td>\n      <td>{'bootstrap': True, 'criterion': 'gini', 'max_...</td>\n      <td>0.7720</td>\n      <td>0.7685</td>\n      <td>0.7930</td>\n      <td>0.7850</td>\n      <td>0.7585</td>\n      <td>0.7754</td>\n      <td>0.012220</td>\n      <td>30</td>\n    </tr>\n  </tbody>\n</table>\n</div>"
     },
     "execution_count": 12,
     "metadata": {},
     "output_type": "execute_result"
    }
   ],
   "source": [
    "SEED=301\n",
    "np.random.seed(SEED)\n",
    "\n",
    "espaco_de_parametros = {\n",
    "    \"n_estimators\" : randint(10, 101),\n",
    "    \"max_depth\" : randint(3, 6),\n",
    "    \"min_samples_split\": randint(32, 129),\n",
    "    \"min_samples_leaf\": randint(32, 129),\n",
    "    \"bootstrap\" : [True, False],\n",
    "    \"criterion\": [\"gini\", \"entropy\"]\n",
    "\n",
    "}\n",
    "\n",
    "tic = time.time()\n",
    "busca = RandomizedSearchCV(RandomForestClassifier(),\n",
    "                    espaco_de_parametros,\n",
    "                    n_iter = 80,\n",
    "                    cv = KFold(n_splits = 5, shuffle=True))\n",
    "busca.fit(x_azar, y_azar)\n",
    "tac = time.time()\n",
    "tempo_que_passou = tac - tic\n",
    "print(\"Tempo %.2f segundos\" % tempo_que_passou)\n",
    "\n",
    "\n",
    "\n",
    "resultados = pd.DataFrame(busca.cv_results_)\n",
    "resultados.head()"
   ],
   "metadata": {
    "collapsed": false,
    "pycharm": {
     "name": "#%%\n"
    }
   }
  },
  {
   "cell_type": "code",
   "execution_count": 13,
   "outputs": [
    {
     "name": "stdout",
     "output_type": "stream",
     "text": [
      "0.779 +-(0.025) {'bootstrap': False, 'criterion': 'entropy', 'max_depth': 5, 'min_samples_leaf': 84, 'min_samples_split': 89, 'n_estimators': 48}\n",
      "0.778 +-(0.031) {'bootstrap': False, 'criterion': 'entropy', 'max_depth': 5, 'min_samples_leaf': 32, 'min_samples_split': 96, 'n_estimators': 18}\n",
      "0.778 +-(0.032) {'bootstrap': False, 'criterion': 'entropy', 'max_depth': 4, 'min_samples_leaf': 121, 'min_samples_split': 47, 'n_estimators': 27}\n",
      "0.778 +-(0.024) {'bootstrap': False, 'criterion': 'gini', 'max_depth': 4, 'min_samples_leaf': 96, 'min_samples_split': 98, 'n_estimators': 11}\n",
      "0.777 +-(0.029) {'bootstrap': True, 'criterion': 'gini', 'max_depth': 5, 'min_samples_leaf': 63, 'min_samples_split': 88, 'n_estimators': 69}\n"
     ]
    }
   ],
   "source": [
    "resultados_ordenados_pela_media = resultados.sort_values(\"mean_test_score\", ascending=False)\n",
    "for indice, linha in resultados_ordenados_pela_media[:5].iterrows():\n",
    "  print(\"%.3f +-(%.3f) %s\" % (linha.mean_test_score, linha.std_test_score*2, linha.params))"
   ],
   "metadata": {
    "collapsed": false,
    "pycharm": {
     "name": "#%%\n"
    }
   }
  },
  {
   "cell_type": "code",
   "execution_count": null,
   "outputs": [],
   "source": [],
   "metadata": {
    "collapsed": false,
    "pycharm": {
     "name": "#%%\n"
    }
   }
  }
 ],
 "metadata": {
  "kernelspec": {
   "display_name": "Python 3",
   "language": "python",
   "name": "python3"
  },
  "language_info": {
   "codemirror_mode": {
    "name": "ipython",
    "version": 2
   },
   "file_extension": ".py",
   "mimetype": "text/x-python",
   "name": "python",
   "nbconvert_exporter": "python",
   "pygments_lexer": "ipython2",
   "version": "2.7.6"
  }
 },
 "nbformat": 4,
 "nbformat_minor": 0
}