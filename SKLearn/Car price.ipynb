{
 "cells": [
  {
   "cell_type": "code",
   "execution_count": 21,
   "outputs": [
    {
     "data": {
      "text/plain": "      Unnamed: 0  mileage_per_year  model_year      price sold\n0              0             21801        2000   30941.02  yes\n1              1              7843        1998   40557.96  yes\n2              2              7109        2006   89627.50   no\n3              3             26823        2015   95276.14   no\n4              4              7935        2014  117384.68  yes\n...          ...               ...         ...        ...  ...\n9995        9995             15572        2006   97112.86   no\n9996        9996             13246        2002  107424.63  yes\n9997        9997             13018        2014   93856.99   no\n9998        9998             10464        2011   51250.57  yes\n9999        9999             12362        1999   87945.73   no\n\n[10000 rows x 5 columns]",
      "text/html": "<div>\n<style scoped>\n    .dataframe tbody tr th:only-of-type {\n        vertical-align: middle;\n    }\n\n    .dataframe tbody tr th {\n        vertical-align: top;\n    }\n\n    .dataframe thead th {\n        text-align: right;\n    }\n</style>\n<table border=\"1\" class=\"dataframe\">\n  <thead>\n    <tr style=\"text-align: right;\">\n      <th></th>\n      <th>Unnamed: 0</th>\n      <th>mileage_per_year</th>\n      <th>model_year</th>\n      <th>price</th>\n      <th>sold</th>\n    </tr>\n  </thead>\n  <tbody>\n    <tr>\n      <th>0</th>\n      <td>0</td>\n      <td>21801</td>\n      <td>2000</td>\n      <td>30941.02</td>\n      <td>yes</td>\n    </tr>\n    <tr>\n      <th>1</th>\n      <td>1</td>\n      <td>7843</td>\n      <td>1998</td>\n      <td>40557.96</td>\n      <td>yes</td>\n    </tr>\n    <tr>\n      <th>2</th>\n      <td>2</td>\n      <td>7109</td>\n      <td>2006</td>\n      <td>89627.50</td>\n      <td>no</td>\n    </tr>\n    <tr>\n      <th>3</th>\n      <td>3</td>\n      <td>26823</td>\n      <td>2015</td>\n      <td>95276.14</td>\n      <td>no</td>\n    </tr>\n    <tr>\n      <th>4</th>\n      <td>4</td>\n      <td>7935</td>\n      <td>2014</td>\n      <td>117384.68</td>\n      <td>yes</td>\n    </tr>\n    <tr>\n      <th>...</th>\n      <td>...</td>\n      <td>...</td>\n      <td>...</td>\n      <td>...</td>\n      <td>...</td>\n    </tr>\n    <tr>\n      <th>9995</th>\n      <td>9995</td>\n      <td>15572</td>\n      <td>2006</td>\n      <td>97112.86</td>\n      <td>no</td>\n    </tr>\n    <tr>\n      <th>9996</th>\n      <td>9996</td>\n      <td>13246</td>\n      <td>2002</td>\n      <td>107424.63</td>\n      <td>yes</td>\n    </tr>\n    <tr>\n      <th>9997</th>\n      <td>9997</td>\n      <td>13018</td>\n      <td>2014</td>\n      <td>93856.99</td>\n      <td>no</td>\n    </tr>\n    <tr>\n      <th>9998</th>\n      <td>9998</td>\n      <td>10464</td>\n      <td>2011</td>\n      <td>51250.57</td>\n      <td>yes</td>\n    </tr>\n    <tr>\n      <th>9999</th>\n      <td>9999</td>\n      <td>12362</td>\n      <td>1999</td>\n      <td>87945.73</td>\n      <td>no</td>\n    </tr>\n  </tbody>\n</table>\n<p>10000 rows × 5 columns</p>\n</div>"
     },
     "execution_count": 21,
     "metadata": {},
     "output_type": "execute_result"
    }
   ],
   "source": [
    "import pandas as pd\n",
    "\n",
    "dados = pd.read_csv(\"https://gist.githubusercontent.com/guilhermesilveira/4d1d4a16ccbf6ea4e0a64a38a24ec884/raw/afd05cb0c796d18f3f5a6537053ded308ba94bf7/car-prices.csv\")\n",
    "dados"
   ],
   "metadata": {
    "collapsed": false,
    "pycharm": {
     "name": "#%%\n"
    }
   }
  },
  {
   "cell_type": "code",
   "execution_count": 22,
   "outputs": [
    {
     "data": {
      "text/plain": "   Unnamed: 0  milhas_por_ano  ano_do_modelo      preco vendido\n0           0           21801           2000   30941.02     yes\n1           1            7843           1998   40557.96     yes\n2           2            7109           2006   89627.50      no\n3           3           26823           2015   95276.14      no\n4           4            7935           2014  117384.68     yes",
      "text/html": "<div>\n<style scoped>\n    .dataframe tbody tr th:only-of-type {\n        vertical-align: middle;\n    }\n\n    .dataframe tbody tr th {\n        vertical-align: top;\n    }\n\n    .dataframe thead th {\n        text-align: right;\n    }\n</style>\n<table border=\"1\" class=\"dataframe\">\n  <thead>\n    <tr style=\"text-align: right;\">\n      <th></th>\n      <th>Unnamed: 0</th>\n      <th>milhas_por_ano</th>\n      <th>ano_do_modelo</th>\n      <th>preco</th>\n      <th>vendido</th>\n    </tr>\n  </thead>\n  <tbody>\n    <tr>\n      <th>0</th>\n      <td>0</td>\n      <td>21801</td>\n      <td>2000</td>\n      <td>30941.02</td>\n      <td>yes</td>\n    </tr>\n    <tr>\n      <th>1</th>\n      <td>1</td>\n      <td>7843</td>\n      <td>1998</td>\n      <td>40557.96</td>\n      <td>yes</td>\n    </tr>\n    <tr>\n      <th>2</th>\n      <td>2</td>\n      <td>7109</td>\n      <td>2006</td>\n      <td>89627.50</td>\n      <td>no</td>\n    </tr>\n    <tr>\n      <th>3</th>\n      <td>3</td>\n      <td>26823</td>\n      <td>2015</td>\n      <td>95276.14</td>\n      <td>no</td>\n    </tr>\n    <tr>\n      <th>4</th>\n      <td>4</td>\n      <td>7935</td>\n      <td>2014</td>\n      <td>117384.68</td>\n      <td>yes</td>\n    </tr>\n  </tbody>\n</table>\n</div>"
     },
     "execution_count": 22,
     "metadata": {},
     "output_type": "execute_result"
    }
   ],
   "source": [
    "a_renomear = {\n",
    "    'mileage_per_year' : 'milhas_por_ano',\n",
    "    'model_year' : 'ano_do_modelo',\n",
    "    'price' : 'preco',\n",
    "    'sold' :'vendido'\n",
    "}\n",
    "dados = dados.rename(columns=a_renomear)\n",
    "dados.head()"
   ],
   "metadata": {
    "collapsed": false,
    "pycharm": {
     "name": "#%%\n"
    }
   }
  },
  {
   "cell_type": "code",
   "execution_count": 23,
   "outputs": [
    {
     "data": {
      "text/plain": "   Unnamed: 0  milhas_por_ano  ano_do_modelo      preco  vendido\n0           0           21801           2000   30941.02        1\n1           1            7843           1998   40557.96        1\n2           2            7109           2006   89627.50        0\n3           3           26823           2015   95276.14        0\n4           4            7935           2014  117384.68        1",
      "text/html": "<div>\n<style scoped>\n    .dataframe tbody tr th:only-of-type {\n        vertical-align: middle;\n    }\n\n    .dataframe tbody tr th {\n        vertical-align: top;\n    }\n\n    .dataframe thead th {\n        text-align: right;\n    }\n</style>\n<table border=\"1\" class=\"dataframe\">\n  <thead>\n    <tr style=\"text-align: right;\">\n      <th></th>\n      <th>Unnamed: 0</th>\n      <th>milhas_por_ano</th>\n      <th>ano_do_modelo</th>\n      <th>preco</th>\n      <th>vendido</th>\n    </tr>\n  </thead>\n  <tbody>\n    <tr>\n      <th>0</th>\n      <td>0</td>\n      <td>21801</td>\n      <td>2000</td>\n      <td>30941.02</td>\n      <td>1</td>\n    </tr>\n    <tr>\n      <th>1</th>\n      <td>1</td>\n      <td>7843</td>\n      <td>1998</td>\n      <td>40557.96</td>\n      <td>1</td>\n    </tr>\n    <tr>\n      <th>2</th>\n      <td>2</td>\n      <td>7109</td>\n      <td>2006</td>\n      <td>89627.50</td>\n      <td>0</td>\n    </tr>\n    <tr>\n      <th>3</th>\n      <td>3</td>\n      <td>26823</td>\n      <td>2015</td>\n      <td>95276.14</td>\n      <td>0</td>\n    </tr>\n    <tr>\n      <th>4</th>\n      <td>4</td>\n      <td>7935</td>\n      <td>2014</td>\n      <td>117384.68</td>\n      <td>1</td>\n    </tr>\n  </tbody>\n</table>\n</div>"
     },
     "execution_count": 23,
     "metadata": {},
     "output_type": "execute_result"
    }
   ],
   "source": [
    "a_trocar = {\n",
    "    'no': 0,\n",
    "    'yes': 1\n",
    "}\n",
    "dados.vendido = dados.vendido.map(a_trocar)\n",
    "dados.head()"
   ],
   "metadata": {
    "collapsed": false,
    "pycharm": {
     "name": "#%%\n"
    }
   }
  },
  {
   "cell_type": "code",
   "execution_count": 24,
   "outputs": [
    {
     "data": {
      "text/plain": "   Unnamed: 0  milhas_por_ano  ano_do_modelo      preco  vendido  \\\n0           0           21801           2000   30941.02        1   \n1           1            7843           1998   40557.96        1   \n2           2            7109           2006   89627.50        0   \n3           3           26823           2015   95276.14        0   \n4           4            7935           2014  117384.68        1   \n\n   idade_do_modelo  \n0               22  \n1               24  \n2               16  \n3                7  \n4                8  ",
      "text/html": "<div>\n<style scoped>\n    .dataframe tbody tr th:only-of-type {\n        vertical-align: middle;\n    }\n\n    .dataframe tbody tr th {\n        vertical-align: top;\n    }\n\n    .dataframe thead th {\n        text-align: right;\n    }\n</style>\n<table border=\"1\" class=\"dataframe\">\n  <thead>\n    <tr style=\"text-align: right;\">\n      <th></th>\n      <th>Unnamed: 0</th>\n      <th>milhas_por_ano</th>\n      <th>ano_do_modelo</th>\n      <th>preco</th>\n      <th>vendido</th>\n      <th>idade_do_modelo</th>\n    </tr>\n  </thead>\n  <tbody>\n    <tr>\n      <th>0</th>\n      <td>0</td>\n      <td>21801</td>\n      <td>2000</td>\n      <td>30941.02</td>\n      <td>1</td>\n      <td>22</td>\n    </tr>\n    <tr>\n      <th>1</th>\n      <td>1</td>\n      <td>7843</td>\n      <td>1998</td>\n      <td>40557.96</td>\n      <td>1</td>\n      <td>24</td>\n    </tr>\n    <tr>\n      <th>2</th>\n      <td>2</td>\n      <td>7109</td>\n      <td>2006</td>\n      <td>89627.50</td>\n      <td>0</td>\n      <td>16</td>\n    </tr>\n    <tr>\n      <th>3</th>\n      <td>3</td>\n      <td>26823</td>\n      <td>2015</td>\n      <td>95276.14</td>\n      <td>0</td>\n      <td>7</td>\n    </tr>\n    <tr>\n      <th>4</th>\n      <td>4</td>\n      <td>7935</td>\n      <td>2014</td>\n      <td>117384.68</td>\n      <td>1</td>\n      <td>8</td>\n    </tr>\n  </tbody>\n</table>\n</div>"
     },
     "execution_count": 24,
     "metadata": {},
     "output_type": "execute_result"
    }
   ],
   "source": [
    "from datetime import datetime\n",
    "\n",
    "ano_atual = datetime.today().year\n",
    "dados['idade_do_modelo'] = ano_atual - dados.ano_do_modelo\n",
    "dados.head()"
   ],
   "metadata": {
    "collapsed": false,
    "pycharm": {
     "name": "#%%\n"
    }
   }
  },
  {
   "cell_type": "code",
   "execution_count": 25,
   "outputs": [
    {
     "data": {
      "text/plain": "   Unnamed: 0  milhas_por_ano  ano_do_modelo      preco  vendido  \\\n0           0           21801           2000   30941.02        1   \n1           1            7843           1998   40557.96        1   \n2           2            7109           2006   89627.50        0   \n3           3           26823           2015   95276.14        0   \n4           4            7935           2014  117384.68        1   \n\n   idade_do_modelo   km_por_ano  \n0               22  35085.22134  \n1               24  12622.05362  \n2               16  11440.79806  \n3                7  43167.32682  \n4                8  12770.11290  ",
      "text/html": "<div>\n<style scoped>\n    .dataframe tbody tr th:only-of-type {\n        vertical-align: middle;\n    }\n\n    .dataframe tbody tr th {\n        vertical-align: top;\n    }\n\n    .dataframe thead th {\n        text-align: right;\n    }\n</style>\n<table border=\"1\" class=\"dataframe\">\n  <thead>\n    <tr style=\"text-align: right;\">\n      <th></th>\n      <th>Unnamed: 0</th>\n      <th>milhas_por_ano</th>\n      <th>ano_do_modelo</th>\n      <th>preco</th>\n      <th>vendido</th>\n      <th>idade_do_modelo</th>\n      <th>km_por_ano</th>\n    </tr>\n  </thead>\n  <tbody>\n    <tr>\n      <th>0</th>\n      <td>0</td>\n      <td>21801</td>\n      <td>2000</td>\n      <td>30941.02</td>\n      <td>1</td>\n      <td>22</td>\n      <td>35085.22134</td>\n    </tr>\n    <tr>\n      <th>1</th>\n      <td>1</td>\n      <td>7843</td>\n      <td>1998</td>\n      <td>40557.96</td>\n      <td>1</td>\n      <td>24</td>\n      <td>12622.05362</td>\n    </tr>\n    <tr>\n      <th>2</th>\n      <td>2</td>\n      <td>7109</td>\n      <td>2006</td>\n      <td>89627.50</td>\n      <td>0</td>\n      <td>16</td>\n      <td>11440.79806</td>\n    </tr>\n    <tr>\n      <th>3</th>\n      <td>3</td>\n      <td>26823</td>\n      <td>2015</td>\n      <td>95276.14</td>\n      <td>0</td>\n      <td>7</td>\n      <td>43167.32682</td>\n    </tr>\n    <tr>\n      <th>4</th>\n      <td>4</td>\n      <td>7935</td>\n      <td>2014</td>\n      <td>117384.68</td>\n      <td>1</td>\n      <td>8</td>\n      <td>12770.11290</td>\n    </tr>\n  </tbody>\n</table>\n</div>"
     },
     "execution_count": 25,
     "metadata": {},
     "output_type": "execute_result"
    }
   ],
   "source": [
    "dados ['km_por_ano'] = dados.milhas_por_ano * 1.60934\n",
    "dados.head()"
   ],
   "metadata": {
    "collapsed": false,
    "pycharm": {
     "name": "#%%\n"
    }
   }
  },
  {
   "cell_type": "code",
   "execution_count": 26,
   "outputs": [
    {
     "data": {
      "text/plain": "       preco  vendido  idade_do_modelo   km_por_ano\n0   30941.02        1               22  35085.22134\n1   40557.96        1               24  12622.05362\n2   89627.50        0               16  11440.79806\n3   95276.14        0                7  43167.32682\n4  117384.68        1                8  12770.11290",
      "text/html": "<div>\n<style scoped>\n    .dataframe tbody tr th:only-of-type {\n        vertical-align: middle;\n    }\n\n    .dataframe tbody tr th {\n        vertical-align: top;\n    }\n\n    .dataframe thead th {\n        text-align: right;\n    }\n</style>\n<table border=\"1\" class=\"dataframe\">\n  <thead>\n    <tr style=\"text-align: right;\">\n      <th></th>\n      <th>preco</th>\n      <th>vendido</th>\n      <th>idade_do_modelo</th>\n      <th>km_por_ano</th>\n    </tr>\n  </thead>\n  <tbody>\n    <tr>\n      <th>0</th>\n      <td>30941.02</td>\n      <td>1</td>\n      <td>22</td>\n      <td>35085.22134</td>\n    </tr>\n    <tr>\n      <th>1</th>\n      <td>40557.96</td>\n      <td>1</td>\n      <td>24</td>\n      <td>12622.05362</td>\n    </tr>\n    <tr>\n      <th>2</th>\n      <td>89627.50</td>\n      <td>0</td>\n      <td>16</td>\n      <td>11440.79806</td>\n    </tr>\n    <tr>\n      <th>3</th>\n      <td>95276.14</td>\n      <td>0</td>\n      <td>7</td>\n      <td>43167.32682</td>\n    </tr>\n    <tr>\n      <th>4</th>\n      <td>117384.68</td>\n      <td>1</td>\n      <td>8</td>\n      <td>12770.11290</td>\n    </tr>\n  </tbody>\n</table>\n</div>"
     },
     "execution_count": 26,
     "metadata": {},
     "output_type": "execute_result"
    }
   ],
   "source": [
    "dados = dados.drop(columns = [\"Unnamed: 0\", \"milhas_por_ano\", \"ano_do_modelo\"], axis=1)\n",
    "dados.head()"
   ],
   "metadata": {
    "collapsed": false,
    "pycharm": {
     "name": "#%%\n"
    }
   }
  },
  {
   "cell_type": "code",
   "execution_count": 35,
   "outputs": [
    {
     "name": "stdout",
     "output_type": "stream",
     "text": [
      "Treinaremos com 7500 elementos e testaremos com 2500 elementos\n",
      "A acurácia foi 46.88%\n"
     ]
    },
    {
     "name": "stderr",
     "output_type": "stream",
     "text": [
      "C:\\Users\\leona\\Desktop\\Python\\Machine Learning\\venv\\lib\\site-packages\\sklearn\\svm\\_base.py:1225: ConvergenceWarning: Liblinear failed to converge, increase the number of iterations.\n",
      "  warnings.warn(\n"
     ]
    }
   ],
   "source": [
    "import numpy as np\n",
    "from sklearn.model_selection import train_test_split\n",
    "from sklearn.svm import LinearSVC\n",
    "from sklearn.metrics import accuracy_score\n",
    "\n",
    "x = dados[[\"preco\", \"idade_do_modelo\", \"km_por_ano\"]]\n",
    "y = dados[\"vendido\"]\n",
    "\n",
    "SEED = 5\n",
    "np.random.seed(SEED)\n",
    "treino_x, teste_x, treino_y, teste_y = train_test_split(x, y, test_size = 0.25,\n",
    "                                                         stratify = y)\n",
    "print(\"Treinaremos com %d elementos e testaremos com %d elementos\" % (len(treino_x), len(teste_x)))\n",
    "\n",
    "modelo = LinearSVC()\n",
    "modelo.fit(treino_x, treino_y)\n",
    "previsoes = modelo.predict(teste_x)\n",
    "\n",
    "acuracia = accuracy_score(teste_y, previsoes) * 100\n",
    "print(\"A acurácia foi %.2f%%\" % acuracia)"
   ],
   "metadata": {
    "collapsed": false,
    "pycharm": {
     "name": "#%%\n"
    }
   }
  },
  {
   "cell_type": "code",
   "execution_count": 33,
   "outputs": [
    {
     "name": "stdout",
     "output_type": "stream",
     "text": [
      "A acurácia foi 58.00%\n"
     ]
    }
   ],
   "source": [
    "from sklearn.dummy import DummyClassifier\n",
    "\n",
    "# strategy=\"most_frequent\"\n",
    "dummy = DummyClassifier()\n",
    "dummy.fit(treino_x, treino_y)\n",
    "acuracia = dummy.score(teste_x, teste_y) * 100\n",
    "print(\"A acurácia foi %.2f%%\" % acuracia)"
   ],
   "metadata": {
    "collapsed": false,
    "pycharm": {
     "name": "#%%\n"
    }
   }
  },
  {
   "cell_type": "code",
   "execution_count": 36,
   "outputs": [
    {
     "name": "stdout",
     "output_type": "stream",
     "text": [
      "Treinaremos com 7500 elementos e testaremos com 2500 elementos\n",
      "A acurácia foi 77.48%\n"
     ]
    }
   ],
   "source": [
    "from sklearn.preprocessing import StandardScaler\n",
    "from sklearn.model_selection import train_test_split\n",
    "from sklearn.svm import SVC\n",
    "from sklearn.metrics import accuracy_score\n",
    "\n",
    "SEED = 5\n",
    "np.random.seed(SEED)\n",
    "raw_treino_x, raw_teste_x, treino_y, teste_y = train_test_split(x, y, test_size = 0.25,\n",
    "                                                         stratify = y)\n",
    "print(\"Treinaremos com %d elementos e testaremos com %d elementos\" % (len(treino_x), len(teste_x)))\n",
    "\n",
    "scaler = StandardScaler()\n",
    "scaler.fit(raw_treino_x)\n",
    "treino_x = scaler.transform(raw_treino_x)\n",
    "teste_x = scaler.transform(raw_teste_x)\n",
    "\n",
    "modelo = SVC()\n",
    "modelo.fit(treino_x, treino_y)\n",
    "previsoes = modelo.predict(teste_x)\n",
    "\n",
    "acuracia = accuracy_score(teste_y, previsoes) * 100\n",
    "print(\"A acurácia foi %.2f%%\" % acuracia)"
   ],
   "metadata": {
    "collapsed": false,
    "pycharm": {
     "name": "#%%\n"
    }
   }
  },
  {
   "cell_type": "code",
   "execution_count": null,
   "outputs": [],
   "source": [],
   "metadata": {
    "collapsed": false,
    "pycharm": {
     "name": "#%%\n"
    }
   }
  }
 ],
 "metadata": {
  "kernelspec": {
   "display_name": "Python 3",
   "language": "python",
   "name": "python3"
  },
  "language_info": {
   "codemirror_mode": {
    "name": "ipython",
    "version": 2
   },
   "file_extension": ".py",
   "mimetype": "text/x-python",
   "name": "python",
   "nbconvert_exporter": "python",
   "pygments_lexer": "ipython2",
   "version": "2.7.6"
  }
 },
 "nbformat": 4,
 "nbformat_minor": 0
}