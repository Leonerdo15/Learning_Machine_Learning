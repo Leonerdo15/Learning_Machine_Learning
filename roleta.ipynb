{
 "cells": [
  {
   "cell_type": "code",
   "execution_count": 6,
   "metadata": {
    "collapsed": true,
    "pycharm": {
     "name": "#%%\n"
    }
   },
   "outputs": [],
   "source": [
    "import random\n",
    "import pandas as pd\n",
    "from pandas import DataFrame\n",
    "\n",
    "\n",
    "def generate_n_random_numbers(quantity):\n",
    "    return [random.randint(0, 36) for _ in range(quantity)]\n"
   ]
  },
  {
   "cell_type": "code",
   "execution_count": 7,
   "outputs": [
    {
     "name": "stdout",
     "output_type": "stream",
     "text": [
      "-------------- Game 0 --------------\n",
      "Win percentage:  0.94\n",
      "Balance:  17.79999999999996\n",
      "-------------------------------------\n",
      "\n",
      "\n",
      "-------------- Game 1 --------------\n",
      "Win percentage:  0.95\n",
      "Balance:  25.19999999999994\n",
      "-------------------------------------\n",
      "\n",
      "\n",
      "-------------- Game 2 --------------\n",
      "Win percentage:  0.9533333333333334\n",
      "Balance:  25.199999999999932\n",
      "-------------------------------------\n",
      "\n",
      "\n",
      "-------------- Game 3 --------------\n",
      "Win percentage:  0.96\n",
      "Balance:  32.59999999999993\n",
      "-------------------------------------\n",
      "\n",
      "\n",
      "-------------- Game 4 --------------\n",
      "Win percentage:  0.952\n",
      "Balance:  10.39999999999999\n",
      "-------------------------------------\n",
      "\n",
      "\n",
      "-------------- Game 5 --------------\n",
      "Win percentage:  0.9566666666666667\n",
      "Balance:  32.59999999999993\n",
      "-------------------------------------\n",
      "\n",
      "\n",
      "-------------- Game 6 --------------\n",
      "Win percentage:  0.96\n",
      "Balance:  32.59999999999993\n",
      "-------------------------------------\n",
      "\n",
      "\n",
      "-------------- Game 7 --------------\n",
      "Win percentage:  0.955\n",
      "Balance:  10.399999999999956\n",
      "-------------------------------------\n",
      "\n",
      "\n",
      "-------------- Game 8 --------------\n",
      "Win percentage:  0.9533333333333334\n",
      "Balance:  17.799999999999976\n",
      "-------------------------------------\n",
      "\n",
      "\n",
      "-------------- Game 9 --------------\n",
      "Win percentage:  0.954\n",
      "Balance:  25.199999999999967\n",
      "-------------------------------------\n",
      "\n",
      "\n",
      "-------------- Game 10 --------------\n",
      "Win percentage:  0.9509090909090909\n",
      "Balance:  10.399999999999977\n",
      "-------------------------------------\n",
      "\n",
      "\n",
      "-------------- Game 11 --------------\n",
      "Win percentage:  0.95\n",
      "Balance:  17.79999999999999\n",
      "-------------------------------------\n",
      "\n",
      "\n",
      "-------------- Game 12 --------------\n",
      "Win percentage:  0.9415384615384615\n",
      "Balance:  -19.199999999999985\n",
      "-------------------------------------\n",
      "\n",
      "\n",
      "-------------- Game 13 --------------\n",
      "Win percentage:  0.9428571428571428\n",
      "Balance:  25.199999999999932\n",
      "-------------------------------------\n",
      "\n",
      "\n",
      "-------------- Game 14 --------------\n",
      "Win percentage:  0.944\n",
      "Balance:  25.19999999999994\n",
      "-------------------------------------\n",
      "\n",
      "\n",
      "-------------- Game 15 --------------\n",
      "Win percentage:  0.94625\n",
      "Balance:  32.59999999999993\n",
      "-------------------------------------\n",
      "\n",
      "\n",
      "-------------- Game 16 --------------\n",
      "Win percentage:  0.9458823529411765\n",
      "Balance:  17.799999999999947\n",
      "-------------------------------------\n",
      "\n",
      "\n",
      "-------------- Game 17 --------------\n",
      "Win percentage:  0.9455555555555556\n",
      "Balance:  17.799999999999997\n",
      "-------------------------------------\n",
      "\n",
      "\n",
      "-------------- Game 18 --------------\n",
      "Win percentage:  0.9463157894736842\n",
      "Balance:  25.199999999999932\n",
      "-------------------------------------\n",
      "\n",
      "\n",
      "-------------- Game 19 --------------\n",
      "Win percentage:  0.949\n",
      "Balance:  39.99999999999993\n",
      "-------------------------------------\n",
      "\n",
      "\n",
      "-------------- Game 20 --------------\n",
      "Win percentage:  0.9495238095238095\n",
      "Balance:  25.19999999999994\n",
      "-------------------------------------\n",
      "\n",
      "\n",
      "-------------- Game 21 --------------\n",
      "Win percentage:  0.95\n",
      "Balance:  25.199999999999946\n",
      "-------------------------------------\n",
      "\n",
      "\n",
      "-------------- Game 22 --------------\n",
      "Win percentage:  0.9504347826086956\n",
      "Balance:  25.199999999999953\n",
      "-------------------------------------\n",
      "\n",
      "\n",
      "-------------- Game 23 --------------\n",
      "Win percentage:  0.9491666666666667\n",
      "Balance:  10.399999999999974\n",
      "-------------------------------------\n",
      "\n",
      "\n",
      "-------------- Game 24 --------------\n",
      "Win percentage:  0.9488\n",
      "Balance:  17.799999999999947\n",
      "-------------------------------------\n",
      "\n",
      "\n",
      "-------------- Game 25 --------------\n",
      "Win percentage:  0.9461538461538461\n",
      "Balance:  -4.399999999999984\n",
      "-------------------------------------\n",
      "\n",
      "\n",
      "-------------- Game 26 --------------\n",
      "Win percentage:  0.945925925925926\n",
      "Balance:  17.799999999999997\n",
      "-------------------------------------\n",
      "\n",
      "\n",
      "-------------- Game 27 --------------\n",
      "Win percentage:  0.9478571428571428\n",
      "Balance:  39.99999999999993\n",
      "-------------------------------------\n",
      "\n",
      "\n",
      "-------------- Game 28 --------------\n",
      "Win percentage:  0.9475862068965517\n",
      "Balance:  17.79999999999999\n",
      "-------------------------------------\n",
      "\n",
      "\n",
      "-------------- Game 29 --------------\n",
      "Win percentage:  0.9493333333333334\n",
      "Balance:  39.99999999999993\n",
      "-------------------------------------\n",
      "\n",
      "\n",
      "-------------- Game 30 --------------\n",
      "Win percentage:  0.9451612903225807\n",
      "Balance:  -26.600000000000023\n",
      "-------------------------------------\n",
      "\n",
      "\n",
      "-------------- Game 31 --------------\n",
      "Win percentage:  0.944375\n",
      "Balance:  10.399999999999983\n",
      "-------------------------------------\n",
      "\n",
      "\n",
      "-------------- Game 32 --------------\n",
      "Win percentage:  0.9448484848484848\n",
      "Balance:  25.199999999999932\n",
      "-------------------------------------\n",
      "\n",
      "\n",
      "-------------- Game 33 --------------\n",
      "Win percentage:  0.9452941176470588\n",
      "Balance:  25.199999999999932\n",
      "-------------------------------------\n",
      "\n",
      "\n",
      "-------------- Game 34 --------------\n",
      "Win percentage:  0.9457142857142857\n",
      "Balance:  25.199999999999932\n",
      "-------------------------------------\n",
      "\n",
      "\n",
      "-------------- Game 35 --------------\n",
      "Win percentage:  0.9455555555555556\n",
      "Balance:  17.799999999999947\n",
      "-------------------------------------\n",
      "\n",
      "\n",
      "-------------- Game 36 --------------\n",
      "Win percentage:  0.9454054054054054\n",
      "Balance:  17.79999999999997\n",
      "-------------------------------------\n",
      "\n",
      "\n",
      "-------------- Game 37 --------------\n",
      "Win percentage:  0.9452631578947368\n",
      "Balance:  17.799999999999976\n",
      "-------------------------------------\n",
      "\n",
      "\n",
      "-------------- Game 38 --------------\n",
      "Win percentage:  0.9461538461538461\n",
      "Balance:  32.59999999999993\n",
      "-------------------------------------\n",
      "\n",
      "\n",
      "-------------- Game 39 --------------\n",
      "Win percentage:  0.947\n",
      "Balance:  32.59999999999993\n",
      "-------------------------------------\n",
      "\n",
      "\n",
      "-------------- Game 40 --------------\n",
      "Win percentage:  0.9478048780487804\n",
      "Balance:  32.59999999999993\n",
      "-------------------------------------\n",
      "\n",
      "\n",
      "-------------- Game 41 --------------\n",
      "Win percentage:  0.9480952380952381\n",
      "Balance:  25.199999999999932\n",
      "-------------------------------------\n",
      "\n",
      "\n",
      "-------------- Game 42 --------------\n",
      "Win percentage:  0.9493023255813954\n",
      "Balance:  39.99999999999993\n",
      "-------------------------------------\n",
      "\n",
      "\n",
      "-------------- Game 43 --------------\n",
      "Win percentage:  0.9468181818181818\n",
      "Balance:  -19.200000000000017\n",
      "-------------------------------------\n",
      "\n",
      "\n",
      "-------------- Game 44 --------------\n",
      "Win percentage:  0.9471111111111111\n",
      "Balance:  25.199999999999932\n",
      "-------------------------------------\n",
      "\n",
      "\n",
      "-------------- Game 45 --------------\n",
      "Win percentage:  0.947391304347826\n",
      "Balance:  25.199999999999932\n",
      "-------------------------------------\n",
      "\n",
      "\n",
      "-------------- Game 46 --------------\n",
      "Win percentage:  0.9468085106382979\n",
      "Balance:  10.39999999999997\n",
      "-------------------------------------\n",
      "\n",
      "\n",
      "-------------- Game 47 --------------\n",
      "Win percentage:  0.9466666666666667\n",
      "Balance:  17.80000000000001\n",
      "-------------------------------------\n",
      "\n",
      "\n",
      "-------------- Game 48 --------------\n",
      "Win percentage:  0.9473469387755102\n",
      "Balance:  32.59999999999993\n",
      "-------------------------------------\n",
      "\n",
      "\n",
      "-------------- Game 49 --------------\n",
      "Win percentage:  0.9476\n",
      "Balance:  25.199999999999967\n",
      "-------------------------------------\n",
      "\n",
      "\n"
     ]
    }
   ],
   "source": [
    "balance = 20\n",
    "bet = 0.20\n",
    "\n",
    "win = 0\n",
    "lose = 0\n",
    "\n",
    "save_profit_games = []\n",
    "\n",
    "quant_number_in_blank = 2\n",
    "\n",
    "numbers = generate_n_random_numbers(quant_number_in_blank)\n",
    "\n",
    "for _ in range(50):\n",
    "    balance = 20\n",
    "    for i in range(50):\n",
    "\n",
    "        bad_luck_number = generate_n_random_numbers(quant_number_in_blank)\n",
    "\n",
    "        lucky_number = random.randint(0, 36)\n",
    "\n",
    "        numbers.append(lucky_number)\n",
    "\n",
    "        if lucky_number in bad_luck_number:\n",
    "\n",
    "            balance -= bet * (37 - quant_number_in_blank)\n",
    "            lose += 1\n",
    "        else:\n",
    "\n",
    "            balance += ((bet * 37) - (bet * (37 - quant_number_in_blank)))\n",
    "            win += 1\n",
    "\n",
    "    save_profit_games.append(balance - 20)\n",
    "    print(f'-------------- Game {_} --------------')\n",
    "    win_percentage = win / (win + lose)\n",
    "    print(\"Win percentage: \", win_percentage)\n",
    "    print(\"Balance: \", balance)\n",
    "    print('-------------------------------------')\n",
    "    print(\"\\n\")"
   ],
   "metadata": {
    "collapsed": false,
    "pycharm": {
     "name": "#%%\n"
    }
   }
  },
  {
   "cell_type": "code",
   "execution_count": 8,
   "outputs": [
    {
     "data": {
      "text/plain": "    profit\n0     -2.2\n1      5.2\n2      5.2\n3     12.6\n4     -9.6\n5     12.6\n6     12.6\n7     -9.6\n8     -2.2\n9      5.2\n10    -9.6\n11    -2.2\n12   -39.2\n13     5.2\n14     5.2\n15    12.6\n16    -2.2\n17    -2.2\n18     5.2\n19    20.0\n20     5.2\n21     5.2\n22     5.2\n23    -9.6\n24    -2.2\n25   -24.4\n26    -2.2\n27    20.0\n28    -2.2\n29    20.0\n30   -46.6\n31    -9.6\n32     5.2\n33     5.2\n34     5.2\n35    -2.2\n36    -2.2\n37    -2.2\n38    12.6\n39    12.6\n40    12.6\n41     5.2\n42    20.0\n43   -39.2\n44     5.2\n45     5.2\n46    -9.6\n47    -2.2\n48    12.6\n49     5.2",
      "text/html": "<div>\n<style scoped>\n    .dataframe tbody tr th:only-of-type {\n        vertical-align: middle;\n    }\n\n    .dataframe tbody tr th {\n        vertical-align: top;\n    }\n\n    .dataframe thead th {\n        text-align: right;\n    }\n</style>\n<table border=\"1\" class=\"dataframe\">\n  <thead>\n    <tr style=\"text-align: right;\">\n      <th></th>\n      <th>profit</th>\n    </tr>\n  </thead>\n  <tbody>\n    <tr>\n      <th>0</th>\n      <td>-2.2</td>\n    </tr>\n    <tr>\n      <th>1</th>\n      <td>5.2</td>\n    </tr>\n    <tr>\n      <th>2</th>\n      <td>5.2</td>\n    </tr>\n    <tr>\n      <th>3</th>\n      <td>12.6</td>\n    </tr>\n    <tr>\n      <th>4</th>\n      <td>-9.6</td>\n    </tr>\n    <tr>\n      <th>5</th>\n      <td>12.6</td>\n    </tr>\n    <tr>\n      <th>6</th>\n      <td>12.6</td>\n    </tr>\n    <tr>\n      <th>7</th>\n      <td>-9.6</td>\n    </tr>\n    <tr>\n      <th>8</th>\n      <td>-2.2</td>\n    </tr>\n    <tr>\n      <th>9</th>\n      <td>5.2</td>\n    </tr>\n    <tr>\n      <th>10</th>\n      <td>-9.6</td>\n    </tr>\n    <tr>\n      <th>11</th>\n      <td>-2.2</td>\n    </tr>\n    <tr>\n      <th>12</th>\n      <td>-39.2</td>\n    </tr>\n    <tr>\n      <th>13</th>\n      <td>5.2</td>\n    </tr>\n    <tr>\n      <th>14</th>\n      <td>5.2</td>\n    </tr>\n    <tr>\n      <th>15</th>\n      <td>12.6</td>\n    </tr>\n    <tr>\n      <th>16</th>\n      <td>-2.2</td>\n    </tr>\n    <tr>\n      <th>17</th>\n      <td>-2.2</td>\n    </tr>\n    <tr>\n      <th>18</th>\n      <td>5.2</td>\n    </tr>\n    <tr>\n      <th>19</th>\n      <td>20.0</td>\n    </tr>\n    <tr>\n      <th>20</th>\n      <td>5.2</td>\n    </tr>\n    <tr>\n      <th>21</th>\n      <td>5.2</td>\n    </tr>\n    <tr>\n      <th>22</th>\n      <td>5.2</td>\n    </tr>\n    <tr>\n      <th>23</th>\n      <td>-9.6</td>\n    </tr>\n    <tr>\n      <th>24</th>\n      <td>-2.2</td>\n    </tr>\n    <tr>\n      <th>25</th>\n      <td>-24.4</td>\n    </tr>\n    <tr>\n      <th>26</th>\n      <td>-2.2</td>\n    </tr>\n    <tr>\n      <th>27</th>\n      <td>20.0</td>\n    </tr>\n    <tr>\n      <th>28</th>\n      <td>-2.2</td>\n    </tr>\n    <tr>\n      <th>29</th>\n      <td>20.0</td>\n    </tr>\n    <tr>\n      <th>30</th>\n      <td>-46.6</td>\n    </tr>\n    <tr>\n      <th>31</th>\n      <td>-9.6</td>\n    </tr>\n    <tr>\n      <th>32</th>\n      <td>5.2</td>\n    </tr>\n    <tr>\n      <th>33</th>\n      <td>5.2</td>\n    </tr>\n    <tr>\n      <th>34</th>\n      <td>5.2</td>\n    </tr>\n    <tr>\n      <th>35</th>\n      <td>-2.2</td>\n    </tr>\n    <tr>\n      <th>36</th>\n      <td>-2.2</td>\n    </tr>\n    <tr>\n      <th>37</th>\n      <td>-2.2</td>\n    </tr>\n    <tr>\n      <th>38</th>\n      <td>12.6</td>\n    </tr>\n    <tr>\n      <th>39</th>\n      <td>12.6</td>\n    </tr>\n    <tr>\n      <th>40</th>\n      <td>12.6</td>\n    </tr>\n    <tr>\n      <th>41</th>\n      <td>5.2</td>\n    </tr>\n    <tr>\n      <th>42</th>\n      <td>20.0</td>\n    </tr>\n    <tr>\n      <th>43</th>\n      <td>-39.2</td>\n    </tr>\n    <tr>\n      <th>44</th>\n      <td>5.2</td>\n    </tr>\n    <tr>\n      <th>45</th>\n      <td>5.2</td>\n    </tr>\n    <tr>\n      <th>46</th>\n      <td>-9.6</td>\n    </tr>\n    <tr>\n      <th>47</th>\n      <td>-2.2</td>\n    </tr>\n    <tr>\n      <th>48</th>\n      <td>12.6</td>\n    </tr>\n    <tr>\n      <th>49</th>\n      <td>5.2</td>\n    </tr>\n  </tbody>\n</table>\n</div>"
     },
     "execution_count": 8,
     "metadata": {},
     "output_type": "execute_result"
    }
   ],
   "source": [
    "df = DataFrame(save_profit_games, columns=['profit'])\n",
    "df"
   ],
   "metadata": {
    "collapsed": false,
    "pycharm": {
     "name": "#%%\n"
    }
   }
  },
  {
   "cell_type": "code",
   "execution_count": 9,
   "outputs": [
    {
     "data": {
      "text/plain": "<Figure size 432x288 with 1 Axes>",
      "image/png": "[encoded data removed]"
     },
     "metadata": {
      "needs_background": "light"
     },
     "output_type": "display_data"
    }
   ],
   "source": [
    "import matplotlib.pyplot as plt\n",
    "\n",
    "# plotting the points\n",
    "plt.plot(df.index, df.profit)\n",
    "\n",
    "# naming the x axis\n",
    "plt.xlabel('x - axis')\n",
    "# naming the y axis\n",
    "plt.ylabel('y - profit')\n",
    "\n",
    "# giving a title to my graph\n",
    "plt.title('My first graph!')\n",
    "\n",
    "# function to show the plot\n",
    "plt.show()"
   ],
   "metadata": {
    "collapsed": false,
    "pycharm": {
     "name": "#%%\n"
    }
   }
  },
  {
   "cell_type": "code",
   "execution_count": 10,
   "outputs": [
    {
     "data": {
      "text/plain": "          profit\ncount  50.000000\nmean    0.612000\nstd    14.095326\nmin   -46.600000\n25%    -2.200000\n50%     5.200000\n75%     5.200000\nmax    20.000000",
      "text/html": "<div>\n<style scoped>\n    .dataframe tbody tr th:only-of-type {\n        vertical-align: middle;\n    }\n\n    .dataframe tbody tr th {\n        vertical-align: top;\n    }\n\n    .dataframe thead th {\n        text-align: right;\n    }\n</style>\n<table border=\"1\" class=\"dataframe\">\n  <thead>\n    <tr style=\"text-align: right;\">\n      <th></th>\n      <th>profit</th>\n    </tr>\n  </thead>\n  <tbody>\n    <tr>\n      <th>count</th>\n      <td>50.000000</td>\n    </tr>\n    <tr>\n      <th>mean</th>\n      <td>0.612000</td>\n    </tr>\n    <tr>\n      <th>std</th>\n      <td>14.095326</td>\n    </tr>\n    <tr>\n      <th>min</th>\n      <td>-46.600000</td>\n    </tr>\n    <tr>\n      <th>25%</th>\n      <td>-2.200000</td>\n    </tr>\n    <tr>\n      <th>50%</th>\n      <td>5.200000</td>\n    </tr>\n    <tr>\n      <th>75%</th>\n      <td>5.200000</td>\n    </tr>\n    <tr>\n      <th>max</th>\n      <td>20.000000</td>\n    </tr>\n  </tbody>\n</table>\n</div>"
     },
     "execution_count": 10,
     "metadata": {},
     "output_type": "execute_result"
    }
   ],
   "source": [
    "df.describe()"
   ],
   "metadata": {
    "collapsed": false,
    "pycharm": {
     "name": "#%%\n"
    }
   }
  },
  {
   "cell_type": "code",
   "execution_count": 11,
   "outputs": [
    {
     "data": {
      "text/plain": "<Figure size 720x360 with 1 Axes>",
      "image/png": "[encoded data removed]"
     },
     "metadata": {
      "needs_background": "light"
     },
     "output_type": "display_data"
    }
   ],
   "source": [
    "import numpy as np\n",
    "import matplotlib.pyplot as plt\n",
    "\n",
    "fig = plt.figure(figsize = (10, 5))\n",
    "\n",
    "# creating the bar plot\n",
    "plt.bar(df.index, df.profit,\n",
    "        width = 0.4)\n",
    "\n",
    "plt.xlabel(\"Courses offered\")\n",
    "plt.ylabel(\"No. of students enrolled\")\n",
    "plt.title(\"Students enrolled in different courses\")\n",
    "plt.show()\n",
    "\n"
   ],
   "metadata": {
    "collapsed": false,
    "pycharm": {
     "name": "#%%\n"
    }
   }
  },
  {
   "cell_type": "code",
   "execution_count": 12,
   "outputs": [
    {
     "data": {
      "text/plain": "<Figure size 432x288 with 1 Axes>",
      "image/png": "[encoded data removed]"
     },
     "metadata": {
      "needs_background": "light"
     },
     "output_type": "display_data"
    }
   ],
   "source": [
    "import math\n",
    "import matplotlib.pyplot as plt\n",
    "\n",
    "lista = []\n",
    "\n",
    "for i in range(10):\n",
    "    lista.append(math.sin(i))\n",
    "\n",
    "\n",
    "\n",
    "\n",
    "plt.plot(lista)\n",
    "plt.plot(lista, 'g-')\n",
    "plt.grid(lista)\n",
    "plt.xlabel(\"abcissa\")\n",
    "plt.ylabel(\"ordenada\")\n",
    "plt.show(lista)\n"
   ],
   "metadata": {
    "collapsed": false,
    "pycharm": {
     "name": "#%%\n"
    }
   }
  },
  {
   "cell_type": "code",
   "execution_count": 12,
   "outputs": [],
   "source": [],
   "metadata": {
    "collapsed": false,
    "pycharm": {
     "name": "#%%\n"
    }
   }
  }
 ],
 "metadata": {
  "kernelspec": {
   "display_name": "Python 3",
   "language": "python",
   "name": "python3"
  },
  "language_info": {
   "codemirror_mode": {
    "name": "ipython",
    "version": 2
   },
   "file_extension": ".py",
   "mimetype": "text/x-python",
   "name": "python",
   "nbconvert_exporter": "python",
   "pygments_lexer": "ipython2",
   "version": "2.7.6"
  }
 },
 "nbformat": 4,
 "nbformat_minor": 0
}